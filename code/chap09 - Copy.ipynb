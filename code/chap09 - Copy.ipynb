{
 "cells": [
  {
   "cell_type": "markdown",
   "metadata": {},
   "source": [
    "# Modeling and Simulation in Python\n",
    "\n",
    "Chapter 9: Projectiles\n",
    "\n",
    "Copyright 2017 Allen Downey\n",
    "\n",
    "License: [Creative Commons Attribution 4.0 International](https://creativecommons.org/licenses/by/4.0)\n"
   ]
  },
  {
   "cell_type": "code",
   "execution_count": 1,
   "metadata": {
    "collapsed": true
   },
   "outputs": [],
   "source": [
    "# If you want the figures to appear in the notebook, \n",
    "# and you want to interact with them, use\n",
    "# %matplotlib notebook\n",
    "\n",
    "# If you want the figures to appear in the notebook, \n",
    "# and you don't want to interact with them, use\n",
    "# %matplotlib inline\n",
    "\n",
    "# If you want the figures to appear in separate windows, use\n",
    "# %matplotlib qt5\n",
    "\n",
    "# tempo switch from one to another, you have to select Kernel->Restart\n",
    "\n",
    "%matplotlib inline\n",
    "\n",
    "from modsim import *"
   ]
  },
  {
   "cell_type": "markdown",
   "metadata": {
    "collapsed": true
   },
   "source": [
    "### Dropping pennies\n",
    "\n",
    "I'll start by getting the units we'll need from Pint."
   ]
  },
  {
   "cell_type": "code",
   "execution_count": 2,
   "metadata": {
    "collapsed": true
   },
   "outputs": [],
   "source": [
    "m = UNITS.meter\n",
    "s = UNITS.second\n",
    "kg = UNITS.kilogram"
   ]
  },
  {
   "cell_type": "markdown",
   "metadata": {
    "collapsed": true
   },
   "source": [
    "And defining the initial state."
   ]
  },
  {
   "cell_type": "code",
   "execution_count": 3,
   "metadata": {
    "scrolled": true
   },
   "outputs": [
    {
     "data": {
      "text/html": [
       "<div>\n",
       "<style>\n",
       "    .dataframe thead tr:only-child th {\n",
       "        text-align: right;\n",
       "    }\n",
       "\n",
       "    .dataframe thead th {\n",
       "        text-align: left;\n",
       "    }\n",
       "\n",
       "    .dataframe tbody tr th {\n",
       "        vertical-align: top;\n",
       "    }\n",
       "</style>\n",
       "<table border=\"1\" class=\"dataframe\">\n",
       "  <thead>\n",
       "    <tr style=\"text-align: right;\">\n",
       "      <th></th>\n",
       "      <th>value</th>\n",
       "    </tr>\n",
       "  </thead>\n",
       "  <tbody>\n",
       "    <tr>\n",
       "      <th>y</th>\n",
       "      <td>381 meter</td>\n",
       "    </tr>\n",
       "    <tr>\n",
       "      <th>v</th>\n",
       "      <td>0.0 meter / second</td>\n",
       "    </tr>\n",
       "  </tbody>\n",
       "</table>\n",
       "</div>"
      ],
      "text/plain": [
       "y             381 meter\n",
       "v    0.0 meter / second\n",
       "dtype: object"
      ]
     },
     "execution_count": 3,
     "metadata": {},
     "output_type": "execute_result"
    }
   ],
   "source": [
    "init = State(y=381 * m, \n",
    "             v=0 * m/s)\n",
    "init"
   ]
  },
  {
   "cell_type": "markdown",
   "metadata": {
    "collapsed": true
   },
   "source": [
    "Acceleration due to gravity is about 9.8 m / s$^2$."
   ]
  },
  {
   "cell_type": "code",
   "execution_count": 4,
   "metadata": {
    "collapsed": true
   },
   "outputs": [],
   "source": [
    "g = 9.8 * m/s**2"
   ]
  },
  {
   "cell_type": "markdown",
   "metadata": {
    "collapsed": true
   },
   "source": [
    "When we call `odeint`, we need an array of timestamps where we want to compute the solution.\n",
    "\n",
    "I'll start with a duration of 10 seconds."
   ]
  },
  {
   "cell_type": "code",
   "execution_count": 17,
   "metadata": {},
   "outputs": [
    {
     "data": {
      "text/html": [
       "[  0.           0.09174312   0.18348624   0.27522936   0.36697248   0.4587156    0.55045872   0.64220183   0.73394495   0.82568807   0.91743119   1.00917431   1.10091743   1.19266055   1.28440367   1.37614679   1.46788991   1.55963303   1.65137615   1.74311927   1.83486239   1.9266055    2.01834862   2.11009174   2.20183486   2.29357798   2.3853211    2.47706422   2.56880734   2.66055046   2.75229358   2.8440367    2.93577982   3.02752294   3.11926606   3.21100917   3.30275229   3.39449541   3.48623853   3.57798165   3.66972477   3.76146789   3.85321101   3.94495413   4.03669725   4.12844037   4.22018349   4.31192661   4.40366972   4.49541284   4.58715596   4.67889908   4.7706422    4.86238532   4.95412844   5.04587156   5.13761468   5.2293578    5.32110092   5.41284404   5.50458716   5.59633028   5.68807339   5.77981651   5.87155963   5.96330275   6.05504587   6.14678899   6.23853211   6.33027523   6.42201835   6.51376147   6.60550459   6.69724771   6.78899083   6.88073394   6.97247706   7.06422018   7.1559633    7.24770642   7.33944954   7.43119266   7.52293578   7.6146789    7.70642202   7.79816514   7.88990826   7.98165138   8.0733945    8.16513761   8.25688073   8.34862385   8.44036697   8.53211009   8.62385321   8.71559633   8.80733945   8.89908257   8.99082569   9.08256881   9.17431193   9.26605505   9.35779817   9.44954128   9.5412844   9.63302752   9.72477064   9.81651376   9.90825688  10.        ] second"
      ],
      "text/latex": [
       "$[  0.           0.09174312   0.18348624   0.27522936   0.36697248   0.4587156    0.55045872   0.64220183   0.73394495   0.82568807   0.91743119   1.00917431   1.10091743   1.19266055   1.28440367   1.37614679   1.46788991   1.55963303   1.65137615   1.74311927   1.83486239   1.9266055    2.01834862   2.11009174   2.20183486   2.29357798   2.3853211    2.47706422   2.56880734   2.66055046   2.75229358   2.8440367    2.93577982   3.02752294   3.11926606   3.21100917   3.30275229   3.39449541   3.48623853   3.57798165   3.66972477   3.76146789   3.85321101   3.94495413   4.03669725   4.12844037   4.22018349   4.31192661   4.40366972   4.49541284   4.58715596   4.67889908   4.7706422    4.86238532   4.95412844   5.04587156   5.13761468   5.2293578    5.32110092   5.41284404   5.50458716   5.59633028   5.68807339   5.77981651   5.87155963   5.96330275   6.05504587   6.14678899   6.23853211   6.33027523   6.42201835   6.51376147   6.60550459   6.69724771   6.78899083   6.88073394   6.97247706   7.06422018   7.1559633    7.24770642   7.33944954   7.43119266   7.52293578   7.6146789    7.70642202   7.79816514   7.88990826   7.98165138   8.0733945    8.16513761   8.25688073   8.34862385   8.44036697   8.53211009   8.62385321   8.71559633   8.80733945   8.89908257   8.99082569   9.08256881   9.17431193   9.26605505   9.35779817   9.44954128   9.5412844   9.63302752   9.72477064   9.81651376   9.90825688  10.        ] second$"
      ],
      "text/plain": [
       "<Quantity([  0.           0.09174312   0.18348624   0.27522936   0.36697248\n",
       "   0.4587156    0.55045872   0.64220183   0.73394495   0.82568807\n",
       "   0.91743119   1.00917431   1.10091743   1.19266055   1.28440367\n",
       "   1.37614679   1.46788991   1.55963303   1.65137615   1.74311927\n",
       "   1.83486239   1.9266055    2.01834862   2.11009174   2.20183486\n",
       "   2.29357798   2.3853211    2.47706422   2.56880734   2.66055046\n",
       "   2.75229358   2.8440367    2.93577982   3.02752294   3.11926606\n",
       "   3.21100917   3.30275229   3.39449541   3.48623853   3.57798165\n",
       "   3.66972477   3.76146789   3.85321101   3.94495413   4.03669725\n",
       "   4.12844037   4.22018349   4.31192661   4.40366972   4.49541284\n",
       "   4.58715596   4.67889908   4.7706422    4.86238532   4.95412844\n",
       "   5.04587156   5.13761468   5.2293578    5.32110092   5.41284404\n",
       "   5.50458716   5.59633028   5.68807339   5.77981651   5.87155963\n",
       "   5.96330275   6.05504587   6.14678899   6.23853211   6.33027523\n",
       "   6.42201835   6.51376147   6.60550459   6.69724771   6.78899083\n",
       "   6.88073394   6.97247706   7.06422018   7.1559633    7.24770642\n",
       "   7.33944954   7.43119266   7.52293578   7.6146789    7.70642202\n",
       "   7.79816514   7.88990826   7.98165138   8.0733945    8.16513761\n",
       "   8.25688073   8.34862385   8.44036697   8.53211009   8.62385321\n",
       "   8.71559633   8.80733945   8.89908257   8.99082569   9.08256881\n",
       "   9.17431193   9.26605505   9.35779817   9.44954128   9.5412844\n",
       "   9.63302752   9.72477064   9.81651376   9.90825688  10.        ], 'second')>"
      ]
     },
     "execution_count": 17,
     "metadata": {},
     "output_type": "execute_result"
    }
   ],
   "source": [
    "duration = 10 * s\n",
    "ts = linspace(0, duration, 110)\n",
    "ts"
   ]
  },
  {
   "cell_type": "markdown",
   "metadata": {
    "collapsed": true
   },
   "source": [
    "Now we make a `System` object."
   ]
  },
  {
   "cell_type": "code",
   "execution_count": 18,
   "metadata": {
    "collapsed": true
   },
   "outputs": [],
   "source": [
    "system = System(init=init, g=g, ts=ts)"
   ]
  },
  {
   "cell_type": "markdown",
   "metadata": {
    "collapsed": true
   },
   "source": [
    "And define the slope function."
   ]
  },
  {
   "cell_type": "code",
   "execution_count": 14,
   "metadata": {
    "collapsed": true
   },
   "outputs": [],
   "source": [
    "def slope_func(state, t, system):\n",
    "    \"\"\"Compute derivatives of the state.\n",
    "    \n",
    "    state: position, velocity\n",
    "    t: time\n",
    "    system: System object containing `g`\n",
    "    \n",
    "    returns: derivatives of y and v\n",
    "    \"\"\"\n",
    "    y, v = state\n",
    "    unpack(system)    \n",
    "\n",
    "    dydt = v\n",
    "    dvdt = -g\n",
    "    print(t)\n",
    "    return dydt, dvdt"
   ]
  },
  {
   "cell_type": "markdown",
   "metadata": {
    "collapsed": true
   },
   "source": [
    "It's always a good idea to test the slope function with the initial conditions."
   ]
  },
  {
   "cell_type": "code",
   "execution_count": 20,
   "metadata": {},
   "outputs": [
    {
     "name": "stdout",
     "output_type": "stream",
     "text": [
      "0\n",
      "0.0 meter / second\n",
      "-9.8 meter / second ** 2\n"
     ]
    }
   ],
   "source": [
    "dydt, dvdt = slope_func(init, 0, system)\n",
    "print(dydt)\n",
    "print(dvdt)"
   ]
  },
  {
   "cell_type": "markdown",
   "metadata": {
    "collapsed": true
   },
   "source": [
    "Now we're ready to run `odeint`"
   ]
  },
  {
   "cell_type": "code",
   "execution_count": 21,
   "metadata": {},
   "outputs": [
    {
     "name": "stdout",
     "output_type": "stream",
     "text": [
      "0.0 second\n",
      "0.0\n",
      "8.328042692589742e-06\n",
      "8.328042692589742e-06\n",
      "1.6656085385179485e-05\n",
      "1.6656085385179485e-05\n",
      "0.0832970830112826\n",
      "0.16657750993718\n",
      "0.24985793686307745\n",
      "1.0826622061220517\n",
      "1.915466475381026\n",
      "2.74827074464\n",
      "11.076313437229743\n"
     ]
    }
   ],
   "source": [
    "run_odeint(system, slope_func)"
   ]
  },
  {
   "cell_type": "markdown",
   "metadata": {
    "collapsed": true
   },
   "source": [
    "Here's what the results look like."
   ]
  },
  {
   "cell_type": "code",
   "execution_count": 22,
   "metadata": {},
   "outputs": [
    {
     "data": {
      "text/html": [
       "<div>\n",
       "<style>\n",
       "    .dataframe thead tr:only-child th {\n",
       "        text-align: right;\n",
       "    }\n",
       "\n",
       "    .dataframe thead th {\n",
       "        text-align: left;\n",
       "    }\n",
       "\n",
       "    .dataframe tbody tr th {\n",
       "        vertical-align: top;\n",
       "    }\n",
       "</style>\n",
       "<table border=\"1\" class=\"dataframe\">\n",
       "  <thead>\n",
       "    <tr style=\"text-align: right;\">\n",
       "      <th></th>\n",
       "      <th>y</th>\n",
       "      <th>v</th>\n",
       "    </tr>\n",
       "  </thead>\n",
       "  <tbody>\n",
       "    <tr>\n",
       "      <th>0.000000</th>\n",
       "      <td>381.000000</td>\n",
       "      <td>0.000000</td>\n",
       "    </tr>\n",
       "    <tr>\n",
       "      <th>0.091743</th>\n",
       "      <td>380.958758</td>\n",
       "      <td>-0.899083</td>\n",
       "    </tr>\n",
       "    <tr>\n",
       "      <th>0.183486</th>\n",
       "      <td>380.835031</td>\n",
       "      <td>-1.798165</td>\n",
       "    </tr>\n",
       "    <tr>\n",
       "      <th>0.275229</th>\n",
       "      <td>380.628819</td>\n",
       "      <td>-2.697248</td>\n",
       "    </tr>\n",
       "    <tr>\n",
       "      <th>0.366972</th>\n",
       "      <td>380.340123</td>\n",
       "      <td>-3.596330</td>\n",
       "    </tr>\n",
       "  </tbody>\n",
       "</table>\n",
       "</div>"
      ],
      "text/plain": [
       "                   y         v\n",
       "0.000000  381.000000  0.000000\n",
       "0.091743  380.958758 -0.899083\n",
       "0.183486  380.835031 -1.798165\n",
       "0.275229  380.628819 -2.697248\n",
       "0.366972  380.340123 -3.596330"
      ]
     },
     "execution_count": 22,
     "metadata": {},
     "output_type": "execute_result"
    }
   ],
   "source": [
    "system.results.head()"
   ]
  },
  {
   "cell_type": "code",
   "execution_count": 23,
   "metadata": {},
   "outputs": [
    {
     "data": {
      "text/html": [
       "<div>\n",
       "<style>\n",
       "    .dataframe thead tr:only-child th {\n",
       "        text-align: right;\n",
       "    }\n",
       "\n",
       "    .dataframe thead th {\n",
       "        text-align: left;\n",
       "    }\n",
       "\n",
       "    .dataframe tbody tr th {\n",
       "        vertical-align: top;\n",
       "    }\n",
       "</style>\n",
       "<table border=\"1\" class=\"dataframe\">\n",
       "  <thead>\n",
       "    <tr style=\"text-align: right;\">\n",
       "      <th></th>\n",
       "      <th>y</th>\n",
       "      <th>v</th>\n",
       "    </tr>\n",
       "  </thead>\n",
       "  <tbody>\n",
       "    <tr>\n",
       "      <th>9.633028</th>\n",
       "      <td>-73.696574</td>\n",
       "      <td>-94.403670</td>\n",
       "    </tr>\n",
       "    <tr>\n",
       "      <th>9.724771</th>\n",
       "      <td>-82.398704</td>\n",
       "      <td>-95.302752</td>\n",
       "    </tr>\n",
       "    <tr>\n",
       "      <th>9.816514</th>\n",
       "      <td>-91.183318</td>\n",
       "      <td>-96.201835</td>\n",
       "    </tr>\n",
       "    <tr>\n",
       "      <th>9.908257</th>\n",
       "      <td>-100.050417</td>\n",
       "      <td>-97.100917</td>\n",
       "    </tr>\n",
       "    <tr>\n",
       "      <th>10.000000</th>\n",
       "      <td>-109.000000</td>\n",
       "      <td>-98.000000</td>\n",
       "    </tr>\n",
       "  </tbody>\n",
       "</table>\n",
       "</div>"
      ],
      "text/plain": [
       "                    y          v\n",
       "9.633028   -73.696574 -94.403670\n",
       "9.724771   -82.398704 -95.302752\n",
       "9.816514   -91.183318 -96.201835\n",
       "9.908257  -100.050417 -97.100917\n",
       "10.000000 -109.000000 -98.000000"
      ]
     },
     "execution_count": 23,
     "metadata": {},
     "output_type": "execute_result"
    }
   ],
   "source": [
    "system.results.tail()"
   ]
  },
  {
   "cell_type": "markdown",
   "metadata": {
    "collapsed": true
   },
   "source": [
    "The following function plots the results."
   ]
  },
  {
   "cell_type": "code",
   "execution_count": 12,
   "metadata": {
    "collapsed": true
   },
   "outputs": [],
   "source": [
    "def plot_position(results):\n",
    "    \"\"\"Plot the results.\n",
    "    \n",
    "    results: DataFrame with position, `y`\n",
    "    \"\"\"\n",
    "    newfig()\n",
    "    plot(results.y, label='y')\n",
    "        \n",
    "    decorate(xlabel='Time (s)',\n",
    "             ylabel='Position (m)')"
   ]
  },
  {
   "cell_type": "markdown",
   "metadata": {
    "collapsed": true
   },
   "source": [
    "Here's what it looks like."
   ]
  },
  {
   "cell_type": "code",
   "execution_count": 24,
   "metadata": {},
   "outputs": [
    {
     "name": "stdout",
     "output_type": "stream",
     "text": [
      "Saving figure to file chap09-fig01.pdf\n"
     ]
    },
    {
     "data": {
      "image/png": "[encoded data removed]",
      "text/plain": [
       "<matplotlib.figure.Figure at 0x1578400fc18>"
      ]
     },
     "metadata": {},
     "output_type": "display_data"
    }
   ],
   "source": [
    "plot_position(system.results)\n",
    "savefig('chap09-fig01.pdf')"
   ]
  },
  {
   "cell_type": "markdown",
   "metadata": {
    "collapsed": true
   },
   "source": [
    "**Exercise:** Add a print statement to `slope_func` to print the value of `t` each time it's called.  What can we infer about how `odeint` works, based on the results?"
   ]
  },
  {
   "cell_type": "markdown",
   "metadata": {
    "collapsed": true
   },
   "source": [
    "**Exercise:** Change the value of `dt` and run the solver again.  What effect does it have on the results?"
   ]
  },
  {
   "cell_type": "markdown",
   "metadata": {},
   "source": [
    "### Onto the sidewalk\n",
    "\n",
    "Here's the code again to set up the `System` object."
   ]
  },
  {
   "cell_type": "code",
   "execution_count": 25,
   "metadata": {
    "collapsed": true
   },
   "outputs": [],
   "source": [
    "def make_system(duration, v_init=0):\n",
    "    \"\"\"Make a system object.\n",
    "    \n",
    "    duration: time of simulation in seconds\n",
    "    v_init: initial velocity, dimensionless\n",
    "    \n",
    "    returns: System object\n",
    "    \"\"\"\n",
    "    init = State(y=381 * m, v=v_init * m / s)\n",
    "\n",
    "    g = 9.8 * m/s**2\n",
    "    ts = linspace(0, duration, 11)\n",
    "    return System(init=init, g=g, ts=ts)"
   ]
  },
  {
   "cell_type": "markdown",
   "metadata": {},
   "source": [
    "And run the simulation."
   ]
  },
  {
   "cell_type": "code",
   "execution_count": 26,
   "metadata": {
    "scrolled": true
   },
   "outputs": [
    {
     "name": "stdout",
     "output_type": "stream",
     "text": [
      "0.0\n",
      "0.0\n",
      "1.2391823754412774e-05\n",
      "1.2391823754412774e-05\n",
      "2.478364750882555e-05\n",
      "2.478364750882555e-05\n",
      "0.12394302119163657\n",
      "0.2478612587357643\n",
      "0.37177949627989204\n",
      "1.6109618717211696\n",
      "2.850144247162447\n",
      "4.089326622603725\n",
      "16.481150377016498\n"
     ]
    },
    {
     "data": {
      "text/html": [
       "<div>\n",
       "<style>\n",
       "    .dataframe thead tr:only-child th {\n",
       "        text-align: right;\n",
       "    }\n",
       "\n",
       "    .dataframe thead th {\n",
       "        text-align: left;\n",
       "    }\n",
       "\n",
       "    .dataframe tbody tr th {\n",
       "        vertical-align: top;\n",
       "    }\n",
       "</style>\n",
       "<table border=\"1\" class=\"dataframe\">\n",
       "  <thead>\n",
       "    <tr style=\"text-align: right;\">\n",
       "      <th></th>\n",
       "      <th>y</th>\n",
       "      <th>v</th>\n",
       "    </tr>\n",
       "  </thead>\n",
       "  <tbody>\n",
       "    <tr>\n",
       "      <th>0.0</th>\n",
       "      <td>381.0</td>\n",
       "      <td>0.0</td>\n",
       "    </tr>\n",
       "    <tr>\n",
       "      <th>1.0</th>\n",
       "      <td>376.1</td>\n",
       "      <td>-9.8</td>\n",
       "    </tr>\n",
       "    <tr>\n",
       "      <th>2.0</th>\n",
       "      <td>361.4</td>\n",
       "      <td>-19.6</td>\n",
       "    </tr>\n",
       "    <tr>\n",
       "      <th>3.0</th>\n",
       "      <td>336.9</td>\n",
       "      <td>-29.4</td>\n",
       "    </tr>\n",
       "    <tr>\n",
       "      <th>4.0</th>\n",
       "      <td>302.6</td>\n",
       "      <td>-39.2</td>\n",
       "    </tr>\n",
       "    <tr>\n",
       "      <th>5.0</th>\n",
       "      <td>258.5</td>\n",
       "      <td>-49.0</td>\n",
       "    </tr>\n",
       "    <tr>\n",
       "      <th>6.0</th>\n",
       "      <td>204.6</td>\n",
       "      <td>-58.8</td>\n",
       "    </tr>\n",
       "    <tr>\n",
       "      <th>7.0</th>\n",
       "      <td>140.9</td>\n",
       "      <td>-68.6</td>\n",
       "    </tr>\n",
       "    <tr>\n",
       "      <th>8.0</th>\n",
       "      <td>67.4</td>\n",
       "      <td>-78.4</td>\n",
       "    </tr>\n",
       "    <tr>\n",
       "      <th>9.0</th>\n",
       "      <td>-15.9</td>\n",
       "      <td>-88.2</td>\n",
       "    </tr>\n",
       "    <tr>\n",
       "      <th>10.0</th>\n",
       "      <td>-109.0</td>\n",
       "      <td>-98.0</td>\n",
       "    </tr>\n",
       "  </tbody>\n",
       "</table>\n",
       "</div>"
      ],
      "text/plain": [
       "          y     v\n",
       "0.0   381.0   0.0\n",
       "1.0   376.1  -9.8\n",
       "2.0   361.4 -19.6\n",
       "3.0   336.9 -29.4\n",
       "4.0   302.6 -39.2\n",
       "5.0   258.5 -49.0\n",
       "6.0   204.6 -58.8\n",
       "7.0   140.9 -68.6\n",
       "8.0    67.4 -78.4\n",
       "9.0   -15.9 -88.2\n",
       "10.0 -109.0 -98.0"
      ]
     },
     "execution_count": 26,
     "metadata": {},
     "output_type": "execute_result"
    }
   ],
   "source": [
    "system = make_system(10)\n",
    "run_odeint(system, slope_func)\n",
    "system.results"
   ]
  },
  {
   "cell_type": "markdown",
   "metadata": {
    "collapsed": true
   },
   "source": [
    "To figure out when the penny hit the sidewalk, we use `interp_inverse`, which return a function that maps from height to time."
   ]
  },
  {
   "cell_type": "code",
   "execution_count": 27,
   "metadata": {
    "collapsed": true
   },
   "outputs": [],
   "source": [
    "y = system.results.y\n",
    "T = interp_inverse(y, kind='cubic')"
   ]
  },
  {
   "cell_type": "markdown",
   "metadata": {
    "collapsed": true
   },
   "source": [
    "`T(0)` interpolates the time when the height was 0."
   ]
  },
  {
   "cell_type": "code",
   "execution_count": 28,
   "metadata": {},
   "outputs": [
    {
     "data": {
      "text/plain": [
       "array(8.81792826905006)"
      ]
     },
     "execution_count": 28,
     "metadata": {},
     "output_type": "execute_result"
    }
   ],
   "source": [
    "T_sidewalk = T(0)\n",
    "T_sidewalk"
   ]
  },
  {
   "cell_type": "markdown",
   "metadata": {
    "collapsed": true
   },
   "source": [
    "We can compare that to the exact result.  Without air resistance, we have\n",
    "\n",
    "$v = -g t$\n",
    "\n",
    "and\n",
    "\n",
    "$y = 381 - g t^2 / 2$\n",
    "\n",
    "Setting $y=0$ and solving for $t$ yields\n",
    "\n",
    "$t = \\sqrt{\\frac{2 y_{init}}{g}}$"
   ]
  },
  {
   "cell_type": "code",
   "execution_count": 29,
   "metadata": {},
   "outputs": [
    {
     "data": {
      "text/html": [
       "8.817885349720552 second"
      ],
      "text/latex": [
       "$8.817885349720552 second$"
      ],
      "text/plain": [
       "<Quantity(8.817885349720552, 'second')>"
      ]
     },
     "execution_count": 29,
     "metadata": {},
     "output_type": "execute_result"
    }
   ],
   "source": [
    "sqrt(2 * init.y / g)"
   ]
  },
  {
   "cell_type": "markdown",
   "metadata": {
    "collapsed": true
   },
   "source": [
    "The estimate is accurate to 4 decimal places."
   ]
  },
  {
   "cell_type": "markdown",
   "metadata": {
    "collapsed": true
   },
   "source": [
    "We can double-check by running the simulation for the estimated flight time."
   ]
  },
  {
   "cell_type": "code",
   "execution_count": 30,
   "metadata": {},
   "outputs": [
    {
     "name": "stdout",
     "output_type": "stream",
     "text": [
      "0.0\n",
      "0.0\n",
      "1.2373598314419205e-05\n",
      "1.2373598314419205e-05\n",
      "2.474719662883841e-05\n",
      "2.474719662883841e-05\n",
      "0.1237607303408209\n",
      "0.24749671348501295\n",
      "0.371232696629205\n",
      "1.6085925280711255\n",
      "2.845952359513046\n",
      "4.083312190954967\n",
      "16.45691050537417\n"
     ]
    }
   ],
   "source": [
    "system = make_system(duration=T_sidewalk)\n",
    "run_odeint(system, slope_func)"
   ]
  },
  {
   "cell_type": "markdown",
   "metadata": {
    "collapsed": true
   },
   "source": [
    "And checking the final state."
   ]
  },
  {
   "cell_type": "code",
   "execution_count": 31,
   "metadata": {
    "collapsed": true
   },
   "outputs": [],
   "source": [
    "def final_state(results):\n",
    "    \"\"\"Returns the final position and velocity, with units.\n",
    "    \n",
    "    results: TimeFrame with y and v.\n",
    "    \n",
    "    returns: y, v at t_end\n",
    "    \"\"\"\n",
    "    t_end = results.index[-1]\n",
    "    y, v = results.loc[t_end]\n",
    "    return y*m, v*m/s"
   ]
  },
  {
   "cell_type": "markdown",
   "metadata": {
    "collapsed": true
   },
   "source": [
    "As expected, the final height is close to 0."
   ]
  },
  {
   "cell_type": "code",
   "execution_count": 32,
   "metadata": {},
   "outputs": [
    {
     "data": {
      "text/html": [
       "-0.003708896250259386 meter"
      ],
      "text/latex": [
       "$-0.003708896250259386 meter$"
      ],
      "text/plain": [
       "<Quantity(-0.003708896250259386, 'meter')>"
      ]
     },
     "execution_count": 32,
     "metadata": {},
     "output_type": "execute_result"
    }
   ],
   "source": [
    "y_final, v_final = final_state(system.results)\n",
    "y_final"
   ]
  },
  {
   "cell_type": "markdown",
   "metadata": {
    "collapsed": true
   },
   "source": [
    "And we can check the final velocity."
   ]
  },
  {
   "cell_type": "code",
   "execution_count": 33,
   "metadata": {},
   "outputs": [
    {
     "data": {
      "text/html": [
       "-86.41569703669059 meter/second"
      ],
      "text/latex": [
       "$-86.41569703669059 \\frac{meter}{second}$"
      ],
      "text/plain": [
       "<Quantity(-86.41569703669059, 'meter / second')>"
      ]
     },
     "execution_count": 33,
     "metadata": {},
     "output_type": "execute_result"
    }
   ],
   "source": [
    "v_final"
   ]
  },
  {
   "cell_type": "markdown",
   "metadata": {
    "collapsed": true
   },
   "source": [
    "And convert to km/h"
   ]
  },
  {
   "cell_type": "code",
   "execution_count": 34,
   "metadata": {},
   "outputs": [
    {
     "data": {
      "text/html": [
       "-311.0965093320861 kilometer/hour"
      ],
      "text/latex": [
       "$-311.0965093320861 \\frac{kilometer}{hour}$"
      ],
      "text/plain": [
       "<Quantity(-311.0965093320861, 'kilometer / hour')>"
      ]
     },
     "execution_count": 34,
     "metadata": {},
     "output_type": "execute_result"
    }
   ],
   "source": [
    "km = UNITS.kilometer\n",
    "h = UNITS.hour\n",
    "v_final.to(km / h)"
   ]
  },
  {
   "cell_type": "markdown",
   "metadata": {
    "collapsed": true
   },
   "source": [
    "If there were no air resistance, the penny would hit the sidewalk (or someone's head) at more than 300 km/h.\n",
    "\n",
    "So it's a good thing there is air resistance."
   ]
  },
  {
   "cell_type": "markdown",
   "metadata": {},
   "source": [
    "**Exercise:** Try changing the initial velocity and see what effect it has on the time to hot the sidewalk.  Sweep a range of values for the initial velocity, from 0 to 25 m/s, and plot `T_sidewalk` as a function of initial velocity.  You might find the following function useful.\n",
    "\n",
    "Things might go horribly wrong for the larger initial velocities.  What's going on?"
   ]
  },
  {
   "cell_type": "code",
   "execution_count": 36,
   "metadata": {
    "collapsed": true
   },
   "outputs": [],
   "source": [
    "def flight_time(system):\n",
    "    \"\"\"Simulates the system and computes flight time.\n",
    "    \n",
    "    Uses cubic interpolation.\n",
    "    \n",
    "    system: System object\n",
    "    \n",
    "    returns: flight time in seconds\n",
    "    \"\"\"\n",
    "    run_odeint(system, slope_func)\n",
    "    y = system.results.y\n",
    "    inverse = Series(y.index, index=y.values)\n",
    "    T = interpolate(inverse, kind='cubic')\n",
    "    T_sidewalk = T(0)\n",
    "    return T_sidewalk * s"
   ]
  },
  {
   "cell_type": "code",
   "execution_count": 81,
   "metadata": {},
   "outputs": [],
   "source": [
    "def v0_sweep(v_array):\n",
    "    v_sweep = SweepSeries()\n",
    "    for v in v_array:\n",
    "        system = make_system(10, v)\n",
    "        v_sweep[v] = flight_time(system)\n",
    "    return v_sweep"
   ]
  },
  {
   "cell_type": "code",
   "execution_count": 82,
   "metadata": {},
   "outputs": [
    {
     "name": "stdout",
     "output_type": "stream",
     "text": [
      "0.0\n",
      "0.0\n",
      "0.00011809119056317364\n",
      "0.00011809119056317364\n",
      "0.0002361823811263473\n",
      "0.0002361823811263473\n",
      "1.1811480880128629\n",
      "1.1811480880128629\n",
      "2.3620599936445994\n",
      "3.5429718992763357\n",
      "15.352090955593702\n",
      "0.0\n",
      "0.0\n",
      "0.00011816662046859245\n",
      "0.00011816662046859245\n",
      "0.0002363332409371849\n",
      "0.0002363332409371849\n",
      "1.1819025379268617\n",
      "1.1819025379268617\n",
      "2.3635687426127863\n",
      "3.545234947298711\n",
      "15.361896994157958\n",
      "0.0\n",
      "0.0\n",
      "0.00011824143483433165\n",
      "0.00011824143483433165\n",
      "0.0002364828696686633\n",
      "0.0002364828696686633\n",
      "1.182650831212985\n",
      "1.182650831212985\n",
      "2.365065179556302\n",
      "3.5474795278996183\n",
      "15.371623011332783\n",
      "0.0\n",
      "0.0\n",
      "0.0001183156297834219\n",
      "0.0001183156297834219\n",
      "0.0002366312595668438\n",
      "0.0002366312595668438\n",
      "1.1833929290937857\n",
      "2.3665492269280044\n",
      "3.5497055247622233\n",
      "15.381268503104412\n",
      "0.0\n",
      "0.0\n",
      "0.00011838920145767843\n",
      "0.00011838920145767843\n",
      "0.00023677840291535686\n",
      "0.00023677840291535686\n",
      "1.1841287929796995\n",
      "2.3680208075564835\n",
      "3.551912822133268\n",
      "15.39083296790111\n",
      "0.0\n",
      "0.0\n",
      "0.0001184621460182058\n",
      "0.0001184621460182058\n",
      "0.0002369242920364116\n",
      "0.0002369242920364116\n",
      "1.1848583844740945\n",
      "1.1848583844740945\n",
      "2.3694798446561527\n",
      "3.554101304838211\n",
      "15.400315906658792\n",
      "0.0\n",
      "0.0\n",
      "0.00011853445964590269\n",
      "0.00011853445964590269\n",
      "0.00023706891929180539\n",
      "0.00023706891929180539\n",
      "1.1855816653783189\n",
      "1.1855816653783189\n",
      "2.370926261837346\n",
      "3.556270858296373\n",
      "15.409716822886644\n",
      "0.0\n",
      "0.0\n",
      "0.00011860613854196724\n",
      "0.00011860613854196724\n",
      "0.00023721227708393448\n",
      "0.00023721227708393448\n",
      "1.1862985976967564\n",
      "1.1862985976967564\n",
      "2.3723599831164286\n",
      "3.5584213685361012\n",
      "15.419035222732827\n",
      "0.0\n",
      "0.0\n",
      "0.00011867717892840233\n",
      "0.00011867717892840233\n",
      "0.00023735435785680466\n",
      "0.00023735435785680466\n",
      "1.1870091436418801\n",
      "1.1870091436418801\n",
      "2.3737809329259036\n",
      "3.560552722209927\n",
      "15.42827061505016\n",
      "0.0\n",
      "0.0\n",
      "0.00011874757704852112\n",
      "0.00011874757704852112\n",
      "0.00023749515409704223\n",
      "0.00023749515409704223\n",
      "1.1877132656393083\n",
      "1.1877132656393083\n",
      "2.3751890361245196\n",
      "3.562664806609731\n",
      "15.437422511461843\n",
      "0.0\n",
      "0.0\n",
      "0.00011881732916745216\n",
      "0.00011881732916745216\n",
      "0.00023763465833490433\n",
      "0.00023763465833490433\n",
      "1.1884109263328564\n",
      "1.1884109263328564\n",
      "2.3765842180073777\n",
      "3.5647575096818995\n",
      "15.446490426427115\n",
      "0.0\n",
      "0.0\n",
      "0.00011888643157264452\n",
      "0.00011888643157264452\n",
      "0.00023777286314528905\n",
      "0.00023777286314528905\n",
      "1.1891020885895904\n",
      "1.1891020885895904\n",
      "2.3779664043160356\n",
      "3.5668307200424807\n",
      "15.45547387730693\n",
      "0.0\n",
      "0.0\n",
      "0.00011895488057437253\n",
      "0.00011895488057437253\n",
      "0.00023790976114874507\n",
      "0.00023790976114874507\n",
      "1.189786715504874\n",
      "1.189786715504874\n",
      "2.379335521248599\n",
      "3.5688843269923245\n",
      "15.464372384429577\n",
      "0.0\n",
      "0.0\n",
      "0.00011902267250623995\n",
      "0.00011902267250623995\n",
      "0.0002380453450124799\n",
      "0.0002380453450124799\n",
      "1.1904647704074118\n",
      "1.1904647704074118\n",
      "2.3806914954698115\n",
      "3.570918220532211\n",
      "15.473185471156206\n",
      "0.0\n",
      "0.0\n",
      "0.00011908980372568369\n",
      "0.00011908980372568369\n",
      "0.00023817960745136738\n",
      "0.00023817960745136738\n",
      "1.1911362168642883\n",
      "1.1911362168642883\n",
      "2.382034254121125\n",
      "3.572932291377962\n",
      "15.48191266394633\n",
      "0.0\n",
      "0.0\n",
      "0.00011915627061447677\n",
      "0.00011915627061447677\n",
      "0.00023831254122895355\n",
      "0.00023831254122895355\n",
      "1.1918010186859966\n",
      "1.1918010186859966\n",
      "2.3833637248307644\n",
      "3.574926430975532\n",
      "15.49055349242321\n",
      "0.0\n",
      "0.0\n",
      "0.00011922206957923047\n",
      "0.00011922206957923047\n",
      "0.00023844413915846094\n",
      "0.00023844413915846094\n",
      "1.1924591399314632\n",
      "1.1924591399314632\n",
      "2.3846798357237677\n",
      "3.5769005315160722\n",
      "15.499107489439119\n",
      "0.0\n",
      "0.0\n",
      "0.00011928719705189544\n",
      "0.00011928719705189544\n",
      "0.00023857439410379088\n",
      "0.00023857439410379088\n",
      "1.1931105449130581\n",
      "1.1931105449130581\n",
      "2.3859825154320125\n",
      "3.578854485950967\n",
      "15.50757419114051\n",
      "0.0\n",
      "0.0\n",
      "0.00011935164949026188\n",
      "0.00011935164949026188\n",
      "0.00023870329898052376\n",
      "0.00023870329898052376\n",
      "1.1937551982015995\n",
      "1.1937551982015995\n",
      "2.3872716931042186\n",
      "3.5807881880068377\n",
      "15.515953137033026\n",
      "0.0\n",
      "0.0\n",
      "0.00011941542337845834\n",
      "0.00011941542337845834\n",
      "0.0002388308467569167\n",
      "0.0002388308467569167\n",
      "1.1943930646313403\n",
      "1.1943930646313403\n",
      "2.388547298415924\n",
      "3.5827015322005074\n",
      "15.524243870046343\n",
      "0.0\n",
      "0.0\n",
      "0.0001194785152274494\n",
      "0.0001194785152274494\n",
      "0.0002389570304548988\n",
      "0.0002389570304548988\n",
      "1.195024109304949\n",
      "1.195024109304949\n",
      "2.389809261579443\n",
      "3.584594413853937\n",
      "15.532445936598878\n",
      "0.0\n",
      "0.0\n",
      "0.0001195409215755316\n",
      "0.0001195409215755316\n",
      "0.0002390818431510632\n",
      "0.0002390818431510632\n",
      "1.195648297598467\n",
      "1.195648297598467\n",
      "2.391057513353783\n",
      "3.586466729109099\n",
      "15.540558886662257\n",
      "0.0\n",
      "0.0\n",
      "0.00011960263898882809\n",
      "0.00011960263898882809\n",
      "0.00023920527797765618\n",
      "0.00023920527797765618\n",
      "1.1962655951662584\n",
      "1.1962655951662584\n",
      "2.3922919850545394\n",
      "3.58831837494282\n",
      "15.548582273825627\n",
      "0.0\n",
      "0.0\n",
      "0.00011966366406178142\n",
      "0.00011966366406178142\n",
      "0.00023932732812356283\n",
      "0.00023932732812356283\n",
      "1.1968759679459378\n",
      "1.1968759679459378\n",
      "2.3935126085637517\n",
      "3.590149249181566\n",
      "15.556515655359709\n",
      "0.0\n",
      "0.0\n",
      "0.00011972399341764439\n",
      "0.00011972399341764439\n",
      "0.00023944798683528878\n",
      "0.00023944798683528878\n",
      "1.1974793821632792\n",
      "2.394719316339723\n",
      "3.591959250516167\n",
      "15.564358592280607\n",
      "0.0\n",
      "0.0\n",
      "0.00011978362370896917\n",
      "0.00011978362370896917\n",
      "0.00023956724741793834\n",
      "0.00023956724741793834\n",
      "1.1980758043371098\n",
      "1.1980758043371098\n",
      "2.3959120414268016\n",
      "3.593748278516493\n",
      "15.57211064941341\n",
      "0.0\n",
      "0.0\n",
      "0.00011984255161809404\n",
      "0.00011984255161809404\n",
      "0.00023968510323618808\n",
      "0.00023968510323618808\n",
      "1.1986652012841765\n",
      "1.1986652012841765\n",
      "2.397090717465117\n",
      "3.595516233646057\n",
      "15.57977139545546\n",
      "0.0\n",
      "0.0\n",
      "0.00011990077385762814\n",
      "0.00011990077385762814\n",
      "0.00023980154771525628\n",
      "0.00023980154771525628\n",
      "1.1992475401239966\n",
      "1.1992475401239966\n",
      "2.3982552787002778\n",
      "3.597263017276559\n",
      "15.587340403039372\n",
      "0.0\n",
      "0.0\n",
      "0.0001199582871709337\n",
      "0.0001199582871709337\n",
      "0.0002399165743418674\n",
      "0.0002399165743418674\n",
      "1.199822788283679\n",
      "1.199822788283679\n",
      "2.399405659993016\n",
      "3.598988531702353\n",
      "15.594817248795724\n",
      "0.0\n",
      "0.0\n",
      "0.00012001508833260589\n",
      "0.00012001508833260589\n",
      "0.00024003017666521177\n",
      "0.00024003017666521177\n",
      "1.200390913502724\n",
      "2.400541796828783\n",
      "3.600692680154842\n",
      "15.602201513415428\n",
      "0.0\n",
      "0.0\n",
      "0.0001200711741489499\n",
      "0.0001200711741489499\n",
      "0.0002401423482978998\n",
      "0.0002401423482978998\n",
      "1.2009518838377968\n",
      "1.2009518838377968\n",
      "2.401663625327296\n",
      "3.602375366816795\n",
      "15.609492781711786\n",
      "0.0\n",
      "0.0\n",
      "0.00012012654145845547\n",
      "0.00012012654145845547\n",
      "0.00024025308291691095\n",
      "0.00024025308291691095\n",
      "1.2015056676674716\n",
      "1.2015056676674716\n",
      "2.402771082252026\n",
      "3.6040364968365806\n",
      "15.616690642682126\n",
      "0.0\n",
      "0.0\n",
      "0.00012018118713226832\n",
      "0.00012018118713226832\n",
      "0.00024036237426453664\n",
      "0.00024036237426453664\n",
      "1.202052233696948\n",
      "1.202052233696948\n",
      "2.403864105019631\n",
      "3.6056759763423143\n",
      "15.623794689569149\n",
      "0.0\n",
      "0.0\n",
      "0.00012023510807465879\n",
      "0.00012023510807465879\n",
      "0.00024047021614931758\n",
      "0.00024047021614931758\n",
      "1.2025915509627372\n",
      "1.2025915509627372\n",
      "2.404942631709325\n",
      "3.607293712455913\n",
      "15.630804519921792\n",
      "0.0\n",
      "0.0\n",
      "0.00012028830122348708\n",
      "0.00012028830122348708\n",
      "0.00024057660244697417\n",
      "0.00024057660244697417\n",
      "1.2031235888373177\n",
      "1.2031235888373177\n",
      "2.4060066010721886\n",
      "3.6088896133070594\n",
      "15.637719735655768\n",
      "0.0\n",
      "0.0\n",
      "0.00012034076355066553\n",
      "0.00012034076355066553\n",
      "0.00024068152710133106\n",
      "0.00024068152710133106\n",
      "1.2036483170337566\n",
      "1.2036483170337566\n",
      "2.4070559525404116\n",
      "3.610463588047067\n",
      "15.64453994311362\n",
      "0.0\n",
      "0.0\n",
      "0.00012039249206261713\n",
      "0.00012039249206261713\n",
      "0.00024078498412523426\n",
      "0.00024078498412523426\n",
      "1.2041657056102966\n",
      "2.4080906262364676\n",
      "3.612015546862639\n",
      "15.651264753124352\n",
      "0.0\n",
      "0.0\n",
      "0.00012044348380073081\n",
      "0.00012044348380073081\n",
      "0.00024088696760146163\n",
      "0.00024088696760146163\n",
      "1.2046757249749096\n",
      "1.2046757249749096\n",
      "2.409110562982218\n",
      "3.6135454009895263\n",
      "15.657893781062608\n",
      "0.0\n",
      "0.0\n",
      "0.00012049373584181298\n",
      "0.00012049373584181298\n",
      "0.00024098747168362596\n",
      "0.00024098747168362596\n",
      "1.2051783458898133\n",
      "1.2051783458898133\n",
      "2.410115704307943\n",
      "3.615053062726073\n",
      "15.664426646907371\n",
      "0.0\n",
      "0.0\n",
      "0.00012054324529853512\n",
      "0.00012054324529853512\n",
      "0.00024108649059707024\n",
      "0.00024108649059707024\n",
      "1.2056735394759484\n",
      "1.2056735394759484\n",
      "2.4111059924613\n",
      "3.6165384454466514\n",
      "15.670862975300164\n",
      "0.0\n",
      "0.0\n",
      "0.00012052498922760846\n",
      "0.00012052498922760846\n",
      "0.00024104997845521693\n",
      "0.00024104997845521693\n",
      "1.20549094225454\n",
      "1.20549094225454\n",
      "2.4107408345306247\n",
      "3.615990726806709\n",
      "15.668489649567555\n",
      "0.0\n",
      "0.0\n",
      "0.00012047405847835923\n",
      "0.00012047405847835923\n",
      "0.00024094811695671845\n",
      "0.00024094811695671845\n",
      "1.204981532900549\n",
      "1.204981532900549\n",
      "2.4097221176841415\n",
      "3.614462702467734\n",
      "15.661868550303657\n",
      "0.0\n",
      "0.0\n",
      "0.00012042058569964879\n",
      "0.00012042058569964879\n",
      "0.00024084117139929758\n",
      "0.00024084117139929758\n",
      "1.2044466981678872\n",
      "1.2044466981678872\n",
      "2.408652555164375\n",
      "3.612858412160863\n",
      "15.654916982125743\n",
      "0.0\n",
      "0.0\n",
      "0.00012036440011067288\n",
      "0.00012036440011067288\n",
      "0.00024072880022134576\n",
      "0.00024072880022134576\n",
      "1.2038847299069502\n",
      "2.407528731013679\n",
      "3.6111727321204077\n",
      "15.647612743187697\n",
      "0.0\n",
      "0.0\n",
      "0.00012030531645560721\n",
      "0.00012030531645560721\n",
      "0.00024061063291121442\n",
      "0.00024061063291121442\n",
      "1.2032937751889832\n",
      "1.2032937751889832\n",
      "2.406346939745055\n",
      "3.6094001043011272\n",
      "15.639931749861848\n",
      "0.0\n",
      "0.0\n",
      "0.00012024313351820862\n",
      "0.00012024313351820862\n",
      "0.00024048626703641724\n",
      "0.00024048626703641724\n",
      "1.2026718214491225\n",
      "2.405103156631209\n",
      "3.607534491813295\n",
      "15.631847843634157\n",
      "0.0\n",
      "0.0\n",
      "0.00012017763245707677\n",
      "0.00012017763245707677\n",
      "0.00024035526491415353\n",
      "0.00024035526491415353\n",
      "1.202016679835682\n",
      "1.202016679835682\n",
      "2.4037930044064497\n",
      "3.6055693289772175\n",
      "15.623332574684895\n",
      "0.0\n",
      "0.0\n",
      "0.00012010857493663714\n",
      "0.00012010857493663714\n",
      "0.00024021714987327428\n",
      "0.00024021714987327428\n",
      "1.2013259665162446\n",
      "1.2013259665162446\n",
      "2.402411715882616\n",
      "3.6034974652489877\n",
      "15.614354958912703\n",
      "0.0\n",
      "0.0\n",
      "0.0001200357010249758\n",
      "0.0001200357010249758\n",
      "0.0002400714020499516\n",
      "0.0002400714020499516\n",
      "1.200597081651808\n",
      "1.200597081651808\n",
      "2.400954091901566\n",
      "3.6013111021513238\n",
      "15.604881204648905\n",
      "0.0\n",
      "0.0\n",
      "0.00011995872682503635\n",
      "0.00011995872682503635\n",
      "0.0002399174536500727\n",
      "0.0002399174536500727\n",
      "1.1998271857040135\n",
      "1.1998271857040135\n",
      "2.399414453954377\n",
      "3.5990017222047404\n",
      "15.594874404708374\n",
      "0.0\n",
      "0.0\n",
      "0.00011987734180024148\n",
      "0.00011987734180024148\n",
      "0.00023975468360048295\n",
      "0.00023975468360048295\n",
      "1.1990131726860151\n",
      "1.1990131726860151\n",
      "2.3977865906884297\n",
      "3.5965600086908447\n",
      "15.584294188714992\n",
      "0.0\n",
      "0.0\n",
      "0.00011979120574916425\n",
      "0.00011979120574916425\n",
      "0.0002395824114983285\n",
      "0.0002395824114983285\n",
      "1.1981516399031407\n",
      "1.1981516399031407\n",
      "2.396063697394783\n",
      "3.5939757548864257\n",
      "15.57309632980285\n",
      "0.0\n",
      "0.0\n",
      "0.0001196999453762487\n",
      "0.0001196999453762487\n",
      "0.0002393998907524974\n",
      "0.0002393998907524974\n",
      "1.1972388536532395\n",
      "2.3942383074157263\n",
      "3.5912377611782134\n",
      "15.561232298803084\n",
      "0.0\n",
      "0.0\n",
      "0.00011960315039652421\n",
      "0.00011960315039652421\n",
      "0.00023920630079304843\n",
      "0.00023920630079304843\n",
      "1.196270710266035\n",
      "1.196270710266035\n",
      "2.392302214231277\n",
      "3.588333718196519\n",
      "15.548648757848941\n",
      "0.0\n",
      "0.0\n",
      "0.00011950036910147552\n",
      "0.00011950036910147552\n",
      "0.00023900073820295103\n",
      "0.00023900073820295103\n",
      "1.1952426917529582\n",
      "1.1952426917529582\n",
      "2.3902463827677134\n",
      "3.5852500737824684\n",
      "15.535286983930021\n",
      "0.0\n",
      "0.0\n",
      "0.00011939110330036164\n",
      "0.00011939110330036164\n",
      "0.00023878220660072328\n",
      "0.00023878220660072328\n",
      "1.1941498152102172\n",
      "1.1941498152102172\n",
      "2.3880608482138337\n",
      "3.5819718812174504\n",
      "15.521082211253615\n",
      "0.0\n",
      "0.0\n",
      "0.00011927480253587234\n",
      "0.00011927480253587234\n",
      "0.00023854960507174467\n",
      "0.00023854960507174467\n",
      "1.192986574963795\n",
      "2.385734600322518\n",
      "3.578482625681241\n",
      "15.505962879268473\n",
      "0.0\n",
      "0.0\n",
      "0.00011915085745452684\n",
      "0.00011915085745452684\n",
      "0.00023830171490905368\n",
      "0.00023830171490905368\n",
      "1.1917468762601775\n",
      "1.1917468762601775\n",
      "2.383255450805446\n",
      "3.5747640253507145\n",
      "15.4898497708034\n",
      "0.0\n",
      "0.0\n",
      "0.00011901859218997492\n",
      "0.00011901859218997492\n",
      "0.00023803718437994984\n",
      "0.00023803718437994984\n",
      "1.1904239590841292\n",
      "1.1904239590841292\n",
      "2.3806098809838785\n",
      "3.5707958028836275\n",
      "15.47265502188112\n",
      "0.0\n",
      "0.0\n",
      "0.00011887725559051824\n",
      "0.00011887725559051824\n",
      "0.00023775451118103648\n",
      "0.00023775451118103648\n",
      "1.1890103104163636\n",
      "1.1890103104163636\n",
      "2.377782866321546\n",
      "3.5665554222267284\n",
      "15.454280981278554\n",
      "0.0\n",
      "0.0\n",
      "0.00011872601108969064\n",
      "0.00011872601108969064\n",
      "0.00023745202217938127\n",
      "0.00023745202217938127\n",
      "1.1874975629190856\n",
      "1.1874975629190856\n",
      "2.374757673815992\n",
      "3.562017784712898\n",
      "15.43461889368196\n",
      "0.0\n",
      "0.0\n",
      "0.00011856392497932161\n",
      "0.00011856392497932161\n",
      "0.00023712784995864322\n",
      "0.00023712784995864322\n",
      "1.1858763776431747\n",
      "1.1858763776431747\n",
      "2.3715156274363904\n",
      "3.5571548772296064\n",
      "15.413547375161766\n",
      "0.0\n",
      "0.0\n",
      "0.00011838995279654543\n",
      "0.00011838995279654543\n",
      "0.00023677990559309086\n",
      "0.00023677990559309086\n",
      "1.1841363078710474\n",
      "2.3680358358365017\n",
      "3.551935363801956\n",
      "15.3909306434565\n",
      "0.0\n",
      "0.0\n",
      "0.00011820292347768833\n",
      "0.00011820292347768833\n",
      "0.00023640584695537665\n",
      "0.00023640584695537665\n",
      "1.1822656406238385\n",
      "1.1822656406238385\n",
      "2.364294875400722\n",
      "3.546324110177605\n",
      "15.366616457946439\n",
      "0.0\n",
      "0.0\n",
      "0.00011800152086034133\n",
      "0.00011800152086034133\n",
      "0.00023600304172068266\n",
      "0.00023600304172068266\n",
      "1.180251211645134\n",
      "1.180251211645134\n",
      "2.3602664202485473\n",
      "3.5402816288519605\n",
      "15.340433714886093\n",
      "0.0\n",
      "0.0\n",
      "0.00011778426202703574\n",
      "0.00011778426202703574\n",
      "0.00023556852405407148\n",
      "0.00023556852405407148\n",
      "1.1780781887944114\n",
      "1.1780781887944114\n",
      "2.3559208090647688\n",
      "3.533763429335126\n",
      "15.3121896320387\n",
      "0.0\n",
      "0.0\n",
      "0.00011754947187579761\n",
      "0.00011754947187579761\n",
      "0.00023509894375159523\n",
      "0.00023509894375159523\n",
      "1.1757298177017277\n",
      "1.1757298177017277\n",
      "2.3512245364597035\n",
      "3.52671925521768\n",
      "15.281666442797441\n",
      "0.0\n",
      "0.0\n",
      "0.00011729525316946523\n",
      "0.00011729525316946523\n",
      "0.00023459050633893046\n",
      "0.00023459050633893046\n",
      "1.1731871222009913\n",
      "1.1731871222009913\n",
      "2.3461396538956434\n",
      "3.5190921855902957\n",
      "15.248617502536819\n",
      "0.0\n",
      "0.0\n",
      "0.00011701945115071076\n",
      "0.00011701945115071076\n",
      "0.0002340389023014215\n",
      "0.0002340389023014215\n",
      "1.170428550409409\n",
      "2.3406230619165163\n",
      "3.5108175734236235\n",
      "15.2127626884947\n",
      "0.0\n",
      "0.0\n",
      "0.00011671961160531352\n",
      "0.00011671961160531352\n",
      "0.00023343922321062704\n",
      "0.00023343922321062704\n",
      "1.1674295552763458\n",
      "2.334625671329481\n",
      "3.501821787382616\n",
      "15.173782947913969\n",
      "0.0\n",
      "0.0\n",
      "0.00011639293100247023\n",
      "0.00011639293100247023\n",
      "0.00023278586200494046\n",
      "0.00023278586200494046\n",
      "1.1641620958867074\n",
      "2.32809140591141\n",
      "3.4920207159361123\n",
      "15.131313816183136\n",
      "0.0\n",
      "0.0\n",
      "0.00011603619702540959\n",
      "0.00011603619702540959\n",
      "0.00023207239405081918\n",
      "0.00023207239405081918\n",
      "1.1605940426481467\n",
      "1.1605940426481467\n",
      "2.3209560129022426\n",
      "3.4813179831563383\n",
      "15.084937685697298\n",
      "0.0\n",
      "0.0\n",
      "0.00011564571741290891\n",
      "0.00011564571741290891\n",
      "0.00023129143482581783\n",
      "0.00023129143482581783\n",
      "1.1566884655639151\n",
      "2.3131456396930044\n",
      "3.4696028138220933\n",
      "15.034174555112987\n",
      "0.0\n",
      "0.0\n",
      "0.00011521723454352419\n",
      "0.00011521723454352419\n",
      "0.00023043446908704838\n",
      "0.00023043446908704838\n",
      "1.152402779904329\n",
      "1.152402779904329\n",
      "2.304575125339571\n",
      "3.456747470774813\n",
      "14.978470925127231\n",
      "0.0\n",
      "0.0\n",
      "0.00011474582258639235\n",
      "0.00011474582258639235\n",
      "0.0002294916451727847\n",
      "0.0002294916451727847\n",
      "1.1476877175090963\n",
      "1.1476877175090963\n",
      "2.2951459433730195\n",
      "3.442604169236943\n",
      "14.917186427876178\n",
      "0.0\n",
      "0.0\n",
      "0.00011422576328790598\n",
      "0.00011422576328790598\n",
      "0.00022845152657581196\n",
      "0.00022845152657581196\n",
      "1.1424860844056357\n",
      "2.2847437172846954\n",
      "3.4270013501637555\n",
      "14.849577678954354\n",
      "0.0\n",
      "0.0\n",
      "0.00011365039553078947\n",
      "0.00011365039553078947\n",
      "0.00022730079106157895\n",
      "0.00022730079106157895\n",
      "1.1367312560989564\n",
      "1.1367312560989564\n",
      "2.2732352114068513\n",
      "3.409739166714746\n",
      "14.774778719793694\n",
      "0.0\n",
      "0.0\n",
      "0.00011301193265669876\n",
      "0.00011301193265669876\n",
      "0.00022602386531339752\n",
      "0.00022602386531339752\n",
      "1.1303453504323009\n",
      "1.1303453504323009\n",
      "2.2604646769992884\n",
      "3.3905840035662758\n",
      "14.691777269236152\n",
      "0.0\n",
      "0.0\n",
      "0.00011230124015171632\n",
      "0.00011230124015171632\n",
      "0.00022460248030343265\n",
      "0.00022460248030343265\n",
      "1.1232370039974666\n",
      "1.1232370039974666\n",
      "2.2462494055146296\n",
      "3.369261807031793\n",
      "14.599385822203425\n",
      "0.0\n",
      "0.0\n",
      "0.00011150756463067493\n",
      "0.00011150756463067493\n",
      "0.00022301512926134985\n",
      "0.00022301512926134985\n",
      "1.1152986614360105\n",
      "2.2303743077427596\n",
      "3.345449954049509\n",
      "14.496206417117001\n",
      "0.0\n",
      "0.0\n",
      "0.00011061820311916963\n",
      "0.00011061820311916963\n",
      "0.00022123640623833925\n",
      "0.00022123640623833925\n",
      "1.1064032675979347\n",
      "1.1064032675979347\n",
      "2.212585298789631\n",
      "3.3187673299813274\n",
      "14.380587641898291\n",
      "0.0\n",
      "0.0\n",
      "0.00010961809947100227\n",
      "0.00010961809947100227\n",
      "0.00021923619894200454\n",
      "0.00021923619894200454\n",
      "1.0964002309089647\n",
      "1.0964002309089647\n",
      "2.192581225618987\n",
      "3.28876222032901\n",
      "14.250572167429238\n",
      "0.0\n",
      "0.0\n",
      "0.00010848935252554772\n",
      "0.00010848935252554772\n",
      "0.00021697870505109544\n",
      "0.00021697870505109544\n",
      "1.0851105039605282\n",
      "1.0851105039605282\n",
      "2.170004029216005\n",
      "3.2548975544714827\n",
      "14.103832807026254\n",
      "0.0\n",
      "0.0\n",
      "0.00010721061864752782\n",
      "0.00010721061864752782\n",
      "0.00021442123729505563\n",
      "0.00021442123729505563\n",
      "1.072320607712573\n",
      "2.144426794187851\n",
      "3.2165329806631293\n",
      "13.937594845415909\n",
      "0.0\n",
      "0.0\n",
      "0.00010575639028847439\n",
      "0.00010575639028847439\n",
      "0.00021151278057694877\n",
      "0.00021151278057694877\n",
      "1.0577754156653207\n",
      "2.1153393185500646\n",
      "3.1729032214348085\n",
      "13.748542250282247\n",
      "0.0\n",
      "0.0\n",
      "0.00010409613345092066\n",
      "0.00010409613345092066\n",
      "0.00020819226690184131\n",
      "0.00020819226690184131\n",
      "1.0411695267761085\n",
      "2.0821308612853153\n",
      "3.1230921957945217\n",
      "13.532705540886587\n",
      "0.0\n",
      "0.0\n",
      "0.00010219327271785773\n",
      "0.00010219327271785773\n",
      "0.00020438654543571545\n",
      "0.00020438654543571545\n",
      "1.022137113724013\n",
      "2.04406984090259\n",
      "3.066002568081167\n",
      "13.28532983986694\n",
      "0.0\n",
      "0.0\n",
      "0.00010000402676456341\n",
      "0.00010000402676456341\n",
      "0.00020000805352912682\n",
      "0.00020000805352912682\n",
      "1.0002402756991633\n",
      "2.0002805433447977\n",
      "3.0003208109904316\n",
      "13.000723487446773\n",
      "0.0\n",
      "0.0\n",
      "9.747612646647661e-05\n",
      "9.747612646647661e-05\n",
      "0.00019495225293295323\n",
      "0.00019495225293295323\n",
      "0.9749562169176991\n",
      "1.9497174815824652\n",
      "2.9244787462472313\n",
      "12.672091392894892\n",
      "0.0\n",
      "0.0\n",
      "9.454750196759271e-05\n",
      "9.454750196759271e-05\n",
      "0.00018909500393518542\n",
      "0.00018909500393518542\n",
      "0.9456641146798622\n",
      "1.8911391343557893\n",
      "2.8366141540317162\n",
      "12.291364350790987\n",
      "0.0\n",
      "0.0\n",
      "9.114511907553673e-05\n",
      "9.114511907553673e-05\n",
      "0.00018229023815107345\n",
      "0.00018229023815107345\n",
      "0.9116334809935184\n",
      "1.8230846717488856\n",
      "2.734535862504253\n",
      "11.849047770057926\n",
      "0.0\n",
      "0.0\n",
      "8.718429798969494e-05\n",
      "8.718429798969494e-05\n",
      "0.00017436859597938988\n",
      "0.00017436859597938988\n",
      "0.8720173484929289\n",
      "1.7438603283898784\n",
      "2.615703308286828\n",
      "11.334133107256324\n",
      "0.0\n",
      "0.0\n",
      "8.256907718939225e-05\n",
      "8.256907718939225e-05\n",
      "0.0001651381543787845\n",
      "0.0001651381543787845\n",
      "0.8258559100483013\n",
      "1.6515466819422238\n",
      "2.477237453836146\n",
      "10.73414517277537\n",
      "0.0\n",
      "0.0\n",
      "7.719449625742039e-05\n",
      "7.719449625742039e-05\n",
      "0.00015438899251484078\n",
      "0.00015438899251484078\n",
      "0.7720993515667187\n",
      "1.5440443141409226\n",
      "2.3159892767151264\n",
      "10.035438902457166\n",
      "0.0\n",
      "0.0\n",
      "7.095202033197637e-05\n",
      "7.095202033197637e-05\n",
      "0.00014190404066395274\n",
      "0.00014190404066395274\n",
      "0.7096621073604277\n",
      "1.4191823106801915\n",
      "2.128702513999955\n",
      "9.223904547197591\n",
      "16.31910658039523\n",
      "0.0\n",
      "0.0\n",
      "6.373956781545842e-05\n",
      "6.373956781545842e-05\n",
      "0.00012747913563091685\n",
      "0.00012747913563091685\n",
      "0.6375231572902151\n",
      "1.2749188354447993\n",
      "1.9123145135993835\n",
      "8.286271295145225\n",
      "14.660228076691066\n",
      "0.0\n",
      "0.0\n",
      "5.547740886983432e-05\n",
      "5.547740886983432e-05\n",
      "0.00011095481773966864\n",
      "0.00011095481773966864\n",
      "0.5548850435160829\n",
      "1.1096591322144262\n",
      "1.6644332209127695\n",
      "7.212174107896201\n",
      "12.759914994879633\n",
      "0.0\n",
      "0.0\n",
      "4.613006463536682e-05\n",
      "4.613006463536682e-05\n",
      "9.226012927073364e-05\n",
      "9.226012927073364e-05\n",
      "0.46139290648293896\n",
      "0.9226935528366071\n",
      "1.3839941991902753\n",
      "5.997000662726958\n",
      "10.610007126263639\n",
      "0.0\n",
      "0.0\n",
      "3.573176919464151e-05\n",
      "3.573176919464151e-05\n",
      "7.146353838928302e-05\n",
      "7.146353838928302e-05\n",
      "0.3573891554848043\n",
      "0.7147068474312194\n",
      "1.0720245393776344\n",
      "4.645201458841784\n",
      "8.218378378305935\n",
      "11.791555297770085\n",
      "0.0\n",
      "0.0\n",
      "2.4409212935478853e-05\n",
      "2.4409212935478853e-05\n",
      "4.8818425870957706e-05\n",
      "4.8818425870957706e-05\n",
      "0.24414094778065948\n",
      "0.488233077135448\n",
      "0.7323252064902366\n",
      "3.173246500038122\n",
      "5.614167793586007\n",
      "8.055089087133892\n",
      "32.46430202261274\n",
      "0.0\n",
      "0.0\n",
      "1.2391823754412774e-05\n",
      "1.2391823754412774e-05\n",
      "2.478364750882555e-05\n",
      "2.478364750882555e-05\n",
      "0.12394302119163657\n",
      "0.2478612587357643\n",
      "0.37177949627989204\n",
      "1.6109618717211696\n",
      "2.850144247162447\n",
      "4.089326622603725\n",
      "16.481150377016498\n",
      "0.0\n",
      "0.0\n",
      "2.4409212935478853e-05\n",
      "2.4409212935478853e-05\n",
      "4.8818425870957706e-05\n",
      "4.8818425870957706e-05\n",
      "0.24414094778065948\n",
      "0.488233077135448\n",
      "0.7323252064902366\n",
      "3.173246500038122\n",
      "5.614167793586007\n",
      "8.055089087133892\n",
      "32.46430202261274\n",
      "0.0\n",
      "0.0\n",
      "3.573176919464151e-05\n",
      "3.573176919464151e-05\n",
      "7.146353838928302e-05\n",
      "7.146353838928302e-05\n",
      "0.3573891554848043\n",
      "0.7147068474312194\n",
      "1.0720245393776344\n",
      "4.645201458841784\n",
      "8.218378378305935\n",
      "11.791555297770085\n",
      "0.0\n",
      "0.0\n",
      "4.613006463536682e-05\n",
      "4.613006463536682e-05\n",
      "9.226012927073364e-05\n",
      "9.226012927073364e-05\n",
      "0.46139290648293896\n",
      "0.9226935528366071\n",
      "1.3839941991902753\n",
      "5.997000662726958\n",
      "10.610007126263639\n",
      "0.0\n",
      "0.0\n",
      "5.547740886983432e-05\n",
      "5.547740886983432e-05\n",
      "0.00011095481773966864\n",
      "0.00011095481773966864\n",
      "0.5548850435160829\n",
      "1.1096591322144262\n",
      "1.6644332209127695\n",
      "7.212174107896201\n",
      "12.759914994879633\n",
      "0.0\n",
      "0.0\n",
      "6.373956781545842e-05\n",
      "6.373956781545842e-05\n",
      "0.00012747913563091685\n",
      "0.00012747913563091685\n",
      "0.6375231572902151\n",
      "1.2749188354447993\n",
      "1.9123145135993835\n",
      "8.286271295145225\n",
      "14.660228076691066\n",
      "0.0\n",
      "0.0\n",
      "7.095202033197637e-05\n",
      "7.095202033197637e-05\n",
      "0.00014190404066395274\n",
      "0.00014190404066395274\n",
      "0.7096621073604277\n",
      "1.4191823106801915\n",
      "2.128702513999955\n",
      "9.223904547197591\n",
      "16.31910658039523\n",
      "0.0\n",
      "0.0\n",
      "7.719449625742039e-05\n",
      "7.719449625742039e-05\n",
      "0.00015438899251484078\n",
      "0.00015438899251484078\n",
      "0.7720993515667187\n",
      "1.5440443141409226\n",
      "2.3159892767151264\n",
      "10.035438902457166\n",
      "0.0\n",
      "0.0\n",
      "8.256907718939225e-05\n",
      "8.256907718939225e-05\n",
      "0.0001651381543787845\n",
      "0.0001651381543787845\n",
      "0.8258559100483013\n",
      "1.6515466819422238\n",
      "2.477237453836146\n",
      "10.73414517277537\n",
      "0.0\n",
      "0.0\n",
      "8.718429798969494e-05\n",
      "8.718429798969494e-05\n",
      "0.00017436859597938988\n",
      "0.00017436859597938988\n",
      "0.8720173484929289\n",
      "1.7438603283898784\n",
      "2.615703308286828\n",
      "11.334133107256324\n",
      "0.0\n",
      "0.0\n",
      "9.114511907553673e-05\n",
      "9.114511907553673e-05\n",
      "0.00018229023815107345\n",
      "0.00018229023815107345\n",
      "0.9116334809935184\n",
      "1.8230846717488856\n",
      "2.734535862504253\n",
      "11.849047770057926\n",
      "0.0\n",
      "0.0\n",
      "9.454750196759271e-05\n",
      "9.454750196759271e-05\n",
      "0.00018909500393518542\n",
      "0.00018909500393518542\n",
      "0.9456641146798622\n",
      "1.8911391343557893\n",
      "2.8366141540317162\n",
      "12.291364350790987\n",
      "0.0\n",
      "0.0\n",
      "9.747612646647661e-05\n",
      "9.747612646647661e-05\n",
      "0.00019495225293295323\n",
      "0.00019495225293295323\n",
      "0.9749562169176991\n",
      "0.9749562169176991\n",
      "1.9497174815824652\n",
      "2.9244787462472313\n",
      "12.672091392894892\n",
      "0.0\n",
      "0.0\n",
      "0.00010000402676456341\n",
      "0.00010000402676456341\n",
      "0.00020000805352912682\n",
      "0.00020000805352912682\n",
      "1.0002402756991633\n",
      "1.0002402756991633\n",
      "2.0002805433447977\n",
      "3.0003208109904316\n",
      "13.000723487446773\n",
      "0.0\n",
      "0.0\n",
      "0.00010219327271785773\n",
      "0.00010219327271785773\n",
      "0.00020438654543571545\n",
      "0.00020438654543571545\n",
      "1.022137113724013\n",
      "2.04406984090259\n",
      "3.066002568081167\n",
      "13.28532983986694\n",
      "0.0\n",
      "0.0\n",
      "0.00010409613345092066\n",
      "0.00010409613345092066\n",
      "0.00020819226690184131\n",
      "0.00020819226690184131\n",
      "1.0411695267761085\n",
      "1.0411695267761085\n",
      "2.0821308612853153\n",
      "3.1230921957945217\n",
      "13.532705540886587\n",
      "0.0\n",
      "0.0\n",
      "0.00010575639028847439\n",
      "0.00010575639028847439\n",
      "0.00021151278057694877\n",
      "0.00021151278057694877\n",
      "1.0577754156653207\n",
      "1.0577754156653207\n",
      "2.1153393185500646\n",
      "3.1729032214348085\n",
      "13.748542250282247\n",
      "0.0\n",
      "0.0\n",
      "0.00010721061864752782\n",
      "0.00010721061864752782\n",
      "0.00021442123729505563\n",
      "0.00021442123729505563\n",
      "1.072320607712573\n",
      "2.144426794187851\n",
      "3.2165329806631293\n",
      "13.937594845415909\n",
      "0.0\n",
      "0.0\n",
      "0.00010848935252554772\n",
      "0.00010848935252554772\n",
      "0.00021697870505109544\n",
      "0.00021697870505109544\n",
      "1.0851105039605282\n",
      "2.170004029216005\n",
      "3.2548975544714827\n",
      "14.103832807026254\n",
      "0.0\n",
      "0.0\n",
      "0.00010961809947100227\n",
      "0.00010961809947100227\n",
      "0.00021923619894200454\n",
      "0.00021923619894200454\n",
      "1.0964002309089647\n",
      "1.0964002309089647\n",
      "2.192581225618987\n",
      "3.28876222032901\n",
      "14.250572167429238\n",
      "0.0\n",
      "0.0\n",
      "0.00011061820311916963\n",
      "0.00011061820311916963\n",
      "0.00022123640623833925\n",
      "0.00022123640623833925\n",
      "1.1064032675979347\n",
      "1.1064032675979347\n",
      "2.212585298789631\n",
      "3.3187673299813274\n",
      "14.380587641898291\n",
      "0.0\n",
      "0.0\n",
      "0.00011150756463067493\n",
      "0.00011150756463067493\n",
      "0.00022301512926134985\n",
      "0.00022301512926134985\n",
      "1.1152986614360105\n",
      "1.1152986614360105\n",
      "2.2303743077427596\n",
      "3.345449954049509\n",
      "14.496206417117001\n",
      "0.0\n",
      "0.0\n",
      "0.00011230124015171632\n",
      "0.00011230124015171632\n",
      "0.00022460248030343265\n",
      "0.00022460248030343265\n",
      "1.1232370039974666\n",
      "1.1232370039974666\n",
      "2.2462494055146296\n",
      "3.369261807031793\n",
      "14.599385822203425\n",
      "0.0\n",
      "0.0\n",
      "0.00011301193265669876\n",
      "0.00011301193265669876\n",
      "0.00022602386531339752\n",
      "0.00022602386531339752\n",
      "1.1303453504323009\n",
      "1.1303453504323009\n",
      "2.2604646769992884\n",
      "3.3905840035662758\n",
      "14.691777269236152\n",
      "0.0\n",
      "0.0\n",
      "0.00011365039553078947\n",
      "0.00011365039553078947\n",
      "0.00022730079106157895\n",
      "0.00022730079106157895\n",
      "1.1367312560989564\n",
      "1.1367312560989564\n",
      "2.2732352114068513\n",
      "3.409739166714746\n",
      "14.774778719793694\n",
      "0.0\n",
      "0.0\n",
      "0.00011422576328790598\n",
      "0.00011422576328790598\n",
      "0.00022845152657581196\n",
      "0.00022845152657581196\n",
      "1.1424860844056357\n",
      "2.2847437172846954\n",
      "3.4270013501637555\n",
      "14.849577678954354\n",
      "0.0\n",
      "0.0\n",
      "0.00011474582258639235\n",
      "0.00011474582258639235\n",
      "0.0002294916451727847\n",
      "0.0002294916451727847\n",
      "1.1476877175090963\n",
      "2.2951459433730195\n",
      "3.442604169236943\n",
      "14.917186427876178\n",
      "0.0\n",
      "0.0\n",
      "0.00011521723454352419\n",
      "0.00011521723454352419\n",
      "0.00023043446908704838\n",
      "0.00023043446908704838\n",
      "1.152402779904329\n",
      "1.152402779904329\n",
      "2.304575125339571\n",
      "3.456747470774813\n",
      "14.978470925127231\n",
      "0.0\n",
      "0.0\n",
      "0.00011564571741290891\n",
      "0.00011564571741290891\n",
      "0.00023129143482581783\n",
      "0.00023129143482581783\n",
      "1.1566884655639151\n",
      "2.3131456396930044\n",
      "3.4696028138220933\n",
      "15.034174555112987\n",
      "0.0\n",
      "0.0\n",
      "0.00011603619702540959\n",
      "0.00011603619702540959\n",
      "0.00023207239405081918\n",
      "0.00023207239405081918\n",
      "1.1605940426481467\n",
      "1.1605940426481467\n",
      "2.3209560129022426\n",
      "3.4813179831563383\n",
      "15.084937685697298\n",
      "0.0\n",
      "0.0\n",
      "0.00011639293100247023\n",
      "0.00011639293100247023\n",
      "0.00023278586200494046\n",
      "0.00023278586200494046\n",
      "1.1641620958867074\n",
      "2.32809140591141\n",
      "3.4920207159361123\n",
      "15.131313816183136\n",
      "0.0\n",
      "0.0\n",
      "0.00011671961160531352\n",
      "0.00011671961160531352\n",
      "0.00023343922321062704\n",
      "0.00023343922321062704\n",
      "1.1674295552763458\n",
      "2.334625671329481\n",
      "3.501821787382616\n",
      "15.173782947913969\n",
      "0.0\n",
      "0.0\n",
      "0.00011701945115071076\n",
      "0.00011701945115071076\n",
      "0.0002340389023014215\n",
      "0.0002340389023014215\n",
      "1.170428550409409\n",
      "2.3406230619165163\n",
      "3.5108175734236235\n",
      "15.2127626884947\n",
      "0.0\n",
      "0.0\n",
      "0.00011729525316946523\n",
      "0.00011729525316946523\n",
      "0.00023459050633893046\n",
      "0.00023459050633893046\n",
      "1.1731871222009913\n",
      "1.1731871222009913\n",
      "2.3461396538956434\n",
      "3.5190921855902957\n",
      "15.248617502536819\n",
      "0.0\n",
      "0.0\n",
      "0.00011754947187579761\n",
      "0.00011754947187579761\n",
      "0.00023509894375159523\n",
      "0.00023509894375159523\n",
      "1.1757298177017277\n",
      "1.1757298177017277\n",
      "2.3512245364597035\n",
      "3.52671925521768\n",
      "15.281666442797441\n",
      "0.0\n",
      "0.0\n",
      "0.00011778426202703574\n",
      "0.00011778426202703574\n",
      "0.00023556852405407148\n",
      "0.00023556852405407148\n",
      "1.1780781887944114\n",
      "1.1780781887944114\n",
      "2.3559208090647688\n",
      "3.533763429335126\n",
      "15.3121896320387\n",
      "0.0\n",
      "0.0\n",
      "0.00011800152086034133\n",
      "0.00011800152086034133\n",
      "0.00023600304172068266\n",
      "0.00023600304172068266\n",
      "1.180251211645134\n",
      "1.180251211645134\n",
      "2.3602664202485473\n",
      "3.5402816288519605\n",
      "15.340433714886093\n",
      "0.0\n",
      "0.0\n",
      "0.00011820292347768833\n",
      "0.00011820292347768833\n",
      "0.00023640584695537665\n",
      "0.00023640584695537665\n",
      "1.1822656406238385\n",
      "1.1822656406238385\n",
      "2.364294875400722\n",
      "3.546324110177605\n",
      "15.366616457946439\n",
      "0.0\n",
      "0.0\n",
      "0.00011838995279654543\n",
      "0.00011838995279654543\n",
      "0.00023677990559309086\n",
      "0.00023677990559309086\n",
      "1.1841363078710474\n",
      "2.3680358358365017\n",
      "3.551935363801956\n",
      "15.3909306434565\n",
      "0.0\n",
      "0.0\n",
      "0.00011856392497932161\n",
      "0.00011856392497932161\n",
      "0.00023712784995864322\n",
      "0.00023712784995864322\n",
      "1.1858763776431747\n",
      "1.1858763776431747\n",
      "2.3715156274363904\n",
      "3.5571548772296064\n",
      "15.413547375161766\n"
     ]
    },
    {
     "name": "stdout",
     "output_type": "stream",
     "text": [
      "0.0\n",
      "0.0\n",
      "0.00011872601108969064\n",
      "0.00011872601108969064\n",
      "0.00023745202217938127\n",
      "0.00023745202217938127\n",
      "1.1874975629190856\n",
      "1.1874975629190856\n",
      "2.374757673815992\n",
      "3.562017784712898\n",
      "15.43461889368196\n",
      "0.0\n",
      "0.0\n",
      "0.00011887725559051824\n",
      "0.00011887725559051824\n",
      "0.00023775451118103648\n",
      "0.00023775451118103648\n",
      "1.1890103104163636\n",
      "1.1890103104163636\n",
      "2.377782866321546\n",
      "3.5665554222267284\n",
      "15.454280981278554\n",
      "0.0\n",
      "0.0\n",
      "0.00011901859218997492\n",
      "0.00011901859218997492\n",
      "0.00023803718437994984\n",
      "0.00023803718437994984\n",
      "1.1904239590841292\n",
      "1.1904239590841292\n",
      "2.3806098809838785\n",
      "3.5707958028836275\n",
      "15.47265502188112\n",
      "0.0\n",
      "0.0\n",
      "0.00011915085745452684\n",
      "0.00011915085745452684\n",
      "0.00023830171490905368\n",
      "0.00023830171490905368\n",
      "1.1917468762601775\n",
      "1.1917468762601775\n",
      "2.383255450805446\n",
      "3.5747640253507145\n",
      "15.4898497708034\n",
      "0.0\n",
      "0.0\n",
      "0.00011927480253587234\n",
      "0.00011927480253587234\n",
      "0.00023854960507174467\n",
      "0.00023854960507174467\n",
      "1.192986574963795\n",
      "2.385734600322518\n",
      "3.578482625681241\n",
      "15.505962879268473\n",
      "0.0\n",
      "0.0\n",
      "0.00011939110330036164\n",
      "0.00011939110330036164\n",
      "0.00023878220660072328\n",
      "0.00023878220660072328\n",
      "1.1941498152102172\n",
      "2.3880608482138337\n",
      "3.5819718812174504\n",
      "15.521082211253615\n",
      "0.0\n",
      "0.0\n",
      "0.00011950036910147552\n",
      "0.00011950036910147552\n",
      "0.00023900073820295103\n",
      "0.00023900073820295103\n",
      "1.1952426917529582\n",
      "1.1952426917529582\n",
      "2.3902463827677134\n",
      "3.5852500737824684\n",
      "15.535286983930021\n",
      "0.0\n",
      "0.0\n",
      "0.00011960315039652421\n",
      "0.00011960315039652421\n",
      "0.00023920630079304843\n",
      "0.00023920630079304843\n",
      "1.196270710266035\n",
      "1.196270710266035\n",
      "2.392302214231277\n",
      "3.588333718196519\n",
      "15.548648757848941\n",
      "0.0\n",
      "0.0\n",
      "0.0001196999453762487\n",
      "0.0001196999453762487\n",
      "0.0002393998907524974\n",
      "0.0002393998907524974\n",
      "1.1972388536532395\n",
      "2.3942383074157263\n",
      "3.5912377611782134\n",
      "15.561232298803084\n",
      "0.0\n",
      "0.0\n",
      "0.00011979120574916425\n",
      "0.00011979120574916425\n",
      "0.0002395824114983285\n",
      "0.0002395824114983285\n",
      "1.1981516399031407\n",
      "1.1981516399031407\n",
      "2.396063697394783\n",
      "3.5939757548864257\n",
      "15.57309632980285\n"
     ]
    },
    {
     "ename": "ValueError",
     "evalue": "Expect x to be a 1-D sorted array_like.",
     "output_type": "error",
     "traceback": [
      "\u001b[1;31m---------------------------------------------------------------------------\u001b[0m",
      "\u001b[1;31mValueError\u001b[0m                                Traceback (most recent call last)",
      "\u001b[1;32m<ipython-input-82-10c2dcf52b0e>\u001b[0m in \u001b[0;36m<module>\u001b[1;34m()\u001b[0m\n\u001b[0;32m      1\u001b[0m \u001b[0mv_array\u001b[0m \u001b[1;33m=\u001b[0m \u001b[0mlinspace\u001b[0m\u001b[1;33m(\u001b[0m\u001b[1;33m-\u001b[0m\u001b[1;36m100\u001b[0m\u001b[1;33m,\u001b[0m \u001b[1;36m100\u001b[0m\u001b[1;33m,\u001b[0m \u001b[1;36m201\u001b[0m\u001b[1;33m)\u001b[0m\u001b[1;33m\u001b[0m\u001b[0m\n\u001b[1;32m----> 2\u001b[1;33m \u001b[0mv_sweep\u001b[0m \u001b[1;33m=\u001b[0m \u001b[0mv0_sweep\u001b[0m\u001b[1;33m(\u001b[0m\u001b[0mv_array\u001b[0m\u001b[1;33m)\u001b[0m\u001b[1;33m\u001b[0m\u001b[0m\n\u001b[0m\u001b[0;32m      3\u001b[0m \u001b[0mplot\u001b[0m\u001b[1;33m(\u001b[0m\u001b[0mv_sweep\u001b[0m\u001b[1;33m)\u001b[0m\u001b[1;33m\u001b[0m\u001b[0m\n",
      "\u001b[1;32m<ipython-input-81-356b3ee0bdec>\u001b[0m in \u001b[0;36mv0_sweep\u001b[1;34m(v_array)\u001b[0m\n\u001b[0;32m      3\u001b[0m     \u001b[1;32mfor\u001b[0m \u001b[0mv\u001b[0m \u001b[1;32min\u001b[0m \u001b[0mv_array\u001b[0m\u001b[1;33m:\u001b[0m\u001b[1;33m\u001b[0m\u001b[0m\n\u001b[0;32m      4\u001b[0m         \u001b[0msystem\u001b[0m \u001b[1;33m=\u001b[0m \u001b[0mmake_system\u001b[0m\u001b[1;33m(\u001b[0m\u001b[1;36m10\u001b[0m\u001b[1;33m,\u001b[0m \u001b[0mv\u001b[0m\u001b[1;33m)\u001b[0m\u001b[1;33m\u001b[0m\u001b[0m\n\u001b[1;32m----> 5\u001b[1;33m         \u001b[0mv_sweep\u001b[0m\u001b[1;33m[\u001b[0m\u001b[0mv\u001b[0m\u001b[1;33m]\u001b[0m \u001b[1;33m=\u001b[0m \u001b[0mflight_time\u001b[0m\u001b[1;33m(\u001b[0m\u001b[0msystem\u001b[0m\u001b[1;33m)\u001b[0m\u001b[1;33m\u001b[0m\u001b[0m\n\u001b[0m\u001b[0;32m      6\u001b[0m     \u001b[1;32mreturn\u001b[0m \u001b[0mv_sweep\u001b[0m\u001b[1;33m\u001b[0m\u001b[0m\n",
      "\u001b[1;32m<ipython-input-36-9e5b9979be87>\u001b[0m in \u001b[0;36mflight_time\u001b[1;34m(system)\u001b[0m\n\u001b[0;32m     11\u001b[0m     \u001b[0my\u001b[0m \u001b[1;33m=\u001b[0m \u001b[0msystem\u001b[0m\u001b[1;33m.\u001b[0m\u001b[0mresults\u001b[0m\u001b[1;33m.\u001b[0m\u001b[0my\u001b[0m\u001b[1;33m\u001b[0m\u001b[0m\n\u001b[0;32m     12\u001b[0m     \u001b[0minverse\u001b[0m \u001b[1;33m=\u001b[0m \u001b[0mSeries\u001b[0m\u001b[1;33m(\u001b[0m\u001b[0my\u001b[0m\u001b[1;33m.\u001b[0m\u001b[0mindex\u001b[0m\u001b[1;33m,\u001b[0m \u001b[0mindex\u001b[0m\u001b[1;33m=\u001b[0m\u001b[0my\u001b[0m\u001b[1;33m.\u001b[0m\u001b[0mvalues\u001b[0m\u001b[1;33m)\u001b[0m\u001b[1;33m\u001b[0m\u001b[0m\n\u001b[1;32m---> 13\u001b[1;33m     \u001b[0mT\u001b[0m \u001b[1;33m=\u001b[0m \u001b[0minterpolate\u001b[0m\u001b[1;33m(\u001b[0m\u001b[0minverse\u001b[0m\u001b[1;33m,\u001b[0m \u001b[0mkind\u001b[0m\u001b[1;33m=\u001b[0m\u001b[1;34m'cubic'\u001b[0m\u001b[1;33m)\u001b[0m\u001b[1;33m\u001b[0m\u001b[0m\n\u001b[0m\u001b[0;32m     14\u001b[0m     \u001b[0mT_sidewalk\u001b[0m \u001b[1;33m=\u001b[0m \u001b[0mT\u001b[0m\u001b[1;33m(\u001b[0m\u001b[1;36m0\u001b[0m\u001b[1;33m)\u001b[0m\u001b[1;33m\u001b[0m\u001b[0m\n\u001b[0;32m     15\u001b[0m     \u001b[1;32mreturn\u001b[0m \u001b[0mT_sidewalk\u001b[0m \u001b[1;33m*\u001b[0m \u001b[0ms\u001b[0m\u001b[1;33m\u001b[0m\u001b[0m\n",
      "\u001b[1;32m~\\Documents\\GitHub\\ModSimPy\\code\\modsim.py\u001b[0m in \u001b[0;36minterpolate\u001b[1;34m(series, **options)\u001b[0m\n\u001b[0;32m    305\u001b[0m \u001b[1;33m\u001b[0m\u001b[0m\n\u001b[0;32m    306\u001b[0m     \u001b[1;31m# call interp1d, which returns a new function object\u001b[0m\u001b[1;33m\u001b[0m\u001b[1;33m\u001b[0m\u001b[0m\n\u001b[1;32m--> 307\u001b[1;33m     \u001b[1;32mreturn\u001b[0m \u001b[0minterp1d\u001b[0m\u001b[1;33m(\u001b[0m\u001b[0mseries\u001b[0m\u001b[1;33m.\u001b[0m\u001b[0mindex\u001b[0m\u001b[1;33m,\u001b[0m \u001b[0mseries\u001b[0m\u001b[1;33m.\u001b[0m\u001b[0mvalues\u001b[0m\u001b[1;33m,\u001b[0m \u001b[1;33m**\u001b[0m\u001b[0moptions\u001b[0m\u001b[1;33m)\u001b[0m\u001b[1;33m\u001b[0m\u001b[0m\n\u001b[0m\u001b[0;32m    308\u001b[0m \u001b[1;33m\u001b[0m\u001b[0m\n\u001b[0;32m    309\u001b[0m \u001b[1;33m\u001b[0m\u001b[0m\n",
      "\u001b[1;32mC:\\ProgramData\\Miniconda3\\lib\\site-packages\\scipy\\interpolate\\interpolate.py\u001b[0m in \u001b[0;36m__init__\u001b[1;34m(***failed resolving arguments***)\u001b[0m\n\u001b[0;32m    494\u001b[0m \u001b[1;33m\u001b[0m\u001b[0m\n\u001b[0;32m    495\u001b[0m             self._spline = make_interp_spline(xx, yy, k=order,\n\u001b[1;32m--> 496\u001b[1;33m                                               check_finite=False)\n\u001b[0m\u001b[0;32m    497\u001b[0m             \u001b[1;32mif\u001b[0m \u001b[0mrewrite_nan\u001b[0m\u001b[1;33m:\u001b[0m\u001b[1;33m\u001b[0m\u001b[0m\n\u001b[0;32m    498\u001b[0m                 \u001b[0mself\u001b[0m\u001b[1;33m.\u001b[0m\u001b[0m_call\u001b[0m \u001b[1;33m=\u001b[0m \u001b[0mself\u001b[0m\u001b[1;33m.\u001b[0m\u001b[0m__class__\u001b[0m\u001b[1;33m.\u001b[0m\u001b[0m_call_nan_spline\u001b[0m\u001b[1;33m\u001b[0m\u001b[0m\n",
      "\u001b[1;32mC:\\ProgramData\\Miniconda3\\lib\\site-packages\\scipy\\interpolate\\_bsplines.py\u001b[0m in \u001b[0;36mmake_interp_spline\u001b[1;34m(x, y, k, t, bc_type, axis, check_finite)\u001b[0m\n\u001b[0;32m    665\u001b[0m \u001b[1;33m\u001b[0m\u001b[0m\n\u001b[0;32m    666\u001b[0m     \u001b[1;32mif\u001b[0m \u001b[0mx\u001b[0m\u001b[1;33m.\u001b[0m\u001b[0mndim\u001b[0m \u001b[1;33m!=\u001b[0m \u001b[1;36m1\u001b[0m \u001b[1;32mor\u001b[0m \u001b[0mnp\u001b[0m\u001b[1;33m.\u001b[0m\u001b[0many\u001b[0m\u001b[1;33m(\u001b[0m\u001b[0mx\u001b[0m\u001b[1;33m[\u001b[0m\u001b[1;36m1\u001b[0m\u001b[1;33m:\u001b[0m\u001b[1;33m]\u001b[0m \u001b[1;33m<=\u001b[0m \u001b[0mx\u001b[0m\u001b[1;33m[\u001b[0m\u001b[1;33m:\u001b[0m\u001b[1;33m-\u001b[0m\u001b[1;36m1\u001b[0m\u001b[1;33m]\u001b[0m\u001b[1;33m)\u001b[0m\u001b[1;33m:\u001b[0m\u001b[1;33m\u001b[0m\u001b[0m\n\u001b[1;32m--> 667\u001b[1;33m         \u001b[1;32mraise\u001b[0m \u001b[0mValueError\u001b[0m\u001b[1;33m(\u001b[0m\u001b[1;34m\"Expect x to be a 1-D sorted array_like.\"\u001b[0m\u001b[1;33m)\u001b[0m\u001b[1;33m\u001b[0m\u001b[0m\n\u001b[0m\u001b[0;32m    668\u001b[0m     \u001b[1;32mif\u001b[0m \u001b[0mk\u001b[0m \u001b[1;33m<\u001b[0m \u001b[1;36m0\u001b[0m\u001b[1;33m:\u001b[0m\u001b[1;33m\u001b[0m\u001b[0m\n\u001b[0;32m    669\u001b[0m         \u001b[1;32mraise\u001b[0m \u001b[0mValueError\u001b[0m\u001b[1;33m(\u001b[0m\u001b[1;34m\"Expect non-negative k.\"\u001b[0m\u001b[1;33m)\u001b[0m\u001b[1;33m\u001b[0m\u001b[0m\n",
      "\u001b[1;31mValueError\u001b[0m: Expect x to be a 1-D sorted array_like."
     ]
    }
   ],
   "source": [
    "v_array = linspace(-100, 100, 201)\n",
    "v_sweep = v0_sweep(v_array)\n",
    "plot(v_sweep)"
   ]
  },
  {
   "cell_type": "code",
   "execution_count": 83,
   "metadata": {},
   "outputs": [
    {
     "data": {
      "text/html": [
       "<div>\n",
       "<style>\n",
       "    .dataframe thead tr:only-child th {\n",
       "        text-align: right;\n",
       "    }\n",
       "\n",
       "    .dataframe thead th {\n",
       "        text-align: left;\n",
       "    }\n",
       "\n",
       "    .dataframe tbody tr th {\n",
       "        vertical-align: top;\n",
       "    }\n",
       "</style>\n",
       "<table border=\"1\" class=\"dataframe\">\n",
       "  <thead>\n",
       "    <tr style=\"text-align: right;\">\n",
       "      <th></th>\n",
       "      <th>value</th>\n",
       "    </tr>\n",
       "  </thead>\n",
       "  <tbody>\n",
       "    <tr>\n",
       "      <th>-100</th>\n",
       "      <td>70.26245860092291 second</td>\n",
       "    </tr>\n",
       "    <tr>\n",
       "      <th>-99</th>\n",
       "      <td>70.26245860092291 second</td>\n",
       "    </tr>\n",
       "    <tr>\n",
       "      <th>-98</th>\n",
       "      <td>70.26245860092291 second</td>\n",
       "    </tr>\n",
       "    <tr>\n",
       "      <th>-97</th>\n",
       "      <td>70.26245860092291 second</td>\n",
       "    </tr>\n",
       "    <tr>\n",
       "      <th>-96</th>\n",
       "      <td>70.26245860092291 second</td>\n",
       "    </tr>\n",
       "    <tr>\n",
       "      <th>-95</th>\n",
       "      <td>70.26245860092291 second</td>\n",
       "    </tr>\n",
       "    <tr>\n",
       "      <th>-94</th>\n",
       "      <td>70.26245860092291 second</td>\n",
       "    </tr>\n",
       "    <tr>\n",
       "      <th>-93</th>\n",
       "      <td>70.26245860092291 second</td>\n",
       "    </tr>\n",
       "    <tr>\n",
       "      <th>-92</th>\n",
       "      <td>70.26245860092291 second</td>\n",
       "    </tr>\n",
       "    <tr>\n",
       "      <th>-91</th>\n",
       "      <td>70.26245860092291 second</td>\n",
       "    </tr>\n",
       "    <tr>\n",
       "      <th>-90</th>\n",
       "      <td>70.26245860092291 second</td>\n",
       "    </tr>\n",
       "    <tr>\n",
       "      <th>-89</th>\n",
       "      <td>70.26245860092291 second</td>\n",
       "    </tr>\n",
       "    <tr>\n",
       "      <th>-88</th>\n",
       "      <td>70.26245860092291 second</td>\n",
       "    </tr>\n",
       "    <tr>\n",
       "      <th>-87</th>\n",
       "      <td>70.26245860092291 second</td>\n",
       "    </tr>\n",
       "    <tr>\n",
       "      <th>-86</th>\n",
       "      <td>70.26245860092291 second</td>\n",
       "    </tr>\n",
       "    <tr>\n",
       "      <th>-85</th>\n",
       "      <td>70.26245860092291 second</td>\n",
       "    </tr>\n",
       "    <tr>\n",
       "      <th>-84</th>\n",
       "      <td>70.26245860092291 second</td>\n",
       "    </tr>\n",
       "    <tr>\n",
       "      <th>-83</th>\n",
       "      <td>70.26245860092291 second</td>\n",
       "    </tr>\n",
       "    <tr>\n",
       "      <th>-82</th>\n",
       "      <td>70.26245860092291 second</td>\n",
       "    </tr>\n",
       "    <tr>\n",
       "      <th>-81</th>\n",
       "      <td>70.26245860092291 second</td>\n",
       "    </tr>\n",
       "    <tr>\n",
       "      <th>-80</th>\n",
       "      <td>70.26245860092291 second</td>\n",
       "    </tr>\n",
       "    <tr>\n",
       "      <th>-79</th>\n",
       "      <td>70.26245860092291 second</td>\n",
       "    </tr>\n",
       "    <tr>\n",
       "      <th>-78</th>\n",
       "      <td>70.26245860092291 second</td>\n",
       "    </tr>\n",
       "    <tr>\n",
       "      <th>-77</th>\n",
       "      <td>70.26245860092291 second</td>\n",
       "    </tr>\n",
       "    <tr>\n",
       "      <th>-76</th>\n",
       "      <td>70.26245860092291 second</td>\n",
       "    </tr>\n",
       "    <tr>\n",
       "      <th>-75</th>\n",
       "      <td>70.26245860092291 second</td>\n",
       "    </tr>\n",
       "    <tr>\n",
       "      <th>-74</th>\n",
       "      <td>70.26245860092291 second</td>\n",
       "    </tr>\n",
       "    <tr>\n",
       "      <th>-73</th>\n",
       "      <td>70.26245860092291 second</td>\n",
       "    </tr>\n",
       "    <tr>\n",
       "      <th>-72</th>\n",
       "      <td>70.26245860092291 second</td>\n",
       "    </tr>\n",
       "    <tr>\n",
       "      <th>-71</th>\n",
       "      <td>70.26245860092291 second</td>\n",
       "    </tr>\n",
       "    <tr>\n",
       "      <th>...</th>\n",
       "      <td>...</td>\n",
       "    </tr>\n",
       "    <tr>\n",
       "      <th>71</th>\n",
       "      <td>70.26245860092291 second</td>\n",
       "    </tr>\n",
       "    <tr>\n",
       "      <th>72</th>\n",
       "      <td>70.26245860092291 second</td>\n",
       "    </tr>\n",
       "    <tr>\n",
       "      <th>73</th>\n",
       "      <td>70.26245860092291 second</td>\n",
       "    </tr>\n",
       "    <tr>\n",
       "      <th>74</th>\n",
       "      <td>70.26245860092291 second</td>\n",
       "    </tr>\n",
       "    <tr>\n",
       "      <th>75</th>\n",
       "      <td>70.26245860092291 second</td>\n",
       "    </tr>\n",
       "    <tr>\n",
       "      <th>76</th>\n",
       "      <td>70.26245860092291 second</td>\n",
       "    </tr>\n",
       "    <tr>\n",
       "      <th>77</th>\n",
       "      <td>70.26245860092291 second</td>\n",
       "    </tr>\n",
       "    <tr>\n",
       "      <th>78</th>\n",
       "      <td>70.26245860092291 second</td>\n",
       "    </tr>\n",
       "    <tr>\n",
       "      <th>79</th>\n",
       "      <td>70.26245860092291 second</td>\n",
       "    </tr>\n",
       "    <tr>\n",
       "      <th>80</th>\n",
       "      <td>70.26245860092291 second</td>\n",
       "    </tr>\n",
       "    <tr>\n",
       "      <th>81</th>\n",
       "      <td>70.26245860092291 second</td>\n",
       "    </tr>\n",
       "    <tr>\n",
       "      <th>82</th>\n",
       "      <td>70.26245860092291 second</td>\n",
       "    </tr>\n",
       "    <tr>\n",
       "      <th>83</th>\n",
       "      <td>70.26245860092291 second</td>\n",
       "    </tr>\n",
       "    <tr>\n",
       "      <th>84</th>\n",
       "      <td>70.26245860092291 second</td>\n",
       "    </tr>\n",
       "    <tr>\n",
       "      <th>85</th>\n",
       "      <td>70.26245860092291 second</td>\n",
       "    </tr>\n",
       "    <tr>\n",
       "      <th>86</th>\n",
       "      <td>70.26245860092291 second</td>\n",
       "    </tr>\n",
       "    <tr>\n",
       "      <th>87</th>\n",
       "      <td>70.26245860092291 second</td>\n",
       "    </tr>\n",
       "    <tr>\n",
       "      <th>88</th>\n",
       "      <td>70.26245860092291 second</td>\n",
       "    </tr>\n",
       "    <tr>\n",
       "      <th>89</th>\n",
       "      <td>70.26245860092291 second</td>\n",
       "    </tr>\n",
       "    <tr>\n",
       "      <th>90</th>\n",
       "      <td>70.26245860092291 second</td>\n",
       "    </tr>\n",
       "    <tr>\n",
       "      <th>91</th>\n",
       "      <td>70.26245860092291 second</td>\n",
       "    </tr>\n",
       "    <tr>\n",
       "      <th>92</th>\n",
       "      <td>70.26245860092291 second</td>\n",
       "    </tr>\n",
       "    <tr>\n",
       "      <th>93</th>\n",
       "      <td>70.26245860092291 second</td>\n",
       "    </tr>\n",
       "    <tr>\n",
       "      <th>94</th>\n",
       "      <td>70.26245860092291 second</td>\n",
       "    </tr>\n",
       "    <tr>\n",
       "      <th>95</th>\n",
       "      <td>70.26245860092291 second</td>\n",
       "    </tr>\n",
       "    <tr>\n",
       "      <th>96</th>\n",
       "      <td>70.26245860092291 second</td>\n",
       "    </tr>\n",
       "    <tr>\n",
       "      <th>97</th>\n",
       "      <td>70.26245860092291 second</td>\n",
       "    </tr>\n",
       "    <tr>\n",
       "      <th>98</th>\n",
       "      <td>70.26245860092291 second</td>\n",
       "    </tr>\n",
       "    <tr>\n",
       "      <th>99</th>\n",
       "      <td>70.26245860092291 second</td>\n",
       "    </tr>\n",
       "    <tr>\n",
       "      <th>100</th>\n",
       "      <td>70.26245860092291 second</td>\n",
       "    </tr>\n",
       "  </tbody>\n",
       "</table>\n",
       "<p>201 rows × 1 columns</p>\n",
       "</div>"
      ],
      "text/plain": [
       "-100    70.26245860092291 second\n",
       "-99     70.26245860092291 second\n",
       "-98     70.26245860092291 second\n",
       "-97     70.26245860092291 second\n",
       "-96     70.26245860092291 second\n",
       "-95     70.26245860092291 second\n",
       "-94     70.26245860092291 second\n",
       "-93     70.26245860092291 second\n",
       "-92     70.26245860092291 second\n",
       "-91     70.26245860092291 second\n",
       "-90     70.26245860092291 second\n",
       "-89     70.26245860092291 second\n",
       "-88     70.26245860092291 second\n",
       "-87     70.26245860092291 second\n",
       "-86     70.26245860092291 second\n",
       "-85     70.26245860092291 second\n",
       "-84     70.26245860092291 second\n",
       "-83     70.26245860092291 second\n",
       "-82     70.26245860092291 second\n",
       "-81     70.26245860092291 second\n",
       "-80     70.26245860092291 second\n",
       "-79     70.26245860092291 second\n",
       "-78     70.26245860092291 second\n",
       "-77     70.26245860092291 second\n",
       "-76     70.26245860092291 second\n",
       "-75     70.26245860092291 second\n",
       "-74     70.26245860092291 second\n",
       "-73     70.26245860092291 second\n",
       "-72     70.26245860092291 second\n",
       "-71     70.26245860092291 second\n",
       "                  ...           \n",
       " 71     70.26245860092291 second\n",
       " 72     70.26245860092291 second\n",
       " 73     70.26245860092291 second\n",
       " 74     70.26245860092291 second\n",
       " 75     70.26245860092291 second\n",
       " 76     70.26245860092291 second\n",
       " 77     70.26245860092291 second\n",
       " 78     70.26245860092291 second\n",
       " 79     70.26245860092291 second\n",
       " 80     70.26245860092291 second\n",
       " 81     70.26245860092291 second\n",
       " 82     70.26245860092291 second\n",
       " 83     70.26245860092291 second\n",
       " 84     70.26245860092291 second\n",
       " 85     70.26245860092291 second\n",
       " 86     70.26245860092291 second\n",
       " 87     70.26245860092291 second\n",
       " 88     70.26245860092291 second\n",
       " 89     70.26245860092291 second\n",
       " 90     70.26245860092291 second\n",
       " 91     70.26245860092291 second\n",
       " 92     70.26245860092291 second\n",
       " 93     70.26245860092291 second\n",
       " 94     70.26245860092291 second\n",
       " 95     70.26245860092291 second\n",
       " 96     70.26245860092291 second\n",
       " 97     70.26245860092291 second\n",
       " 98     70.26245860092291 second\n",
       " 99     70.26245860092291 second\n",
       " 100    70.26245860092291 second\n",
       "Length: 201, dtype: object"
      ]
     },
     "execution_count": 83,
     "metadata": {},
     "output_type": "execute_result"
    }
   ],
   "source": [
    "v_sweep"
   ]
  },
  {
   "cell_type": "markdown",
   "metadata": {},
   "source": [
    "##### With air resistance"
   ]
  },
  {
   "cell_type": "markdown",
   "metadata": {},
   "source": [
    "Next we'll add air resistance using the [drag equation](https://en.wikipedia.org/wiki/Drag_equation)\n",
    "\n",
    "First I'll create a `Condition` object to contain the quantities we'll need."
   ]
  },
  {
   "cell_type": "code",
   "execution_count": 84,
   "metadata": {
    "collapsed": true
   },
   "outputs": [],
   "source": [
    "condition = Condition(height = 381 * m,\n",
    "                      v_init = 0 * m / s,\n",
    "                      g = 9.8 * m/s**2,\n",
    "                      mass = 2.5e-3 * kg,\n",
    "                      diameter = 19e-3 * m,\n",
    "                      rho = 1.2 * kg/m**3,\n",
    "                      v_term = 18 * m / s,\n",
    "                      duration = 30 * s)"
   ]
  },
  {
   "cell_type": "markdown",
   "metadata": {
    "collapsed": true
   },
   "source": [
    "Now here's a version of `make_system` that takes a `Condition` object as a parameter.\n",
    "\n",
    "`make_system` uses the given value of `v_term` to compute the drag coefficient `C_d`."
   ]
  },
  {
   "cell_type": "code",
   "execution_count": 85,
   "metadata": {
    "collapsed": true
   },
   "outputs": [],
   "source": [
    "def make_system(condition):\n",
    "    \"\"\"Makes a System object for the given conditions.\n",
    "    \n",
    "    condition: Condition with height, g, mass, diameter, \n",
    "               rho, v_term, and duration\n",
    "    \n",
    "    returns: System with init, g, mass, rho, C_d, area, and ts\n",
    "    \"\"\"\n",
    "    unpack(condition)\n",
    "    \n",
    "    init = State(y=height, v=v_init)\n",
    "    area = np.pi * (diameter/2)**2\n",
    "    C_d = 2 * mass * g / (rho * area * v_term**2)\n",
    "    ts = linspace(0, duration, 101)\n",
    "    \n",
    "    return System(init=init, g=g, mass=mass, rho=rho,\n",
    "                  C_d=C_d, area=area, ts=ts)"
   ]
  },
  {
   "cell_type": "markdown",
   "metadata": {
    "collapsed": true
   },
   "source": [
    "Let's make a `System`"
   ]
  },
  {
   "cell_type": "code",
   "execution_count": 86,
   "metadata": {},
   "outputs": [
    {
     "data": {
      "text/html": [
       "<div>\n",
       "<style>\n",
       "    .dataframe thead tr:only-child th {\n",
       "        text-align: right;\n",
       "    }\n",
       "\n",
       "    .dataframe thead th {\n",
       "        text-align: left;\n",
       "    }\n",
       "\n",
       "    .dataframe tbody tr th {\n",
       "        vertical-align: top;\n",
       "    }\n",
       "</style>\n",
       "<table border=\"1\" class=\"dataframe\">\n",
       "  <thead>\n",
       "    <tr style=\"text-align: right;\">\n",
       "      <th></th>\n",
       "      <th>value</th>\n",
       "    </tr>\n",
       "  </thead>\n",
       "  <tbody>\n",
       "    <tr>\n",
       "      <th>init</th>\n",
       "      <td>y             381 meter\n",
       "v    0.0 meter / secon...</td>\n",
       "    </tr>\n",
       "    <tr>\n",
       "      <th>g</th>\n",
       "      <td>9.8 meter / second ** 2</td>\n",
       "    </tr>\n",
       "    <tr>\n",
       "      <th>mass</th>\n",
       "      <td>0.0025 kilogram</td>\n",
       "    </tr>\n",
       "    <tr>\n",
       "      <th>rho</th>\n",
       "      <td>1.2 kilogram / meter ** 3</td>\n",
       "    </tr>\n",
       "    <tr>\n",
       "      <th>C_d</th>\n",
       "      <td>0.4445009981135434 dimensionless</td>\n",
       "    </tr>\n",
       "    <tr>\n",
       "      <th>area</th>\n",
       "      <td>0.0002835287369864788 meter ** 2</td>\n",
       "    </tr>\n",
       "    <tr>\n",
       "      <th>ts</th>\n",
       "      <td>[0.0 second, 0.3 second, 0.6 second, 0.8999999...</td>\n",
       "    </tr>\n",
       "  </tbody>\n",
       "</table>\n",
       "</div>"
      ],
      "text/plain": [
       "init    y             381 meter\n",
       "v    0.0 meter / secon...\n",
       "g                                 9.8 meter / second ** 2\n",
       "mass                                      0.0025 kilogram\n",
       "rho                             1.2 kilogram / meter ** 3\n",
       "C_d                      0.4445009981135434 dimensionless\n",
       "area                     0.0002835287369864788 meter ** 2\n",
       "ts      [0.0 second, 0.3 second, 0.6 second, 0.8999999...\n",
       "dtype: object"
      ]
     },
     "execution_count": 86,
     "metadata": {},
     "output_type": "execute_result"
    }
   ],
   "source": [
    "system = make_system(condition)\n",
    "system"
   ]
  },
  {
   "cell_type": "markdown",
   "metadata": {
    "collapsed": true
   },
   "source": [
    "Here's the slope function, including acceleration due to gravity and drag."
   ]
  },
  {
   "cell_type": "code",
   "execution_count": 87,
   "metadata": {
    "collapsed": true
   },
   "outputs": [],
   "source": [
    "def slope_func(state, t, system):\n",
    "    \"\"\"Compute derivatives of the state.\n",
    "    \n",
    "    state: position, velocity\n",
    "    t: time\n",
    "    system: System object containing g, rho,\n",
    "            C_d, area, and mass\n",
    "    \n",
    "    returns: derivatives of y and v\n",
    "    \"\"\"\n",
    "    y, v = state\n",
    "    unpack(system)\n",
    "    \n",
    "    f_drag = rho * v**2 * C_d * area / 2\n",
    "    a_drag = f_drag / mass\n",
    "    \n",
    "    dydt = v\n",
    "    dvdt = -g + a_drag\n",
    "    \n",
    "    return dydt, dvdt"
   ]
  },
  {
   "cell_type": "markdown",
   "metadata": {
    "collapsed": true
   },
   "source": [
    "As always, let's test the slope function with the initial conditions."
   ]
  },
  {
   "cell_type": "code",
   "execution_count": 88,
   "metadata": {},
   "outputs": [
    {
     "data": {
      "text/plain": [
       "(<Quantity(0.0, 'meter / second')>, <Quantity(-9.8, 'meter / second ** 2')>)"
      ]
     },
     "execution_count": 88,
     "metadata": {},
     "output_type": "execute_result"
    }
   ],
   "source": [
    "slope_func(system.init, 0, system)"
   ]
  },
  {
   "cell_type": "markdown",
   "metadata": {
    "collapsed": true
   },
   "source": [
    "And then run the simulation."
   ]
  },
  {
   "cell_type": "code",
   "execution_count": 89,
   "metadata": {
    "collapsed": true
   },
   "outputs": [],
   "source": [
    "run_odeint(system, slope_func)"
   ]
  },
  {
   "cell_type": "markdown",
   "metadata": {
    "collapsed": true
   },
   "source": [
    "First check that the simulation ran long enough for the penny to land."
   ]
  },
  {
   "cell_type": "code",
   "execution_count": 90,
   "metadata": {},
   "outputs": [
    {
     "data": {
      "text/plain": [
       "(<Quantity(-136.083704279796, 'meter')>,\n",
       " <Quantity(-18.00000000087864, 'meter / second')>)"
      ]
     },
     "execution_count": 90,
     "metadata": {},
     "output_type": "execute_result"
    }
   ],
   "source": [
    "final_state(system.results)"
   ]
  },
  {
   "cell_type": "markdown",
   "metadata": {
    "collapsed": true
   },
   "source": [
    "Then compute the flight time."
   ]
  },
  {
   "cell_type": "code",
   "execution_count": 91,
   "metadata": {},
   "outputs": [
    {
     "data": {
      "text/plain": [
       "array(22.439794207078908)"
      ]
     },
     "execution_count": 91,
     "metadata": {},
     "output_type": "execute_result"
    }
   ],
   "source": [
    "y = system.results.y\n",
    "inverse = Series(y.index, index=y.values)\n",
    "T = interpolate(inverse, kind='cubic')\n",
    "T_sidewalk = T(0)\n",
    "T_sidewalk"
   ]
  },
  {
   "cell_type": "markdown",
   "metadata": {
    "collapsed": true
   },
   "source": [
    "Setting the duration to the computed flight time, we can check the final conditions."
   ]
  },
  {
   "cell_type": "code",
   "execution_count": 92,
   "metadata": {
    "collapsed": true
   },
   "outputs": [],
   "source": [
    "condition.set(duration=T_sidewalk)\n",
    "system = make_system(condition)\n",
    "run_odeint(system, slope_func)\n",
    "y_final, v_final = final_state(system.results)"
   ]
  },
  {
   "cell_type": "markdown",
   "metadata": {
    "collapsed": true
   },
   "source": [
    "The final height is close to 0, as expected.  And the final velocity is close to the given terminal velocity."
   ]
  },
  {
   "cell_type": "code",
   "execution_count": 93,
   "metadata": {},
   "outputs": [
    {
     "data": {
      "text/plain": [
       "(<Quantity(1.2732392917769175e-10, 'meter')>,\n",
       " <Quantity(-18.00000000874157, 'meter / second')>)"
      ]
     },
     "execution_count": 93,
     "metadata": {},
     "output_type": "execute_result"
    }
   ],
   "source": [
    "y_final, v_final"
   ]
  },
  {
   "cell_type": "markdown",
   "metadata": {
    "collapsed": true
   },
   "source": [
    "Here's the plot of position as a function of time."
   ]
  },
  {
   "cell_type": "code",
   "execution_count": 94,
   "metadata": {},
   "outputs": [
    {
     "name": "stdout",
     "output_type": "stream",
     "text": [
      "Saving figure to file chap09-fig02.pdf\n"
     ]
    },
    {
     "data": {
      "image/png": "[encoded data removed]",
      "text/plain": [
       "<matplotlib.figure.Figure at 0x15784647668>"
      ]
     },
     "metadata": {},
     "output_type": "display_data"
    }
   ],
   "source": [
    "plot_position(system.results)\n",
    "savefig('chap09-fig02.pdf')"
   ]
  },
  {
   "cell_type": "markdown",
   "metadata": {},
   "source": [
    "And velocity as a function of time:"
   ]
  },
  {
   "cell_type": "code",
   "execution_count": 95,
   "metadata": {
    "collapsed": true
   },
   "outputs": [],
   "source": [
    "def plot_velocity(results):\n",
    "    \"\"\"Plot the results.\n",
    "    \n",
    "    results: DataFrame with velocity, v\n",
    "    \"\"\"\n",
    "    newfig()\n",
    "    plot(results.v, label='v')\n",
    "        \n",
    "    decorate(xlabel='Time (s)',\n",
    "             ylabel='Velocity (m/2)')"
   ]
  },
  {
   "cell_type": "code",
   "execution_count": 96,
   "metadata": {},
   "outputs": [
    {
     "data": {
      "image/png": "[encoded data removed]",
      "text/plain": [
       "<matplotlib.figure.Figure at 0x15784434cc0>"
      ]
     },
     "metadata": {},
     "output_type": "display_data"
    }
   ],
   "source": [
    "plot_velocity(system.results)"
   ]
  },
  {
   "cell_type": "markdown",
   "metadata": {
    "collapsed": true
   },
   "source": [
    "From an initial velocity of 0, the penny accelerates downward until it reaches terminal velocity; after that, velocity is constant."
   ]
  },
  {
   "cell_type": "markdown",
   "metadata": {},
   "source": [
    "**Exercise:** Run the simulation with an initial velocity, downward, that exceeds the penny's terminal velocity.  Hint: use `condition.set`.\n",
    "\n",
    "What do you expect to happen?  Plot velocity and position as a function of time, and see if they are consistent with your prediction."
   ]
  },
  {
   "cell_type": "code",
   "execution_count": 39,
   "metadata": {
    "collapsed": true
   },
   "outputs": [],
   "source": []
  },
  {
   "cell_type": "code",
   "execution_count": 40,
   "metadata": {
    "collapsed": true,
    "scrolled": false
   },
   "outputs": [],
   "source": [
    "# Solution goes here"
   ]
  },
  {
   "cell_type": "markdown",
   "metadata": {},
   "source": [
    "### Dropping quarters"
   ]
  },
  {
   "cell_type": "markdown",
   "metadata": {},
   "source": [
    "Suppose we drop a quarter from the Empire State Building and find that its flight time is 19.1 seconds.  We can use this measurement to estimate the coefficient of drag.\n",
    "\n",
    "Here's a `Condition` object with the relevant parameters from\n",
    "https://en.wikipedia.org/wiki/Quarter_(United_States_coin)\n"
   ]
  },
  {
   "cell_type": "code",
   "execution_count": 41,
   "metadata": {
    "collapsed": true
   },
   "outputs": [],
   "source": [
    "condition = Condition(height = 381 * m,\n",
    "                      v_init = 0 * m / s,\n",
    "                      g = 9.8 * m/s**2,\n",
    "                      mass = 5.67e-3 * kg,\n",
    "                      diameter = 24.26e-3 * m,\n",
    "                      rho = 1.2 * kg/m**3,\n",
    "                      duration = 19.1 * s)"
   ]
  },
  {
   "cell_type": "markdown",
   "metadata": {},
   "source": [
    "And here's a modified version of `make_system`"
   ]
  },
  {
   "cell_type": "code",
   "execution_count": 42,
   "metadata": {
    "collapsed": true
   },
   "outputs": [],
   "source": [
    "def make_system(condition):\n",
    "    \"\"\"Makes a System object for the given conditions.\n",
    "    \n",
    "    condition: Condition with height, v_init, g, mass, diameter, \n",
    "               rho, C_d, and duration\n",
    "    \n",
    "    returns: System with init, g, mass, rho, C_d, area, and ts\n",
    "    \"\"\"\n",
    "    unpack(condition)\n",
    "    \n",
    "    init = State(y=height, v=v_init)\n",
    "    area = np.pi * (diameter/2)**2\n",
    "    ts = linspace(0, duration, 101)\n",
    "    \n",
    "    return System(init=init, g=g, mass=mass, rho=rho,\n",
    "                  C_d=C_d, area=area, ts=ts)"
   ]
  },
  {
   "cell_type": "markdown",
   "metadata": {},
   "source": [
    "We can run the simulation with an initial guess of `C_d=0.4`."
   ]
  },
  {
   "cell_type": "code",
   "execution_count": 43,
   "metadata": {
    "collapsed": true
   },
   "outputs": [],
   "source": [
    "condition.set(C_d=0.4)\n",
    "system = make_system(condition)\n",
    "run_odeint(system, slope_func)\n",
    "plot_position(system.results)"
   ]
  },
  {
   "cell_type": "markdown",
   "metadata": {},
   "source": [
    "The final height is -11 meters, which means our guess was too low (we need more drag to slow the quarter down)."
   ]
  },
  {
   "cell_type": "code",
   "execution_count": 44,
   "metadata": {
    "collapsed": true
   },
   "outputs": [],
   "source": [
    "final_state(system.results)"
   ]
  },
  {
   "cell_type": "markdown",
   "metadata": {},
   "source": [
    "`height_func` takes a hypothetical value of `C_d` and returns the height after 19.1 seconds."
   ]
  },
  {
   "cell_type": "code",
   "execution_count": 45,
   "metadata": {
    "collapsed": true
   },
   "outputs": [],
   "source": [
    "def height_func(C_d, condition):\n",
    "    \"\"\"Final height as a function of C_d.\n",
    "    \n",
    "    C_d: drag coefficient\n",
    "    condition: Condition object\n",
    "    \n",
    "    returns: height in m\n",
    "    \"\"\"\n",
    "    condition.set(C_d=C_d)\n",
    "    system = make_system(condition)\n",
    "    run_odeint(system, slope_func)\n",
    "    y, v = final_state(system.results)\n",
    "    return y"
   ]
  },
  {
   "cell_type": "markdown",
   "metadata": {},
   "source": [
    "If we run it with `C_d=0.4`, we get -11 meters again."
   ]
  },
  {
   "cell_type": "code",
   "execution_count": 46,
   "metadata": {
    "collapsed": true
   },
   "outputs": [],
   "source": [
    "height_func(0.4, condition)"
   ]
  },
  {
   "cell_type": "markdown",
   "metadata": {},
   "source": [
    "Now we can use `fsolve` to find the value of `C_d` that makes the final height 0."
   ]
  },
  {
   "cell_type": "code",
   "execution_count": 47,
   "metadata": {
    "collapsed": true
   },
   "outputs": [],
   "source": [
    "solution = fsolve(height_func, 0.4, condition)\n",
    "solution"
   ]
  },
  {
   "cell_type": "markdown",
   "metadata": {},
   "source": [
    "Plugging in the estimated value, we can run the simulation again to get terminal velocity."
   ]
  },
  {
   "cell_type": "code",
   "execution_count": 48,
   "metadata": {
    "collapsed": true
   },
   "outputs": [],
   "source": [
    "condition.set(C_d=solution)\n",
    "system = make_system(condition)\n",
    "run_odeint(system, slope_func)\n",
    "final_state(system.results)"
   ]
  },
  {
   "cell_type": "markdown",
   "metadata": {},
   "source": [
    "In this example, the terminal velocity of the quarter is higher than that of the penny, but we should not take this result seriously because the measurements we used are not real; I made them up."
   ]
  },
  {
   "cell_type": "code",
   "execution_count": null,
   "metadata": {
    "collapsed": true
   },
   "outputs": [],
   "source": []
  }
 ],
 "metadata": {
  "kernelspec": {
   "display_name": "Python 3",
   "language": "python",
   "name": "python3"
  },
  "language_info": {
   "codemirror_mode": {
    "name": "ipython",
    "version": 3
   },
   "file_extension": ".py",
   "mimetype": "text/x-python",
   "name": "python",
   "nbconvert_exporter": "python",
   "pygments_lexer": "ipython3",
   "version": "3.6.1"
  }
 },
 "nbformat": 4,
 "nbformat_minor": 1
}
