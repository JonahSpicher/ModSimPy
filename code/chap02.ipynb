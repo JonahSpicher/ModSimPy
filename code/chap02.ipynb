{
 "cells": [
  {
   "cell_type": "markdown",
   "metadata": {},
   "source": [
    "# Modeling and Simulation in Python\n",
    "\n",
    "Chapter 2: Simulation\n",
    "\n",
    "Copyright 2017 Allen Downey\n",
    "\n",
    "License: [Creative Commons Attribution 4.0 International](https://creativecommons.org/licenses/by/4.0)\n"
   ]
  },
  {
   "cell_type": "markdown",
   "metadata": {},
   "source": [
    "We'll start with the same code we saw last time: the magic command that tells Jupyter where to put the figures, and the import statement that gets the functions defined in the `modsim` module."
   ]
  },
  {
   "cell_type": "code",
   "execution_count": 2,
   "metadata": {
    "collapsed": true
   },
   "outputs": [],
   "source": [
    "# If you want the figures to appear in the notebook, \n",
    "# and you want to interact with them, use\n",
    "# %matplotlib notebook\n",
    "\n",
    "# If you want the figures to appear in the notebook, \n",
    "# and you don't want to interact with them, use\n",
    "# %matplotlib inline\n",
    "\n",
    "# If you want the figures to appear in separate windows, use\n",
    "# %matplotlib qt5\n",
    "\n",
    "%matplotlib notebook\n",
    "\n",
    "from modsim import *"
   ]
  },
  {
   "cell_type": "markdown",
   "metadata": {},
   "source": [
    "## More than one System object\n",
    "\n",
    "Here's the code from the previous chapter, with two changes:\n",
    "\n",
    "1. I've added DocStrings that explain what each function does, and what parameters it takes.\n",
    "\n",
    "2. I've added a parameter named `system` to the functions so they work with whatever `System` object we give them, instead of always using `bikeshare`.  That will be useful soon when we have more than one `System` object."
   ]
  },
  {
   "cell_type": "code",
   "execution_count": 3,
   "metadata": {
    "collapsed": true
   },
   "outputs": [],
   "source": [
    "def run_steps(system, num_steps=1, p1=0.5, p2=0.5):\n",
    "    \"\"\"Simulate the given number of time steps.\n",
    "    \n",
    "    system: bikeshare System object\n",
    "    num_steps: number of time steps\n",
    "    p1: probability of an Olin->Wellesley customer arrival\n",
    "    p2: probability of a Wellesley->Olin customer arrival\n",
    "    \"\"\"\n",
    "    for i in range(num_steps):\n",
    "        step(system, p1, p2)\n",
    "        plot_system(system)\n",
    "        \n",
    "def step(system, p1=0.5, p2=0.5):\n",
    "    \"\"\"Simulate one minute of time.\n",
    "    \n",
    "    system: bikeshare System object\n",
    "    p1: probability of an Olin->Wellesley customer arrival\n",
    "    p2: probability of a Wellesley->Olin customer arrival\n",
    "    \"\"\"\n",
    "    if flip(p1):\n",
    "        bike_to_wellesley(system)\n",
    "    \n",
    "    if flip(p2):\n",
    "        bike_to_olin(system)\n",
    "        \n",
    "def bike_to_wellesley(system):\n",
    "    \"\"\"Move one bike from Olin to Wellesley.\n",
    "    \n",
    "    system: bikeshare System object\n",
    "    \"\"\"\n",
    "    move_bike(system, 1)\n",
    "    \n",
    "def bike_to_olin(system):\n",
    "    \"\"\"Move one bike from Wellesley to Olin.\n",
    "    \n",
    "    system: bikeshare System object\n",
    "    \"\"\"\n",
    "    move_bike(system, -1)\n",
    "    \n",
    "def move_bike(system, n):\n",
    "    \"\"\"Move a bike.\n",
    "    \n",
    "    system: bikeshare System object\n",
    "    n: +1 to move from Olin to Wellesley or\n",
    "       -1 to move from Wellesley to Olin\n",
    "    \"\"\"\n",
    "    system.olin -= n\n",
    "    system.wellesley += n\n",
    "    \n",
    "def plot_system(system):\n",
    "    \"\"\"Plot the current system of the bikeshare system.\n",
    "    \n",
    "    system: bikeshare System object\n",
    "    \"\"\"\n",
    "    plot(system.olin, 'rs-', label='Olin')\n",
    "    plot(system.wellesley, 'bo-', label='Wellesley')\n",
    "    \n",
    "def decorate_bikeshare():\n",
    "    \"\"\"Add a title and label the axes.\"\"\"\n",
    "    decorate(title='Olin-Wellesley Bikeshare',\n",
    "               xlabel='Time step (min)', \n",
    "               ylabel='Number of bikes')"
   ]
  },
  {
   "cell_type": "markdown",
   "metadata": {},
   "source": [
    "Now we can create more than one `System` object:"
   ]
  },
  {
   "cell_type": "code",
   "execution_count": 7,
   "metadata": {
    "collapsed": true
   },
   "outputs": [],
   "source": [
    "bikeshare1 = System(olin=10, wellesley=2)\n",
    "bikeshare1"
   ]
  },
  {
   "cell_type": "code",
   "execution_count": 8,
   "metadata": {
    "collapsed": true
   },
   "outputs": [],
   "source": [
    "bikeshare2 = System(olin=10, wellesley=2)\n",
    "bikeshare2"
   ]
  },
  {
   "cell_type": "markdown",
   "metadata": {},
   "source": [
    "And whenever we call a function, we indicate which `System` object to work with:"
   ]
  },
  {
   "cell_type": "code",
   "execution_count": 9,
   "metadata": {
    "collapsed": true
   },
   "outputs": [],
   "source": [
    "bike_to_olin(bikeshare1)"
   ]
  },
  {
   "cell_type": "code",
   "execution_count": 10,
   "metadata": {
    "collapsed": true
   },
   "outputs": [],
   "source": [
    "bike_to_wellesley(bikeshare2)"
   ]
  },
  {
   "cell_type": "markdown",
   "metadata": {},
   "source": [
    "And you can confirm that the different systems are getting updated independently:"
   ]
  },
  {
   "cell_type": "code",
   "execution_count": 11,
   "metadata": {
    "collapsed": true
   },
   "outputs": [],
   "source": [
    "bikeshare1"
   ]
  },
  {
   "cell_type": "code",
   "execution_count": 12,
   "metadata": {
    "collapsed": true
   },
   "outputs": [],
   "source": [
    "bikeshare2"
   ]
  },
  {
   "cell_type": "markdown",
   "metadata": {},
   "source": [
    "## Negative bikes"
   ]
  },
  {
   "cell_type": "markdown",
   "metadata": {},
   "source": [
    "In the code we have so far, the number of bikes at one of the locations can go negative, and the number of bikes at the other location can exceed the actual number of bikes in the system.\n",
    "\n",
    "If you run this simulation a few times, it happens quite often."
   ]
  },
  {
   "cell_type": "code",
   "execution_count": 4,
   "metadata": {},
   "outputs": [
    {
     "data": {
      "application/javascript": [
       "/* Put everything inside the global mpl namespace */\n",
       "window.mpl = {};\n",
       "\n",
       "\n",
       "mpl.get_websocket_type = function() {\n",
       "    if (typeof(WebSocket) !== 'undefined') {\n",
       "        return WebSocket;\n",
       "    } else if (typeof(MozWebSocket) !== 'undefined') {\n",
       "        return MozWebSocket;\n",
       "    } else {\n",
       "        alert('Your browser does not have WebSocket support.' +\n",
       "              'Please try Chrome, Safari or Firefox ≥ 6. ' +\n",
       "              'Firefox 4 and 5 are also supported but you ' +\n",
       "              'have to enable WebSockets in about:config.');\n",
       "    };\n",
       "}\n",
       "\n",
       "mpl.figure = function(figure_id, websocket, ondownload, parent_element) {\n",
       "    this.id = figure_id;\n",
       "\n",
       "    this.ws = websocket;\n",
       "\n",
       "    this.supports_binary = (this.ws.binaryType != undefined);\n",
       "\n",
       "    if (!this.supports_binary) {\n",
       "        var warnings = document.getElementById(\"mpl-warnings\");\n",
       "        if (warnings) {\n",
       "            warnings.style.display = 'block';\n",
       "            warnings.textContent = (\n",
       "                \"This browser does not support binary websocket messages. \" +\n",
       "                    \"Performance may be slow.\");\n",
       "        }\n",
       "    }\n",
       "\n",
       "    this.imageObj = new Image();\n",
       "\n",
       "    this.context = undefined;\n",
       "    this.message = undefined;\n",
       "    this.canvas = undefined;\n",
       "    this.rubberband_canvas = undefined;\n",
       "    this.rubberband_context = undefined;\n",
       "    this.format_dropdown = undefined;\n",
       "\n",
       "    this.image_mode = 'full';\n",
       "\n",
       "    this.root = $('<div/>');\n",
       "    this._root_extra_style(this.root)\n",
       "    this.root.attr('style', 'display: inline-block');\n",
       "\n",
       "    $(parent_element).append(this.root);\n",
       "\n",
       "    this._init_header(this);\n",
       "    this._init_canvas(this);\n",
       "    this._init_toolbar(this);\n",
       "\n",
       "    var fig = this;\n",
       "\n",
       "    this.waiting = false;\n",
       "\n",
       "    this.ws.onopen =  function () {\n",
       "            fig.send_message(\"supports_binary\", {value: fig.supports_binary});\n",
       "            fig.send_message(\"send_image_mode\", {});\n",
       "            if (mpl.ratio != 1) {\n",
       "                fig.send_message(\"set_dpi_ratio\", {'dpi_ratio': mpl.ratio});\n",
       "            }\n",
       "            fig.send_message(\"refresh\", {});\n",
       "        }\n",
       "\n",
       "    this.imageObj.onload = function() {\n",
       "            if (fig.image_mode == 'full') {\n",
       "                // Full images could contain transparency (where diff images\n",
       "                // almost always do), so we need to clear the canvas so that\n",
       "                // there is no ghosting.\n",
       "                fig.context.clearRect(0, 0, fig.canvas.width, fig.canvas.height);\n",
       "            }\n",
       "            fig.context.drawImage(fig.imageObj, 0, 0);\n",
       "        };\n",
       "\n",
       "    this.imageObj.onunload = function() {\n",
       "        this.ws.close();\n",
       "    }\n",
       "\n",
       "    this.ws.onmessage = this._make_on_message_function(this);\n",
       "\n",
       "    this.ondownload = ondownload;\n",
       "}\n",
       "\n",
       "mpl.figure.prototype._init_header = function() {\n",
       "    var titlebar = $(\n",
       "        '<div class=\"ui-dialog-titlebar ui-widget-header ui-corner-all ' +\n",
       "        'ui-helper-clearfix\"/>');\n",
       "    var titletext = $(\n",
       "        '<div class=\"ui-dialog-title\" style=\"width: 100%; ' +\n",
       "        'text-align: center; padding: 3px;\"/>');\n",
       "    titlebar.append(titletext)\n",
       "    this.root.append(titlebar);\n",
       "    this.header = titletext[0];\n",
       "}\n",
       "\n",
       "\n",
       "\n",
       "mpl.figure.prototype._canvas_extra_style = function(canvas_div) {\n",
       "\n",
       "}\n",
       "\n",
       "\n",
       "mpl.figure.prototype._root_extra_style = function(canvas_div) {\n",
       "\n",
       "}\n",
       "\n",
       "mpl.figure.prototype._init_canvas = function() {\n",
       "    var fig = this;\n",
       "\n",
       "    var canvas_div = $('<div/>');\n",
       "\n",
       "    canvas_div.attr('style', 'position: relative; clear: both; outline: 0');\n",
       "\n",
       "    function canvas_keyboard_event(event) {\n",
       "        return fig.key_event(event, event['data']);\n",
       "    }\n",
       "\n",
       "    canvas_div.keydown('key_press', canvas_keyboard_event);\n",
       "    canvas_div.keyup('key_release', canvas_keyboard_event);\n",
       "    this.canvas_div = canvas_div\n",
       "    this._canvas_extra_style(canvas_div)\n",
       "    this.root.append(canvas_div);\n",
       "\n",
       "    var canvas = $('<canvas/>');\n",
       "    canvas.addClass('mpl-canvas');\n",
       "    canvas.attr('style', \"left: 0; top: 0; z-index: 0; outline: 0\")\n",
       "\n",
       "    this.canvas = canvas[0];\n",
       "    this.context = canvas[0].getContext(\"2d\");\n",
       "\n",
       "    var backingStore = this.context.backingStorePixelRatio ||\n",
       "\tthis.context.webkitBackingStorePixelRatio ||\n",
       "\tthis.context.mozBackingStorePixelRatio ||\n",
       "\tthis.context.msBackingStorePixelRatio ||\n",
       "\tthis.context.oBackingStorePixelRatio ||\n",
       "\tthis.context.backingStorePixelRatio || 1;\n",
       "\n",
       "    mpl.ratio = (window.devicePixelRatio || 1) / backingStore;\n",
       "\n",
       "    var rubberband = $('<canvas/>');\n",
       "    rubberband.attr('style', \"position: absolute; left: 0; top: 0; z-index: 1;\")\n",
       "\n",
       "    var pass_mouse_events = true;\n",
       "\n",
       "    canvas_div.resizable({\n",
       "        start: function(event, ui) {\n",
       "            pass_mouse_events = false;\n",
       "        },\n",
       "        resize: function(event, ui) {\n",
       "            fig.request_resize(ui.size.width, ui.size.height);\n",
       "        },\n",
       "        stop: function(event, ui) {\n",
       "            pass_mouse_events = true;\n",
       "            fig.request_resize(ui.size.width, ui.size.height);\n",
       "        },\n",
       "    });\n",
       "\n",
       "    function mouse_event_fn(event) {\n",
       "        if (pass_mouse_events)\n",
       "            return fig.mouse_event(event, event['data']);\n",
       "    }\n",
       "\n",
       "    rubberband.mousedown('button_press', mouse_event_fn);\n",
       "    rubberband.mouseup('button_release', mouse_event_fn);\n",
       "    // Throttle sequential mouse events to 1 every 20ms.\n",
       "    rubberband.mousemove('motion_notify', mouse_event_fn);\n",
       "\n",
       "    rubberband.mouseenter('figure_enter', mouse_event_fn);\n",
       "    rubberband.mouseleave('figure_leave', mouse_event_fn);\n",
       "\n",
       "    canvas_div.on(\"wheel\", function (event) {\n",
       "        event = event.originalEvent;\n",
       "        event['data'] = 'scroll'\n",
       "        if (event.deltaY < 0) {\n",
       "            event.step = 1;\n",
       "        } else {\n",
       "            event.step = -1;\n",
       "        }\n",
       "        mouse_event_fn(event);\n",
       "    });\n",
       "\n",
       "    canvas_div.append(canvas);\n",
       "    canvas_div.append(rubberband);\n",
       "\n",
       "    this.rubberband = rubberband;\n",
       "    this.rubberband_canvas = rubberband[0];\n",
       "    this.rubberband_context = rubberband[0].getContext(\"2d\");\n",
       "    this.rubberband_context.strokeStyle = \"#000000\";\n",
       "\n",
       "    this._resize_canvas = function(width, height) {\n",
       "        // Keep the size of the canvas, canvas container, and rubber band\n",
       "        // canvas in synch.\n",
       "        canvas_div.css('width', width)\n",
       "        canvas_div.css('height', height)\n",
       "\n",
       "        canvas.attr('width', width * mpl.ratio);\n",
       "        canvas.attr('height', height * mpl.ratio);\n",
       "        canvas.attr('style', 'width: ' + width + 'px; height: ' + height + 'px;');\n",
       "\n",
       "        rubberband.attr('width', width);\n",
       "        rubberband.attr('height', height);\n",
       "    }\n",
       "\n",
       "    // Set the figure to an initial 600x600px, this will subsequently be updated\n",
       "    // upon first draw.\n",
       "    this._resize_canvas(600, 600);\n",
       "\n",
       "    // Disable right mouse context menu.\n",
       "    $(this.rubberband_canvas).bind(\"contextmenu\",function(e){\n",
       "        return false;\n",
       "    });\n",
       "\n",
       "    function set_focus () {\n",
       "        canvas.focus();\n",
       "        canvas_div.focus();\n",
       "    }\n",
       "\n",
       "    window.setTimeout(set_focus, 100);\n",
       "}\n",
       "\n",
       "mpl.figure.prototype._init_toolbar = function() {\n",
       "    var fig = this;\n",
       "\n",
       "    var nav_element = $('<div/>')\n",
       "    nav_element.attr('style', 'width: 100%');\n",
       "    this.root.append(nav_element);\n",
       "\n",
       "    // Define a callback function for later on.\n",
       "    function toolbar_event(event) {\n",
       "        return fig.toolbar_button_onclick(event['data']);\n",
       "    }\n",
       "    function toolbar_mouse_event(event) {\n",
       "        return fig.toolbar_button_onmouseover(event['data']);\n",
       "    }\n",
       "\n",
       "    for(var toolbar_ind in mpl.toolbar_items) {\n",
       "        var name = mpl.toolbar_items[toolbar_ind][0];\n",
       "        var tooltip = mpl.toolbar_items[toolbar_ind][1];\n",
       "        var image = mpl.toolbar_items[toolbar_ind][2];\n",
       "        var method_name = mpl.toolbar_items[toolbar_ind][3];\n",
       "\n",
       "        if (!name) {\n",
       "            // put a spacer in here.\n",
       "            continue;\n",
       "        }\n",
       "        var button = $('<button/>');\n",
       "        button.addClass('ui-button ui-widget ui-state-default ui-corner-all ' +\n",
       "                        'ui-button-icon-only');\n",
       "        button.attr('role', 'button');\n",
       "        button.attr('aria-disabled', 'false');\n",
       "        button.click(method_name, toolbar_event);\n",
       "        button.mouseover(tooltip, toolbar_mouse_event);\n",
       "\n",
       "        var icon_img = $('<span/>');\n",
       "        icon_img.addClass('ui-button-icon-primary ui-icon');\n",
       "        icon_img.addClass(image);\n",
       "        icon_img.addClass('ui-corner-all');\n",
       "\n",
       "        var tooltip_span = $('<span/>');\n",
       "        tooltip_span.addClass('ui-button-text');\n",
       "        tooltip_span.html(tooltip);\n",
       "\n",
       "        button.append(icon_img);\n",
       "        button.append(tooltip_span);\n",
       "\n",
       "        nav_element.append(button);\n",
       "    }\n",
       "\n",
       "    var fmt_picker_span = $('<span/>');\n",
       "\n",
       "    var fmt_picker = $('<select/>');\n",
       "    fmt_picker.addClass('mpl-toolbar-option ui-widget ui-widget-content');\n",
       "    fmt_picker_span.append(fmt_picker);\n",
       "    nav_element.append(fmt_picker_span);\n",
       "    this.format_dropdown = fmt_picker[0];\n",
       "\n",
       "    for (var ind in mpl.extensions) {\n",
       "        var fmt = mpl.extensions[ind];\n",
       "        var option = $(\n",
       "            '<option/>', {selected: fmt === mpl.default_extension}).html(fmt);\n",
       "        fmt_picker.append(option)\n",
       "    }\n",
       "\n",
       "    // Add hover states to the ui-buttons\n",
       "    $( \".ui-button\" ).hover(\n",
       "        function() { $(this).addClass(\"ui-state-hover\");},\n",
       "        function() { $(this).removeClass(\"ui-state-hover\");}\n",
       "    );\n",
       "\n",
       "    var status_bar = $('<span class=\"mpl-message\"/>');\n",
       "    nav_element.append(status_bar);\n",
       "    this.message = status_bar[0];\n",
       "}\n",
       "\n",
       "mpl.figure.prototype.request_resize = function(x_pixels, y_pixels) {\n",
       "    // Request matplotlib to resize the figure. Matplotlib will then trigger a resize in the client,\n",
       "    // which will in turn request a refresh of the image.\n",
       "    this.send_message('resize', {'width': x_pixels, 'height': y_pixels});\n",
       "}\n",
       "\n",
       "mpl.figure.prototype.send_message = function(type, properties) {\n",
       "    properties['type'] = type;\n",
       "    properties['figure_id'] = this.id;\n",
       "    this.ws.send(JSON.stringify(properties));\n",
       "}\n",
       "\n",
       "mpl.figure.prototype.send_draw_message = function() {\n",
       "    if (!this.waiting) {\n",
       "        this.waiting = true;\n",
       "        this.ws.send(JSON.stringify({type: \"draw\", figure_id: this.id}));\n",
       "    }\n",
       "}\n",
       "\n",
       "\n",
       "mpl.figure.prototype.handle_save = function(fig, msg) {\n",
       "    var format_dropdown = fig.format_dropdown;\n",
       "    var format = format_dropdown.options[format_dropdown.selectedIndex].value;\n",
       "    fig.ondownload(fig, format);\n",
       "}\n",
       "\n",
       "\n",
       "mpl.figure.prototype.handle_resize = function(fig, msg) {\n",
       "    var size = msg['size'];\n",
       "    if (size[0] != fig.canvas.width || size[1] != fig.canvas.height) {\n",
       "        fig._resize_canvas(size[0], size[1]);\n",
       "        fig.send_message(\"refresh\", {});\n",
       "    };\n",
       "}\n",
       "\n",
       "mpl.figure.prototype.handle_rubberband = function(fig, msg) {\n",
       "    var x0 = msg['x0'] / mpl.ratio;\n",
       "    var y0 = (fig.canvas.height - msg['y0']) / mpl.ratio;\n",
       "    var x1 = msg['x1'] / mpl.ratio;\n",
       "    var y1 = (fig.canvas.height - msg['y1']) / mpl.ratio;\n",
       "    x0 = Math.floor(x0) + 0.5;\n",
       "    y0 = Math.floor(y0) + 0.5;\n",
       "    x1 = Math.floor(x1) + 0.5;\n",
       "    y1 = Math.floor(y1) + 0.5;\n",
       "    var min_x = Math.min(x0, x1);\n",
       "    var min_y = Math.min(y0, y1);\n",
       "    var width = Math.abs(x1 - x0);\n",
       "    var height = Math.abs(y1 - y0);\n",
       "\n",
       "    fig.rubberband_context.clearRect(\n",
       "        0, 0, fig.canvas.width, fig.canvas.height);\n",
       "\n",
       "    fig.rubberband_context.strokeRect(min_x, min_y, width, height);\n",
       "}\n",
       "\n",
       "mpl.figure.prototype.handle_figure_label = function(fig, msg) {\n",
       "    // Updates the figure title.\n",
       "    fig.header.textContent = msg['label'];\n",
       "}\n",
       "\n",
       "mpl.figure.prototype.handle_cursor = function(fig, msg) {\n",
       "    var cursor = msg['cursor'];\n",
       "    switch(cursor)\n",
       "    {\n",
       "    case 0:\n",
       "        cursor = 'pointer';\n",
       "        break;\n",
       "    case 1:\n",
       "        cursor = 'default';\n",
       "        break;\n",
       "    case 2:\n",
       "        cursor = 'crosshair';\n",
       "        break;\n",
       "    case 3:\n",
       "        cursor = 'move';\n",
       "        break;\n",
       "    }\n",
       "    fig.rubberband_canvas.style.cursor = cursor;\n",
       "}\n",
       "\n",
       "mpl.figure.prototype.handle_message = function(fig, msg) {\n",
       "    fig.message.textContent = msg['message'];\n",
       "}\n",
       "\n",
       "mpl.figure.prototype.handle_draw = function(fig, msg) {\n",
       "    // Request the server to send over a new figure.\n",
       "    fig.send_draw_message();\n",
       "}\n",
       "\n",
       "mpl.figure.prototype.handle_image_mode = function(fig, msg) {\n",
       "    fig.image_mode = msg['mode'];\n",
       "}\n",
       "\n",
       "mpl.figure.prototype.updated_canvas_event = function() {\n",
       "    // Called whenever the canvas gets updated.\n",
       "    this.send_message(\"ack\", {});\n",
       "}\n",
       "\n",
       "// A function to construct a web socket function for onmessage handling.\n",
       "// Called in the figure constructor.\n",
       "mpl.figure.prototype._make_on_message_function = function(fig) {\n",
       "    return function socket_on_message(evt) {\n",
       "        if (evt.data instanceof Blob) {\n",
       "            /* FIXME: We get \"Resource interpreted as Image but\n",
       "             * transferred with MIME type text/plain:\" errors on\n",
       "             * Chrome.  But how to set the MIME type?  It doesn't seem\n",
       "             * to be part of the websocket stream */\n",
       "            evt.data.type = \"image/png\";\n",
       "\n",
       "            /* Free the memory for the previous frames */\n",
       "            if (fig.imageObj.src) {\n",
       "                (window.URL || window.webkitURL).revokeObjectURL(\n",
       "                    fig.imageObj.src);\n",
       "            }\n",
       "\n",
       "            fig.imageObj.src = (window.URL || window.webkitURL).createObjectURL(\n",
       "                evt.data);\n",
       "            fig.updated_canvas_event();\n",
       "            fig.waiting = false;\n",
       "            return;\n",
       "        }\n",
       "        else if (typeof evt.data === 'string' && evt.data.slice(0, 21) == \"data:image/png;base64\") {\n",
       "            fig.imageObj.src = evt.data;\n",
       "            fig.updated_canvas_event();\n",
       "            fig.waiting = false;\n",
       "            return;\n",
       "        }\n",
       "\n",
       "        var msg = JSON.parse(evt.data);\n",
       "        var msg_type = msg['type'];\n",
       "\n",
       "        // Call the  \"handle_{type}\" callback, which takes\n",
       "        // the figure and JSON message as its only arguments.\n",
       "        try {\n",
       "            var callback = fig[\"handle_\" + msg_type];\n",
       "        } catch (e) {\n",
       "            console.log(\"No handler for the '\" + msg_type + \"' message type: \", msg);\n",
       "            return;\n",
       "        }\n",
       "\n",
       "        if (callback) {\n",
       "            try {\n",
       "                // console.log(\"Handling '\" + msg_type + \"' message: \", msg);\n",
       "                callback(fig, msg);\n",
       "            } catch (e) {\n",
       "                console.log(\"Exception inside the 'handler_\" + msg_type + \"' callback:\", e, e.stack, msg);\n",
       "            }\n",
       "        }\n",
       "    };\n",
       "}\n",
       "\n",
       "// from http://stackoverflow.com/questions/1114465/getting-mouse-location-in-canvas\n",
       "mpl.findpos = function(e) {\n",
       "    //this section is from http://www.quirksmode.org/js/events_properties.html\n",
       "    var targ;\n",
       "    if (!e)\n",
       "        e = window.event;\n",
       "    if (e.target)\n",
       "        targ = e.target;\n",
       "    else if (e.srcElement)\n",
       "        targ = e.srcElement;\n",
       "    if (targ.nodeType == 3) // defeat Safari bug\n",
       "        targ = targ.parentNode;\n",
       "\n",
       "    // jQuery normalizes the pageX and pageY\n",
       "    // pageX,Y are the mouse positions relative to the document\n",
       "    // offset() returns the position of the element relative to the document\n",
       "    var x = e.pageX - $(targ).offset().left;\n",
       "    var y = e.pageY - $(targ).offset().top;\n",
       "\n",
       "    return {\"x\": x, \"y\": y};\n",
       "};\n",
       "\n",
       "/*\n",
       " * return a copy of an object with only non-object keys\n",
       " * we need this to avoid circular references\n",
       " * http://stackoverflow.com/a/24161582/3208463\n",
       " */\n",
       "function simpleKeys (original) {\n",
       "  return Object.keys(original).reduce(function (obj, key) {\n",
       "    if (typeof original[key] !== 'object')\n",
       "        obj[key] = original[key]\n",
       "    return obj;\n",
       "  }, {});\n",
       "}\n",
       "\n",
       "mpl.figure.prototype.mouse_event = function(event, name) {\n",
       "    var canvas_pos = mpl.findpos(event)\n",
       "\n",
       "    if (name === 'button_press')\n",
       "    {\n",
       "        this.canvas.focus();\n",
       "        this.canvas_div.focus();\n",
       "    }\n",
       "\n",
       "    var x = canvas_pos.x * mpl.ratio;\n",
       "    var y = canvas_pos.y * mpl.ratio;\n",
       "\n",
       "    this.send_message(name, {x: x, y: y, button: event.button,\n",
       "                             step: event.step,\n",
       "                             guiEvent: simpleKeys(event)});\n",
       "\n",
       "    /* This prevents the web browser from automatically changing to\n",
       "     * the text insertion cursor when the button is pressed.  We want\n",
       "     * to control all of the cursor setting manually through the\n",
       "     * 'cursor' event from matplotlib */\n",
       "    event.preventDefault();\n",
       "    return false;\n",
       "}\n",
       "\n",
       "mpl.figure.prototype._key_event_extra = function(event, name) {\n",
       "    // Handle any extra behaviour associated with a key event\n",
       "}\n",
       "\n",
       "mpl.figure.prototype.key_event = function(event, name) {\n",
       "\n",
       "    // Prevent repeat events\n",
       "    if (name == 'key_press')\n",
       "    {\n",
       "        if (event.which === this._key)\n",
       "            return;\n",
       "        else\n",
       "            this._key = event.which;\n",
       "    }\n",
       "    if (name == 'key_release')\n",
       "        this._key = null;\n",
       "\n",
       "    var value = '';\n",
       "    if (event.ctrlKey && event.which != 17)\n",
       "        value += \"ctrl+\";\n",
       "    if (event.altKey && event.which != 18)\n",
       "        value += \"alt+\";\n",
       "    if (event.shiftKey && event.which != 16)\n",
       "        value += \"shift+\";\n",
       "\n",
       "    value += 'k';\n",
       "    value += event.which.toString();\n",
       "\n",
       "    this._key_event_extra(event, name);\n",
       "\n",
       "    this.send_message(name, {key: value,\n",
       "                             guiEvent: simpleKeys(event)});\n",
       "    return false;\n",
       "}\n",
       "\n",
       "mpl.figure.prototype.toolbar_button_onclick = function(name) {\n",
       "    if (name == 'download') {\n",
       "        this.handle_save(this, null);\n",
       "    } else {\n",
       "        this.send_message(\"toolbar_button\", {name: name});\n",
       "    }\n",
       "};\n",
       "\n",
       "mpl.figure.prototype.toolbar_button_onmouseover = function(tooltip) {\n",
       "    this.message.textContent = tooltip;\n",
       "};\n",
       "mpl.toolbar_items = [[\"Home\", \"Reset original view\", \"fa fa-home icon-home\", \"home\"], [\"Back\", \"Back to  previous view\", \"fa fa-arrow-left icon-arrow-left\", \"back\"], [\"Forward\", \"Forward to next view\", \"fa fa-arrow-right icon-arrow-right\", \"forward\"], [\"\", \"\", \"\", \"\"], [\"Pan\", \"Pan axes with left mouse, zoom with right\", \"fa fa-arrows icon-move\", \"pan\"], [\"Zoom\", \"Zoom to rectangle\", \"fa fa-square-o icon-check-empty\", \"zoom\"], [\"\", \"\", \"\", \"\"], [\"Download\", \"Download plot\", \"fa fa-floppy-o icon-save\", \"download\"]];\n",
       "\n",
       "mpl.extensions = [\"eps\", \"pdf\", \"png\", \"ps\", \"raw\", \"svg\"];\n",
       "\n",
       "mpl.default_extension = \"png\";var comm_websocket_adapter = function(comm) {\n",
       "    // Create a \"websocket\"-like object which calls the given IPython comm\n",
       "    // object with the appropriate methods. Currently this is a non binary\n",
       "    // socket, so there is still some room for performance tuning.\n",
       "    var ws = {};\n",
       "\n",
       "    ws.close = function() {\n",
       "        comm.close()\n",
       "    };\n",
       "    ws.send = function(m) {\n",
       "        //console.log('sending', m);\n",
       "        comm.send(m);\n",
       "    };\n",
       "    // Register the callback with on_msg.\n",
       "    comm.on_msg(function(msg) {\n",
       "        //console.log('receiving', msg['content']['data'], msg);\n",
       "        // Pass the mpl event to the overriden (by mpl) onmessage function.\n",
       "        ws.onmessage(msg['content']['data'])\n",
       "    });\n",
       "    return ws;\n",
       "}\n",
       "\n",
       "mpl.mpl_figure_comm = function(comm, msg) {\n",
       "    // This is the function which gets called when the mpl process\n",
       "    // starts-up an IPython Comm through the \"matplotlib\" channel.\n",
       "\n",
       "    var id = msg.content.data.id;\n",
       "    // Get hold of the div created by the display call when the Comm\n",
       "    // socket was opened in Python.\n",
       "    var element = $(\"#\" + id);\n",
       "    var ws_proxy = comm_websocket_adapter(comm)\n",
       "\n",
       "    function ondownload(figure, format) {\n",
       "        window.open(figure.imageObj.src);\n",
       "    }\n",
       "\n",
       "    var fig = new mpl.figure(id, ws_proxy,\n",
       "                           ondownload,\n",
       "                           element.get(0));\n",
       "\n",
       "    // Call onopen now - mpl needs it, as it is assuming we've passed it a real\n",
       "    // web socket which is closed, not our websocket->open comm proxy.\n",
       "    ws_proxy.onopen();\n",
       "\n",
       "    fig.parent_element = element.get(0);\n",
       "    fig.cell_info = mpl.find_output_cell(\"<div id='\" + id + \"'></div>\");\n",
       "    if (!fig.cell_info) {\n",
       "        console.error(\"Failed to find cell for figure\", id, fig);\n",
       "        return;\n",
       "    }\n",
       "\n",
       "    var output_index = fig.cell_info[2]\n",
       "    var cell = fig.cell_info[0];\n",
       "\n",
       "};\n",
       "\n",
       "mpl.figure.prototype.handle_close = function(fig, msg) {\n",
       "    var width = fig.canvas.width/mpl.ratio\n",
       "    fig.root.unbind('remove')\n",
       "\n",
       "    // Update the output cell to use the data from the current canvas.\n",
       "    fig.push_to_output();\n",
       "    var dataURL = fig.canvas.toDataURL();\n",
       "    // Re-enable the keyboard manager in IPython - without this line, in FF,\n",
       "    // the notebook keyboard shortcuts fail.\n",
       "    IPython.keyboard_manager.enable()\n",
       "    $(fig.parent_element).html('<img src=\"' + dataURL + '\" width=\"' + width + '\">');\n",
       "    fig.close_ws(fig, msg);\n",
       "}\n",
       "\n",
       "mpl.figure.prototype.close_ws = function(fig, msg){\n",
       "    fig.send_message('closing', msg);\n",
       "    // fig.ws.close()\n",
       "}\n",
       "\n",
       "mpl.figure.prototype.push_to_output = function(remove_interactive) {\n",
       "    // Turn the data on the canvas into data in the output cell.\n",
       "    var width = this.canvas.width/mpl.ratio\n",
       "    var dataURL = this.canvas.toDataURL();\n",
       "    this.cell_info[1]['text/html'] = '<img src=\"' + dataURL + '\" width=\"' + width + '\">';\n",
       "}\n",
       "\n",
       "mpl.figure.prototype.updated_canvas_event = function() {\n",
       "    // Tell IPython that the notebook contents must change.\n",
       "    IPython.notebook.set_dirty(true);\n",
       "    this.send_message(\"ack\", {});\n",
       "    var fig = this;\n",
       "    // Wait a second, then push the new image to the DOM so\n",
       "    // that it is saved nicely (might be nice to debounce this).\n",
       "    setTimeout(function () { fig.push_to_output() }, 1000);\n",
       "}\n",
       "\n",
       "mpl.figure.prototype._init_toolbar = function() {\n",
       "    var fig = this;\n",
       "\n",
       "    var nav_element = $('<div/>')\n",
       "    nav_element.attr('style', 'width: 100%');\n",
       "    this.root.append(nav_element);\n",
       "\n",
       "    // Define a callback function for later on.\n",
       "    function toolbar_event(event) {\n",
       "        return fig.toolbar_button_onclick(event['data']);\n",
       "    }\n",
       "    function toolbar_mouse_event(event) {\n",
       "        return fig.toolbar_button_onmouseover(event['data']);\n",
       "    }\n",
       "\n",
       "    for(var toolbar_ind in mpl.toolbar_items){\n",
       "        var name = mpl.toolbar_items[toolbar_ind][0];\n",
       "        var tooltip = mpl.toolbar_items[toolbar_ind][1];\n",
       "        var image = mpl.toolbar_items[toolbar_ind][2];\n",
       "        var method_name = mpl.toolbar_items[toolbar_ind][3];\n",
       "\n",
       "        if (!name) { continue; };\n",
       "\n",
       "        var button = $('<button class=\"btn btn-default\" href=\"#\" title=\"' + name + '\"><i class=\"fa ' + image + ' fa-lg\"></i></button>');\n",
       "        button.click(method_name, toolbar_event);\n",
       "        button.mouseover(tooltip, toolbar_mouse_event);\n",
       "        nav_element.append(button);\n",
       "    }\n",
       "\n",
       "    // Add the status bar.\n",
       "    var status_bar = $('<span class=\"mpl-message\" style=\"text-align:right; float: right;\"/>');\n",
       "    nav_element.append(status_bar);\n",
       "    this.message = status_bar[0];\n",
       "\n",
       "    // Add the close button to the window.\n",
       "    var buttongrp = $('<div class=\"btn-group inline pull-right\"></div>');\n",
       "    var button = $('<button class=\"btn btn-mini btn-primary\" href=\"#\" title=\"Stop Interaction\"><i class=\"fa fa-power-off icon-remove icon-large\"></i></button>');\n",
       "    button.click(function (evt) { fig.handle_close(fig, {}); } );\n",
       "    button.mouseover('Stop Interaction', toolbar_mouse_event);\n",
       "    buttongrp.append(button);\n",
       "    var titlebar = this.root.find($('.ui-dialog-titlebar'));\n",
       "    titlebar.prepend(buttongrp);\n",
       "}\n",
       "\n",
       "mpl.figure.prototype._root_extra_style = function(el){\n",
       "    var fig = this\n",
       "    el.on(\"remove\", function(){\n",
       "\tfig.close_ws(fig, {});\n",
       "    });\n",
       "}\n",
       "\n",
       "mpl.figure.prototype._canvas_extra_style = function(el){\n",
       "    // this is important to make the div 'focusable\n",
       "    el.attr('tabindex', 0)\n",
       "    // reach out to IPython and tell the keyboard manager to turn it's self\n",
       "    // off when our div gets focus\n",
       "\n",
       "    // location in version 3\n",
       "    if (IPython.notebook.keyboard_manager) {\n",
       "        IPython.notebook.keyboard_manager.register_events(el);\n",
       "    }\n",
       "    else {\n",
       "        // location in version 2\n",
       "        IPython.keyboard_manager.register_events(el);\n",
       "    }\n",
       "\n",
       "}\n",
       "\n",
       "mpl.figure.prototype._key_event_extra = function(event, name) {\n",
       "    var manager = IPython.notebook.keyboard_manager;\n",
       "    if (!manager)\n",
       "        manager = IPython.keyboard_manager;\n",
       "\n",
       "    // Check for shift+enter\n",
       "    if (event.shiftKey && event.which == 13) {\n",
       "        this.canvas_div.blur();\n",
       "        // select the cell after this one\n",
       "        var index = IPython.notebook.find_cell_index(this.cell_info[0]);\n",
       "        IPython.notebook.select(index + 1);\n",
       "    }\n",
       "}\n",
       "\n",
       "mpl.figure.prototype.handle_save = function(fig, msg) {\n",
       "    fig.ondownload(fig, null);\n",
       "}\n",
       "\n",
       "\n",
       "mpl.find_output_cell = function(html_output) {\n",
       "    // Return the cell and output element which can be found *uniquely* in the notebook.\n",
       "    // Note - this is a bit hacky, but it is done because the \"notebook_saving.Notebook\"\n",
       "    // IPython event is triggered only after the cells have been serialised, which for\n",
       "    // our purposes (turning an active figure into a static one), is too late.\n",
       "    var cells = IPython.notebook.get_cells();\n",
       "    var ncells = cells.length;\n",
       "    for (var i=0; i<ncells; i++) {\n",
       "        var cell = cells[i];\n",
       "        if (cell.cell_type === 'code'){\n",
       "            for (var j=0; j<cell.output_area.outputs.length; j++) {\n",
       "                var data = cell.output_area.outputs[j];\n",
       "                if (data.data) {\n",
       "                    // IPython >= 3 moved mimebundle to data attribute of output\n",
       "                    data = data.data;\n",
       "                }\n",
       "                if (data['text/html'] == html_output) {\n",
       "                    return [cell, data, j];\n",
       "                }\n",
       "            }\n",
       "        }\n",
       "    }\n",
       "}\n",
       "\n",
       "// Register the function which deals with the matplotlib target/channel.\n",
       "// The kernel may be null if the page has been refreshed.\n",
       "if (IPython.notebook.kernel != null) {\n",
       "    IPython.notebook.kernel.comm_manager.register_target('matplotlib', mpl.mpl_figure_comm);\n",
       "}\n"
      ],
      "text/plain": [
       "<IPython.core.display.Javascript object>"
      ]
     },
     "metadata": {},
     "output_type": "display_data"
    },
    {
     "data": {
      "text/html": [
       "<img src=\"data:image/png;base64,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\" width=\"639.999990463257\">"
      ],
      "text/plain": [
       "<IPython.core.display.HTML object>"
      ]
     },
     "metadata": {},
     "output_type": "display_data"
    },
    {
     "name": "stderr",
     "output_type": "stream",
     "text": [
      "IOPub data rate exceeded.\n",
      "The notebook server will temporarily stop sending output\n",
      "to the client in order to avoid crashing it.\n",
      "To change this limit, set the config variable\n",
      "`--NotebookApp.iopub_data_rate_limit`.\n"
     ]
    }
   ],
   "source": [
    "bikeshare = System(olin=10, wellesley=2)\n",
    "newfig()\n",
    "plot_system(bikeshare)\n",
    "decorate_bikeshare()\n",
    "run_steps(bikeshare, 60, 0.4, 0.2)"
   ]
  },
  {
   "cell_type": "markdown",
   "metadata": {},
   "source": [
    "But this is relatively easy to fix, using the `return` statement to exit the function early if the update would cause negative bikes.\n",
    "\n",
    "If the second `if` statement seems confusing, remember that `n` can be negative."
   ]
  },
  {
   "cell_type": "code",
   "execution_count": 5,
   "metadata": {
    "collapsed": true
   },
   "outputs": [],
   "source": [
    "def move_bike(system, n):\n",
    "    # make sure the number of bikes won't go negative\n",
    "    olin_temp = system.olin - n\n",
    "    if olin_temp < 0:\n",
    "        return\n",
    "    \n",
    "    wellesley_temp = system.wellesley + n\n",
    "    if wellesley_temp < 0:\n",
    "        return\n",
    "    \n",
    "    # update the system\n",
    "    system.olin = olin_temp\n",
    "    system.wellesley = wellesley_temp"
   ]
  },
  {
   "cell_type": "markdown",
   "metadata": {},
   "source": [
    "Now if you run the simulation again, it should behave."
   ]
  },
  {
   "cell_type": "code",
   "execution_count": 6,
   "metadata": {},
   "outputs": [
    {
     "data": {
      "application/javascript": [
       "/* Put everything inside the global mpl namespace */\n",
       "window.mpl = {};\n",
       "\n",
       "\n",
       "mpl.get_websocket_type = function() {\n",
       "    if (typeof(WebSocket) !== 'undefined') {\n",
       "        return WebSocket;\n",
       "    } else if (typeof(MozWebSocket) !== 'undefined') {\n",
       "        return MozWebSocket;\n",
       "    } else {\n",
       "        alert('Your browser does not have WebSocket support.' +\n",
       "              'Please try Chrome, Safari or Firefox ≥ 6. ' +\n",
       "              'Firefox 4 and 5 are also supported but you ' +\n",
       "              'have to enable WebSockets in about:config.');\n",
       "    };\n",
       "}\n",
       "\n",
       "mpl.figure = function(figure_id, websocket, ondownload, parent_element) {\n",
       "    this.id = figure_id;\n",
       "\n",
       "    this.ws = websocket;\n",
       "\n",
       "    this.supports_binary = (this.ws.binaryType != undefined);\n",
       "\n",
       "    if (!this.supports_binary) {\n",
       "        var warnings = document.getElementById(\"mpl-warnings\");\n",
       "        if (warnings) {\n",
       "            warnings.style.display = 'block';\n",
       "            warnings.textContent = (\n",
       "                \"This browser does not support binary websocket messages. \" +\n",
       "                    \"Performance may be slow.\");\n",
       "        }\n",
       "    }\n",
       "\n",
       "    this.imageObj = new Image();\n",
       "\n",
       "    this.context = undefined;\n",
       "    this.message = undefined;\n",
       "    this.canvas = undefined;\n",
       "    this.rubberband_canvas = undefined;\n",
       "    this.rubberband_context = undefined;\n",
       "    this.format_dropdown = undefined;\n",
       "\n",
       "    this.image_mode = 'full';\n",
       "\n",
       "    this.root = $('<div/>');\n",
       "    this._root_extra_style(this.root)\n",
       "    this.root.attr('style', 'display: inline-block');\n",
       "\n",
       "    $(parent_element).append(this.root);\n",
       "\n",
       "    this._init_header(this);\n",
       "    this._init_canvas(this);\n",
       "    this._init_toolbar(this);\n",
       "\n",
       "    var fig = this;\n",
       "\n",
       "    this.waiting = false;\n",
       "\n",
       "    this.ws.onopen =  function () {\n",
       "            fig.send_message(\"supports_binary\", {value: fig.supports_binary});\n",
       "            fig.send_message(\"send_image_mode\", {});\n",
       "            if (mpl.ratio != 1) {\n",
       "                fig.send_message(\"set_dpi_ratio\", {'dpi_ratio': mpl.ratio});\n",
       "            }\n",
       "            fig.send_message(\"refresh\", {});\n",
       "        }\n",
       "\n",
       "    this.imageObj.onload = function() {\n",
       "            if (fig.image_mode == 'full') {\n",
       "                // Full images could contain transparency (where diff images\n",
       "                // almost always do), so we need to clear the canvas so that\n",
       "                // there is no ghosting.\n",
       "                fig.context.clearRect(0, 0, fig.canvas.width, fig.canvas.height);\n",
       "            }\n",
       "            fig.context.drawImage(fig.imageObj, 0, 0);\n",
       "        };\n",
       "\n",
       "    this.imageObj.onunload = function() {\n",
       "        this.ws.close();\n",
       "    }\n",
       "\n",
       "    this.ws.onmessage = this._make_on_message_function(this);\n",
       "\n",
       "    this.ondownload = ondownload;\n",
       "}\n",
       "\n",
       "mpl.figure.prototype._init_header = function() {\n",
       "    var titlebar = $(\n",
       "        '<div class=\"ui-dialog-titlebar ui-widget-header ui-corner-all ' +\n",
       "        'ui-helper-clearfix\"/>');\n",
       "    var titletext = $(\n",
       "        '<div class=\"ui-dialog-title\" style=\"width: 100%; ' +\n",
       "        'text-align: center; padding: 3px;\"/>');\n",
       "    titlebar.append(titletext)\n",
       "    this.root.append(titlebar);\n",
       "    this.header = titletext[0];\n",
       "}\n",
       "\n",
       "\n",
       "\n",
       "mpl.figure.prototype._canvas_extra_style = function(canvas_div) {\n",
       "\n",
       "}\n",
       "\n",
       "\n",
       "mpl.figure.prototype._root_extra_style = function(canvas_div) {\n",
       "\n",
       "}\n",
       "\n",
       "mpl.figure.prototype._init_canvas = function() {\n",
       "    var fig = this;\n",
       "\n",
       "    var canvas_div = $('<div/>');\n",
       "\n",
       "    canvas_div.attr('style', 'position: relative; clear: both; outline: 0');\n",
       "\n",
       "    function canvas_keyboard_event(event) {\n",
       "        return fig.key_event(event, event['data']);\n",
       "    }\n",
       "\n",
       "    canvas_div.keydown('key_press', canvas_keyboard_event);\n",
       "    canvas_div.keyup('key_release', canvas_keyboard_event);\n",
       "    this.canvas_div = canvas_div\n",
       "    this._canvas_extra_style(canvas_div)\n",
       "    this.root.append(canvas_div);\n",
       "\n",
       "    var canvas = $('<canvas/>');\n",
       "    canvas.addClass('mpl-canvas');\n",
       "    canvas.attr('style', \"left: 0; top: 0; z-index: 0; outline: 0\")\n",
       "\n",
       "    this.canvas = canvas[0];\n",
       "    this.context = canvas[0].getContext(\"2d\");\n",
       "\n",
       "    var backingStore = this.context.backingStorePixelRatio ||\n",
       "\tthis.context.webkitBackingStorePixelRatio ||\n",
       "\tthis.context.mozBackingStorePixelRatio ||\n",
       "\tthis.context.msBackingStorePixelRatio ||\n",
       "\tthis.context.oBackingStorePixelRatio ||\n",
       "\tthis.context.backingStorePixelRatio || 1;\n",
       "\n",
       "    mpl.ratio = (window.devicePixelRatio || 1) / backingStore;\n",
       "\n",
       "    var rubberband = $('<canvas/>');\n",
       "    rubberband.attr('style', \"position: absolute; left: 0; top: 0; z-index: 1;\")\n",
       "\n",
       "    var pass_mouse_events = true;\n",
       "\n",
       "    canvas_div.resizable({\n",
       "        start: function(event, ui) {\n",
       "            pass_mouse_events = false;\n",
       "        },\n",
       "        resize: function(event, ui) {\n",
       "            fig.request_resize(ui.size.width, ui.size.height);\n",
       "        },\n",
       "        stop: function(event, ui) {\n",
       "            pass_mouse_events = true;\n",
       "            fig.request_resize(ui.size.width, ui.size.height);\n",
       "        },\n",
       "    });\n",
       "\n",
       "    function mouse_event_fn(event) {\n",
       "        if (pass_mouse_events)\n",
       "            return fig.mouse_event(event, event['data']);\n",
       "    }\n",
       "\n",
       "    rubberband.mousedown('button_press', mouse_event_fn);\n",
       "    rubberband.mouseup('button_release', mouse_event_fn);\n",
       "    // Throttle sequential mouse events to 1 every 20ms.\n",
       "    rubberband.mousemove('motion_notify', mouse_event_fn);\n",
       "\n",
       "    rubberband.mouseenter('figure_enter', mouse_event_fn);\n",
       "    rubberband.mouseleave('figure_leave', mouse_event_fn);\n",
       "\n",
       "    canvas_div.on(\"wheel\", function (event) {\n",
       "        event = event.originalEvent;\n",
       "        event['data'] = 'scroll'\n",
       "        if (event.deltaY < 0) {\n",
       "            event.step = 1;\n",
       "        } else {\n",
       "            event.step = -1;\n",
       "        }\n",
       "        mouse_event_fn(event);\n",
       "    });\n",
       "\n",
       "    canvas_div.append(canvas);\n",
       "    canvas_div.append(rubberband);\n",
       "\n",
       "    this.rubberband = rubberband;\n",
       "    this.rubberband_canvas = rubberband[0];\n",
       "    this.rubberband_context = rubberband[0].getContext(\"2d\");\n",
       "    this.rubberband_context.strokeStyle = \"#000000\";\n",
       "\n",
       "    this._resize_canvas = function(width, height) {\n",
       "        // Keep the size of the canvas, canvas container, and rubber band\n",
       "        // canvas in synch.\n",
       "        canvas_div.css('width', width)\n",
       "        canvas_div.css('height', height)\n",
       "\n",
       "        canvas.attr('width', width * mpl.ratio);\n",
       "        canvas.attr('height', height * mpl.ratio);\n",
       "        canvas.attr('style', 'width: ' + width + 'px; height: ' + height + 'px;');\n",
       "\n",
       "        rubberband.attr('width', width);\n",
       "        rubberband.attr('height', height);\n",
       "    }\n",
       "\n",
       "    // Set the figure to an initial 600x600px, this will subsequently be updated\n",
       "    // upon first draw.\n",
       "    this._resize_canvas(600, 600);\n",
       "\n",
       "    // Disable right mouse context menu.\n",
       "    $(this.rubberband_canvas).bind(\"contextmenu\",function(e){\n",
       "        return false;\n",
       "    });\n",
       "\n",
       "    function set_focus () {\n",
       "        canvas.focus();\n",
       "        canvas_div.focus();\n",
       "    }\n",
       "\n",
       "    window.setTimeout(set_focus, 100);\n",
       "}\n",
       "\n",
       "mpl.figure.prototype._init_toolbar = function() {\n",
       "    var fig = this;\n",
       "\n",
       "    var nav_element = $('<div/>')\n",
       "    nav_element.attr('style', 'width: 100%');\n",
       "    this.root.append(nav_element);\n",
       "\n",
       "    // Define a callback function for later on.\n",
       "    function toolbar_event(event) {\n",
       "        return fig.toolbar_button_onclick(event['data']);\n",
       "    }\n",
       "    function toolbar_mouse_event(event) {\n",
       "        return fig.toolbar_button_onmouseover(event['data']);\n",
       "    }\n",
       "\n",
       "    for(var toolbar_ind in mpl.toolbar_items) {\n",
       "        var name = mpl.toolbar_items[toolbar_ind][0];\n",
       "        var tooltip = mpl.toolbar_items[toolbar_ind][1];\n",
       "        var image = mpl.toolbar_items[toolbar_ind][2];\n",
       "        var method_name = mpl.toolbar_items[toolbar_ind][3];\n",
       "\n",
       "        if (!name) {\n",
       "            // put a spacer in here.\n",
       "            continue;\n",
       "        }\n",
       "        var button = $('<button/>');\n",
       "        button.addClass('ui-button ui-widget ui-state-default ui-corner-all ' +\n",
       "                        'ui-button-icon-only');\n",
       "        button.attr('role', 'button');\n",
       "        button.attr('aria-disabled', 'false');\n",
       "        button.click(method_name, toolbar_event);\n",
       "        button.mouseover(tooltip, toolbar_mouse_event);\n",
       "\n",
       "        var icon_img = $('<span/>');\n",
       "        icon_img.addClass('ui-button-icon-primary ui-icon');\n",
       "        icon_img.addClass(image);\n",
       "        icon_img.addClass('ui-corner-all');\n",
       "\n",
       "        var tooltip_span = $('<span/>');\n",
       "        tooltip_span.addClass('ui-button-text');\n",
       "        tooltip_span.html(tooltip);\n",
       "\n",
       "        button.append(icon_img);\n",
       "        button.append(tooltip_span);\n",
       "\n",
       "        nav_element.append(button);\n",
       "    }\n",
       "\n",
       "    var fmt_picker_span = $('<span/>');\n",
       "\n",
       "    var fmt_picker = $('<select/>');\n",
       "    fmt_picker.addClass('mpl-toolbar-option ui-widget ui-widget-content');\n",
       "    fmt_picker_span.append(fmt_picker);\n",
       "    nav_element.append(fmt_picker_span);\n",
       "    this.format_dropdown = fmt_picker[0];\n",
       "\n",
       "    for (var ind in mpl.extensions) {\n",
       "        var fmt = mpl.extensions[ind];\n",
       "        var option = $(\n",
       "            '<option/>', {selected: fmt === mpl.default_extension}).html(fmt);\n",
       "        fmt_picker.append(option)\n",
       "    }\n",
       "\n",
       "    // Add hover states to the ui-buttons\n",
       "    $( \".ui-button\" ).hover(\n",
       "        function() { $(this).addClass(\"ui-state-hover\");},\n",
       "        function() { $(this).removeClass(\"ui-state-hover\");}\n",
       "    );\n",
       "\n",
       "    var status_bar = $('<span class=\"mpl-message\"/>');\n",
       "    nav_element.append(status_bar);\n",
       "    this.message = status_bar[0];\n",
       "}\n",
       "\n",
       "mpl.figure.prototype.request_resize = function(x_pixels, y_pixels) {\n",
       "    // Request matplotlib to resize the figure. Matplotlib will then trigger a resize in the client,\n",
       "    // which will in turn request a refresh of the image.\n",
       "    this.send_message('resize', {'width': x_pixels, 'height': y_pixels});\n",
       "}\n",
       "\n",
       "mpl.figure.prototype.send_message = function(type, properties) {\n",
       "    properties['type'] = type;\n",
       "    properties['figure_id'] = this.id;\n",
       "    this.ws.send(JSON.stringify(properties));\n",
       "}\n",
       "\n",
       "mpl.figure.prototype.send_draw_message = function() {\n",
       "    if (!this.waiting) {\n",
       "        this.waiting = true;\n",
       "        this.ws.send(JSON.stringify({type: \"draw\", figure_id: this.id}));\n",
       "    }\n",
       "}\n",
       "\n",
       "\n",
       "mpl.figure.prototype.handle_save = function(fig, msg) {\n",
       "    var format_dropdown = fig.format_dropdown;\n",
       "    var format = format_dropdown.options[format_dropdown.selectedIndex].value;\n",
       "    fig.ondownload(fig, format);\n",
       "}\n",
       "\n",
       "\n",
       "mpl.figure.prototype.handle_resize = function(fig, msg) {\n",
       "    var size = msg['size'];\n",
       "    if (size[0] != fig.canvas.width || size[1] != fig.canvas.height) {\n",
       "        fig._resize_canvas(size[0], size[1]);\n",
       "        fig.send_message(\"refresh\", {});\n",
       "    };\n",
       "}\n",
       "\n",
       "mpl.figure.prototype.handle_rubberband = function(fig, msg) {\n",
       "    var x0 = msg['x0'] / mpl.ratio;\n",
       "    var y0 = (fig.canvas.height - msg['y0']) / mpl.ratio;\n",
       "    var x1 = msg['x1'] / mpl.ratio;\n",
       "    var y1 = (fig.canvas.height - msg['y1']) / mpl.ratio;\n",
       "    x0 = Math.floor(x0) + 0.5;\n",
       "    y0 = Math.floor(y0) + 0.5;\n",
       "    x1 = Math.floor(x1) + 0.5;\n",
       "    y1 = Math.floor(y1) + 0.5;\n",
       "    var min_x = Math.min(x0, x1);\n",
       "    var min_y = Math.min(y0, y1);\n",
       "    var width = Math.abs(x1 - x0);\n",
       "    var height = Math.abs(y1 - y0);\n",
       "\n",
       "    fig.rubberband_context.clearRect(\n",
       "        0, 0, fig.canvas.width, fig.canvas.height);\n",
       "\n",
       "    fig.rubberband_context.strokeRect(min_x, min_y, width, height);\n",
       "}\n",
       "\n",
       "mpl.figure.prototype.handle_figure_label = function(fig, msg) {\n",
       "    // Updates the figure title.\n",
       "    fig.header.textContent = msg['label'];\n",
       "}\n",
       "\n",
       "mpl.figure.prototype.handle_cursor = function(fig, msg) {\n",
       "    var cursor = msg['cursor'];\n",
       "    switch(cursor)\n",
       "    {\n",
       "    case 0:\n",
       "        cursor = 'pointer';\n",
       "        break;\n",
       "    case 1:\n",
       "        cursor = 'default';\n",
       "        break;\n",
       "    case 2:\n",
       "        cursor = 'crosshair';\n",
       "        break;\n",
       "    case 3:\n",
       "        cursor = 'move';\n",
       "        break;\n",
       "    }\n",
       "    fig.rubberband_canvas.style.cursor = cursor;\n",
       "}\n",
       "\n",
       "mpl.figure.prototype.handle_message = function(fig, msg) {\n",
       "    fig.message.textContent = msg['message'];\n",
       "}\n",
       "\n",
       "mpl.figure.prototype.handle_draw = function(fig, msg) {\n",
       "    // Request the server to send over a new figure.\n",
       "    fig.send_draw_message();\n",
       "}\n",
       "\n",
       "mpl.figure.prototype.handle_image_mode = function(fig, msg) {\n",
       "    fig.image_mode = msg['mode'];\n",
       "}\n",
       "\n",
       "mpl.figure.prototype.updated_canvas_event = function() {\n",
       "    // Called whenever the canvas gets updated.\n",
       "    this.send_message(\"ack\", {});\n",
       "}\n",
       "\n",
       "// A function to construct a web socket function for onmessage handling.\n",
       "// Called in the figure constructor.\n",
       "mpl.figure.prototype._make_on_message_function = function(fig) {\n",
       "    return function socket_on_message(evt) {\n",
       "        if (evt.data instanceof Blob) {\n",
       "            /* FIXME: We get \"Resource interpreted as Image but\n",
       "             * transferred with MIME type text/plain:\" errors on\n",
       "             * Chrome.  But how to set the MIME type?  It doesn't seem\n",
       "             * to be part of the websocket stream */\n",
       "            evt.data.type = \"image/png\";\n",
       "\n",
       "            /* Free the memory for the previous frames */\n",
       "            if (fig.imageObj.src) {\n",
       "                (window.URL || window.webkitURL).revokeObjectURL(\n",
       "                    fig.imageObj.src);\n",
       "            }\n",
       "\n",
       "            fig.imageObj.src = (window.URL || window.webkitURL).createObjectURL(\n",
       "                evt.data);\n",
       "            fig.updated_canvas_event();\n",
       "            fig.waiting = false;\n",
       "            return;\n",
       "        }\n",
       "        else if (typeof evt.data === 'string' && evt.data.slice(0, 21) == \"data:image/png;base64\") {\n",
       "            fig.imageObj.src = evt.data;\n",
       "            fig.updated_canvas_event();\n",
       "            fig.waiting = false;\n",
       "            return;\n",
       "        }\n",
       "\n",
       "        var msg = JSON.parse(evt.data);\n",
       "        var msg_type = msg['type'];\n",
       "\n",
       "        // Call the  \"handle_{type}\" callback, which takes\n",
       "        // the figure and JSON message as its only arguments.\n",
       "        try {\n",
       "            var callback = fig[\"handle_\" + msg_type];\n",
       "        } catch (e) {\n",
       "            console.log(\"No handler for the '\" + msg_type + \"' message type: \", msg);\n",
       "            return;\n",
       "        }\n",
       "\n",
       "        if (callback) {\n",
       "            try {\n",
       "                // console.log(\"Handling '\" + msg_type + \"' message: \", msg);\n",
       "                callback(fig, msg);\n",
       "            } catch (e) {\n",
       "                console.log(\"Exception inside the 'handler_\" + msg_type + \"' callback:\", e, e.stack, msg);\n",
       "            }\n",
       "        }\n",
       "    };\n",
       "}\n",
       "\n",
       "// from http://stackoverflow.com/questions/1114465/getting-mouse-location-in-canvas\n",
       "mpl.findpos = function(e) {\n",
       "    //this section is from http://www.quirksmode.org/js/events_properties.html\n",
       "    var targ;\n",
       "    if (!e)\n",
       "        e = window.event;\n",
       "    if (e.target)\n",
       "        targ = e.target;\n",
       "    else if (e.srcElement)\n",
       "        targ = e.srcElement;\n",
       "    if (targ.nodeType == 3) // defeat Safari bug\n",
       "        targ = targ.parentNode;\n",
       "\n",
       "    // jQuery normalizes the pageX and pageY\n",
       "    // pageX,Y are the mouse positions relative to the document\n",
       "    // offset() returns the position of the element relative to the document\n",
       "    var x = e.pageX - $(targ).offset().left;\n",
       "    var y = e.pageY - $(targ).offset().top;\n",
       "\n",
       "    return {\"x\": x, \"y\": y};\n",
       "};\n",
       "\n",
       "/*\n",
       " * return a copy of an object with only non-object keys\n",
       " * we need this to avoid circular references\n",
       " * http://stackoverflow.com/a/24161582/3208463\n",
       " */\n",
       "function simpleKeys (original) {\n",
       "  return Object.keys(original).reduce(function (obj, key) {\n",
       "    if (typeof original[key] !== 'object')\n",
       "        obj[key] = original[key]\n",
       "    return obj;\n",
       "  }, {});\n",
       "}\n",
       "\n",
       "mpl.figure.prototype.mouse_event = function(event, name) {\n",
       "    var canvas_pos = mpl.findpos(event)\n",
       "\n",
       "    if (name === 'button_press')\n",
       "    {\n",
       "        this.canvas.focus();\n",
       "        this.canvas_div.focus();\n",
       "    }\n",
       "\n",
       "    var x = canvas_pos.x * mpl.ratio;\n",
       "    var y = canvas_pos.y * mpl.ratio;\n",
       "\n",
       "    this.send_message(name, {x: x, y: y, button: event.button,\n",
       "                             step: event.step,\n",
       "                             guiEvent: simpleKeys(event)});\n",
       "\n",
       "    /* This prevents the web browser from automatically changing to\n",
       "     * the text insertion cursor when the button is pressed.  We want\n",
       "     * to control all of the cursor setting manually through the\n",
       "     * 'cursor' event from matplotlib */\n",
       "    event.preventDefault();\n",
       "    return false;\n",
       "}\n",
       "\n",
       "mpl.figure.prototype._key_event_extra = function(event, name) {\n",
       "    // Handle any extra behaviour associated with a key event\n",
       "}\n",
       "\n",
       "mpl.figure.prototype.key_event = function(event, name) {\n",
       "\n",
       "    // Prevent repeat events\n",
       "    if (name == 'key_press')\n",
       "    {\n",
       "        if (event.which === this._key)\n",
       "            return;\n",
       "        else\n",
       "            this._key = event.which;\n",
       "    }\n",
       "    if (name == 'key_release')\n",
       "        this._key = null;\n",
       "\n",
       "    var value = '';\n",
       "    if (event.ctrlKey && event.which != 17)\n",
       "        value += \"ctrl+\";\n",
       "    if (event.altKey && event.which != 18)\n",
       "        value += \"alt+\";\n",
       "    if (event.shiftKey && event.which != 16)\n",
       "        value += \"shift+\";\n",
       "\n",
       "    value += 'k';\n",
       "    value += event.which.toString();\n",
       "\n",
       "    this._key_event_extra(event, name);\n",
       "\n",
       "    this.send_message(name, {key: value,\n",
       "                             guiEvent: simpleKeys(event)});\n",
       "    return false;\n",
       "}\n",
       "\n",
       "mpl.figure.prototype.toolbar_button_onclick = function(name) {\n",
       "    if (name == 'download') {\n",
       "        this.handle_save(this, null);\n",
       "    } else {\n",
       "        this.send_message(\"toolbar_button\", {name: name});\n",
       "    }\n",
       "};\n",
       "\n",
       "mpl.figure.prototype.toolbar_button_onmouseover = function(tooltip) {\n",
       "    this.message.textContent = tooltip;\n",
       "};\n",
       "mpl.toolbar_items = [[\"Home\", \"Reset original view\", \"fa fa-home icon-home\", \"home\"], [\"Back\", \"Back to  previous view\", \"fa fa-arrow-left icon-arrow-left\", \"back\"], [\"Forward\", \"Forward to next view\", \"fa fa-arrow-right icon-arrow-right\", \"forward\"], [\"\", \"\", \"\", \"\"], [\"Pan\", \"Pan axes with left mouse, zoom with right\", \"fa fa-arrows icon-move\", \"pan\"], [\"Zoom\", \"Zoom to rectangle\", \"fa fa-square-o icon-check-empty\", \"zoom\"], [\"\", \"\", \"\", \"\"], [\"Download\", \"Download plot\", \"fa fa-floppy-o icon-save\", \"download\"]];\n",
       "\n",
       "mpl.extensions = [\"eps\", \"pdf\", \"png\", \"ps\", \"raw\", \"svg\"];\n",
       "\n",
       "mpl.default_extension = \"png\";var comm_websocket_adapter = function(comm) {\n",
       "    // Create a \"websocket\"-like object which calls the given IPython comm\n",
       "    // object with the appropriate methods. Currently this is a non binary\n",
       "    // socket, so there is still some room for performance tuning.\n",
       "    var ws = {};\n",
       "\n",
       "    ws.close = function() {\n",
       "        comm.close()\n",
       "    };\n",
       "    ws.send = function(m) {\n",
       "        //console.log('sending', m);\n",
       "        comm.send(m);\n",
       "    };\n",
       "    // Register the callback with on_msg.\n",
       "    comm.on_msg(function(msg) {\n",
       "        //console.log('receiving', msg['content']['data'], msg);\n",
       "        // Pass the mpl event to the overriden (by mpl) onmessage function.\n",
       "        ws.onmessage(msg['content']['data'])\n",
       "    });\n",
       "    return ws;\n",
       "}\n",
       "\n",
       "mpl.mpl_figure_comm = function(comm, msg) {\n",
       "    // This is the function which gets called when the mpl process\n",
       "    // starts-up an IPython Comm through the \"matplotlib\" channel.\n",
       "\n",
       "    var id = msg.content.data.id;\n",
       "    // Get hold of the div created by the display call when the Comm\n",
       "    // socket was opened in Python.\n",
       "    var element = $(\"#\" + id);\n",
       "    var ws_proxy = comm_websocket_adapter(comm)\n",
       "\n",
       "    function ondownload(figure, format) {\n",
       "        window.open(figure.imageObj.src);\n",
       "    }\n",
       "\n",
       "    var fig = new mpl.figure(id, ws_proxy,\n",
       "                           ondownload,\n",
       "                           element.get(0));\n",
       "\n",
       "    // Call onopen now - mpl needs it, as it is assuming we've passed it a real\n",
       "    // web socket which is closed, not our websocket->open comm proxy.\n",
       "    ws_proxy.onopen();\n",
       "\n",
       "    fig.parent_element = element.get(0);\n",
       "    fig.cell_info = mpl.find_output_cell(\"<div id='\" + id + \"'></div>\");\n",
       "    if (!fig.cell_info) {\n",
       "        console.error(\"Failed to find cell for figure\", id, fig);\n",
       "        return;\n",
       "    }\n",
       "\n",
       "    var output_index = fig.cell_info[2]\n",
       "    var cell = fig.cell_info[0];\n",
       "\n",
       "};\n",
       "\n",
       "mpl.figure.prototype.handle_close = function(fig, msg) {\n",
       "    var width = fig.canvas.width/mpl.ratio\n",
       "    fig.root.unbind('remove')\n",
       "\n",
       "    // Update the output cell to use the data from the current canvas.\n",
       "    fig.push_to_output();\n",
       "    var dataURL = fig.canvas.toDataURL();\n",
       "    // Re-enable the keyboard manager in IPython - without this line, in FF,\n",
       "    // the notebook keyboard shortcuts fail.\n",
       "    IPython.keyboard_manager.enable()\n",
       "    $(fig.parent_element).html('<img src=\"' + dataURL + '\" width=\"' + width + '\">');\n",
       "    fig.close_ws(fig, msg);\n",
       "}\n",
       "\n",
       "mpl.figure.prototype.close_ws = function(fig, msg){\n",
       "    fig.send_message('closing', msg);\n",
       "    // fig.ws.close()\n",
       "}\n",
       "\n",
       "mpl.figure.prototype.push_to_output = function(remove_interactive) {\n",
       "    // Turn the data on the canvas into data in the output cell.\n",
       "    var width = this.canvas.width/mpl.ratio\n",
       "    var dataURL = this.canvas.toDataURL();\n",
       "    this.cell_info[1]['text/html'] = '<img src=\"' + dataURL + '\" width=\"' + width + '\">';\n",
       "}\n",
       "\n",
       "mpl.figure.prototype.updated_canvas_event = function() {\n",
       "    // Tell IPython that the notebook contents must change.\n",
       "    IPython.notebook.set_dirty(true);\n",
       "    this.send_message(\"ack\", {});\n",
       "    var fig = this;\n",
       "    // Wait a second, then push the new image to the DOM so\n",
       "    // that it is saved nicely (might be nice to debounce this).\n",
       "    setTimeout(function () { fig.push_to_output() }, 1000);\n",
       "}\n",
       "\n",
       "mpl.figure.prototype._init_toolbar = function() {\n",
       "    var fig = this;\n",
       "\n",
       "    var nav_element = $('<div/>')\n",
       "    nav_element.attr('style', 'width: 100%');\n",
       "    this.root.append(nav_element);\n",
       "\n",
       "    // Define a callback function for later on.\n",
       "    function toolbar_event(event) {\n",
       "        return fig.toolbar_button_onclick(event['data']);\n",
       "    }\n",
       "    function toolbar_mouse_event(event) {\n",
       "        return fig.toolbar_button_onmouseover(event['data']);\n",
       "    }\n",
       "\n",
       "    for(var toolbar_ind in mpl.toolbar_items){\n",
       "        var name = mpl.toolbar_items[toolbar_ind][0];\n",
       "        var tooltip = mpl.toolbar_items[toolbar_ind][1];\n",
       "        var image = mpl.toolbar_items[toolbar_ind][2];\n",
       "        var method_name = mpl.toolbar_items[toolbar_ind][3];\n",
       "\n",
       "        if (!name) { continue; };\n",
       "\n",
       "        var button = $('<button class=\"btn btn-default\" href=\"#\" title=\"' + name + '\"><i class=\"fa ' + image + ' fa-lg\"></i></button>');\n",
       "        button.click(method_name, toolbar_event);\n",
       "        button.mouseover(tooltip, toolbar_mouse_event);\n",
       "        nav_element.append(button);\n",
       "    }\n",
       "\n",
       "    // Add the status bar.\n",
       "    var status_bar = $('<span class=\"mpl-message\" style=\"text-align:right; float: right;\"/>');\n",
       "    nav_element.append(status_bar);\n",
       "    this.message = status_bar[0];\n",
       "\n",
       "    // Add the close button to the window.\n",
       "    var buttongrp = $('<div class=\"btn-group inline pull-right\"></div>');\n",
       "    var button = $('<button class=\"btn btn-mini btn-primary\" href=\"#\" title=\"Stop Interaction\"><i class=\"fa fa-power-off icon-remove icon-large\"></i></button>');\n",
       "    button.click(function (evt) { fig.handle_close(fig, {}); } );\n",
       "    button.mouseover('Stop Interaction', toolbar_mouse_event);\n",
       "    buttongrp.append(button);\n",
       "    var titlebar = this.root.find($('.ui-dialog-titlebar'));\n",
       "    titlebar.prepend(buttongrp);\n",
       "}\n",
       "\n",
       "mpl.figure.prototype._root_extra_style = function(el){\n",
       "    var fig = this\n",
       "    el.on(\"remove\", function(){\n",
       "\tfig.close_ws(fig, {});\n",
       "    });\n",
       "}\n",
       "\n",
       "mpl.figure.prototype._canvas_extra_style = function(el){\n",
       "    // this is important to make the div 'focusable\n",
       "    el.attr('tabindex', 0)\n",
       "    // reach out to IPython and tell the keyboard manager to turn it's self\n",
       "    // off when our div gets focus\n",
       "\n",
       "    // location in version 3\n",
       "    if (IPython.notebook.keyboard_manager) {\n",
       "        IPython.notebook.keyboard_manager.register_events(el);\n",
       "    }\n",
       "    else {\n",
       "        // location in version 2\n",
       "        IPython.keyboard_manager.register_events(el);\n",
       "    }\n",
       "\n",
       "}\n",
       "\n",
       "mpl.figure.prototype._key_event_extra = function(event, name) {\n",
       "    var manager = IPython.notebook.keyboard_manager;\n",
       "    if (!manager)\n",
       "        manager = IPython.keyboard_manager;\n",
       "\n",
       "    // Check for shift+enter\n",
       "    if (event.shiftKey && event.which == 13) {\n",
       "        this.canvas_div.blur();\n",
       "        // select the cell after this one\n",
       "        var index = IPython.notebook.find_cell_index(this.cell_info[0]);\n",
       "        IPython.notebook.select(index + 1);\n",
       "    }\n",
       "}\n",
       "\n",
       "mpl.figure.prototype.handle_save = function(fig, msg) {\n",
       "    fig.ondownload(fig, null);\n",
       "}\n",
       "\n",
       "\n",
       "mpl.find_output_cell = function(html_output) {\n",
       "    // Return the cell and output element which can be found *uniquely* in the notebook.\n",
       "    // Note - this is a bit hacky, but it is done because the \"notebook_saving.Notebook\"\n",
       "    // IPython event is triggered only after the cells have been serialised, which for\n",
       "    // our purposes (turning an active figure into a static one), is too late.\n",
       "    var cells = IPython.notebook.get_cells();\n",
       "    var ncells = cells.length;\n",
       "    for (var i=0; i<ncells; i++) {\n",
       "        var cell = cells[i];\n",
       "        if (cell.cell_type === 'code'){\n",
       "            for (var j=0; j<cell.output_area.outputs.length; j++) {\n",
       "                var data = cell.output_area.outputs[j];\n",
       "                if (data.data) {\n",
       "                    // IPython >= 3 moved mimebundle to data attribute of output\n",
       "                    data = data.data;\n",
       "                }\n",
       "                if (data['text/html'] == html_output) {\n",
       "                    return [cell, data, j];\n",
       "                }\n",
       "            }\n",
       "        }\n",
       "    }\n",
       "}\n",
       "\n",
       "// Register the function which deals with the matplotlib target/channel.\n",
       "// The kernel may be null if the page has been refreshed.\n",
       "if (IPython.notebook.kernel != null) {\n",
       "    IPython.notebook.kernel.comm_manager.register_target('matplotlib', mpl.mpl_figure_comm);\n",
       "}\n"
      ],
      "text/plain": [
       "<IPython.core.display.Javascript object>"
      ]
     },
     "metadata": {},
     "output_type": "display_data"
    },
    {
     "data": {
      "text/html": [
       "<img src=\"data:image/png;base64,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\" width=\"639.999990463257\">"
      ],
      "text/plain": [
       "<IPython.core.display.HTML object>"
      ]
     },
     "metadata": {},
     "output_type": "display_data"
    },
    {
     "name": "stderr",
     "output_type": "stream",
     "text": [
      "IOPub data rate exceeded.\n",
      "The notebook server will temporarily stop sending output\n",
      "to the client in order to avoid crashing it.\n",
      "To change this limit, set the config variable\n",
      "`--NotebookApp.iopub_data_rate_limit`.\n"
     ]
    }
   ],
   "source": [
    "bikeshare = System(olin=10, wellesley=2)\n",
    "newfig()\n",
    "plot_system(bikeshare)\n",
    "decorate_bikeshare()\n",
    "run_steps(bikeshare, 60, 0.4, 0.2)"
   ]
  },
  {
   "cell_type": "markdown",
   "metadata": {},
   "source": [
    "The variables `olin` and `wellesley` are created inside `move_bike`, so they are local.  When the function ends, they go away.\n",
    "\n",
    "If you try to access a local variable from outside its function, you get an error:"
   ]
  },
  {
   "cell_type": "code",
   "execution_count": 16,
   "metadata": {
    "collapsed": true
   },
   "outputs": [],
   "source": [
    "# If you remove the # from the last line in this cell and run it, you'll get\n",
    "# NameError: name 'olin' is not defined\n",
    "\n",
    "#olin"
   ]
  },
  {
   "cell_type": "markdown",
   "metadata": {},
   "source": [
    "**Exercise:** Add print statements in `move_bike` so it prints a message each time a customer arrives and doesn't find a bike.  Run the simulation again to confirm that it works as you expect.  Then you might want to remove the print statements before you go on."
   ]
  },
  {
   "cell_type": "markdown",
   "metadata": {},
   "source": [
    "## Comparison operators"
   ]
  },
  {
   "cell_type": "markdown",
   "metadata": {},
   "source": [
    "The `if` statements in the previous section used the comparison operator `<`.  The other comparison operators are listed in the book.\n",
    "\n",
    "It is easy to confuse the comparison operator `==` with the assignment operator `=`.\n",
    "\n",
    "Remember that `=` creates a variable or gives an existing variable a new value."
   ]
  },
  {
   "cell_type": "code",
   "execution_count": 17,
   "metadata": {
    "collapsed": true
   },
   "outputs": [],
   "source": [
    "x = 5"
   ]
  },
  {
   "cell_type": "markdown",
   "metadata": {},
   "source": [
    "Whereas `==` compared two values and returns `True` if they are equal."
   ]
  },
  {
   "cell_type": "code",
   "execution_count": 18,
   "metadata": {
    "collapsed": true
   },
   "outputs": [],
   "source": [
    "x == 5"
   ]
  },
  {
   "cell_type": "markdown",
   "metadata": {},
   "source": [
    "You can use `==` in an `if` statement."
   ]
  },
  {
   "cell_type": "code",
   "execution_count": 19,
   "metadata": {
    "collapsed": true
   },
   "outputs": [],
   "source": [
    "if x == 5:\n",
    "    print('yes, x is 5')"
   ]
  },
  {
   "cell_type": "markdown",
   "metadata": {},
   "source": [
    "But if you use `=` in an `if` statement, you get an error."
   ]
  },
  {
   "cell_type": "code",
   "execution_count": 20,
   "metadata": {
    "collapsed": true
   },
   "outputs": [],
   "source": [
    "# If you remove the # from the if statement and run it, you'll get\n",
    "# SyntaxError: invalid syntax\n",
    "\n",
    "#if x = 5:\n",
    "#    print('yes, x is 5')"
   ]
  },
  {
   "cell_type": "markdown",
   "metadata": {},
   "source": [
    "**Exercise:** Add an `else` clause to the `if` statement above, and print an appropriate message.\n",
    "\n",
    "Replace the `==` operator with one or two of the other comparison operators, and confirm they do what you expect."
   ]
  },
  {
   "cell_type": "markdown",
   "metadata": {},
   "source": [
    "## Metrics"
   ]
  },
  {
   "cell_type": "markdown",
   "metadata": {},
   "source": [
    "Now that we have a working simulation, we'll use it to evaluate alternative designs and see how good or bad they are.  The metric we'll use is the number of customers who arrive and find no bikes available, which might indicate a design problem."
   ]
  },
  {
   "cell_type": "markdown",
   "metadata": {},
   "source": [
    "First we'll make a new `System` object that creates and initializes the system variables that will keep track of the metrics."
   ]
  },
  {
   "cell_type": "code",
   "execution_count": 21,
   "metadata": {
    "collapsed": true
   },
   "outputs": [],
   "source": [
    "bikeshare = System(olin=10, wellesley=2, \n",
    "                  olin_empty=0, wellesley_empty=0)"
   ]
  },
  {
   "cell_type": "markdown",
   "metadata": {},
   "source": [
    "Next we need a version of `move_bike` that updates the metrics."
   ]
  },
  {
   "cell_type": "code",
   "execution_count": 22,
   "metadata": {
    "collapsed": true
   },
   "outputs": [],
   "source": [
    "def move_bike(system, n):\n",
    "    olin_temp = system.olin - n\n",
    "    if olin_temp < 0:\n",
    "        system.olin_empty += 1\n",
    "        return\n",
    "    \n",
    "    wellesley_temp = system.wellesley + n\n",
    "    if wellesley_temp < 0:\n",
    "        system.wellesley_empty += 1\n",
    "        return\n",
    "    \n",
    "    system.olin = olin_temp\n",
    "    system.wellesley = wellesley_temp"
   ]
  },
  {
   "cell_type": "markdown",
   "metadata": {},
   "source": [
    "Now when we run a simulation, it keeps track of unhappy customers."
   ]
  },
  {
   "cell_type": "code",
   "execution_count": 23,
   "metadata": {
    "collapsed": true
   },
   "outputs": [],
   "source": [
    "newfig()\n",
    "plot_system(bikeshare)\n",
    "decorate_bikeshare()\n",
    "run_steps(bikeshare, 60, 0.4, 0.2)"
   ]
  },
  {
   "cell_type": "markdown",
   "metadata": {},
   "source": [
    "After the simulation, we can print the number of unhappy customers at each location."
   ]
  },
  {
   "cell_type": "code",
   "execution_count": 24,
   "metadata": {
    "collapsed": true
   },
   "outputs": [],
   "source": [
    "bikeshare.olin_empty"
   ]
  },
  {
   "cell_type": "code",
   "execution_count": 25,
   "metadata": {
    "collapsed": true
   },
   "outputs": [],
   "source": [
    "bikeshare.wellesley_empty"
   ]
  },
  {
   "cell_type": "markdown",
   "metadata": {},
   "source": [
    "**Exercise:** Let's add a \"clock\" to keep track of how many time steps have elapsed:\n",
    "\n",
    "1. Add a new system variable named `clock` to `bikeshare`, initialized to 0, and \n",
    "\n",
    "2. Modify `step` so it increments (adds one to) `clock` each time it is invoked.\n",
    "\n",
    "Test your code by adding a print statement that prints the value of `clock` at the beginning of each time step."
   ]
  },
  {
   "cell_type": "code",
   "execution_count": 26,
   "metadata": {
    "collapsed": true
   },
   "outputs": [],
   "source": [
    "# Here's a copy of step to get you started\n",
    "\n",
    "def step(system, p1=0.5, p2=0.5):\n",
    "    \"\"\"Simulate one minute of time.\n",
    "    \n",
    "    system: bikeshare System object\n",
    "    p1: probability of an Olin->Wellesley customer arrival\n",
    "    p2: probability of a Wellesley->Olin customer arrival\n",
    "    \"\"\"\n",
    "    if flip(p1):\n",
    "        bike_to_wellesley(system)\n",
    "    \n",
    "    if flip(p2):\n",
    "        bike_to_olin(system)"
   ]
  },
  {
   "cell_type": "code",
   "execution_count": 27,
   "metadata": {
    "collapsed": true
   },
   "outputs": [],
   "source": [
    "# Solution goes here"
   ]
  },
  {
   "cell_type": "code",
   "execution_count": 28,
   "metadata": {
    "collapsed": true
   },
   "outputs": [],
   "source": [
    "# Solution goes here"
   ]
  },
  {
   "cell_type": "code",
   "execution_count": 29,
   "metadata": {
    "collapsed": true
   },
   "outputs": [],
   "source": [
    "# Solution goes here"
   ]
  },
  {
   "cell_type": "markdown",
   "metadata": {},
   "source": [
    "After the simulation, check the final value of `clock`."
   ]
  },
  {
   "cell_type": "code",
   "execution_count": 30,
   "metadata": {
    "collapsed": true
   },
   "outputs": [],
   "source": [
    "# print(bikeshare.clock)"
   ]
  },
  {
   "cell_type": "markdown",
   "metadata": {},
   "source": [
    "**Exercise:** Now suppose we'd like to know how long it takes to run out of bikes at either location.  Modify `move_bike` so the first time a student arrives at Olin and doesn't find a bike, it records the value of `clock` in a system variable.\n",
    "\n",
    "Hint: create a system variable named `t_first_empty` and initialize it to `-1` to indicate that it has not been set yet.\n",
    "\n",
    "Test your code by running a simulation for 60 minutes and checking the metrics."
   ]
  },
  {
   "cell_type": "code",
   "execution_count": 42,
   "metadata": {
    "collapsed": true
   },
   "outputs": [],
   "source": [
    "# Solution goes here"
   ]
  },
  {
   "cell_type": "code",
   "execution_count": 43,
   "metadata": {
    "collapsed": true
   },
   "outputs": [],
   "source": [
    "# Solution goes here"
   ]
  },
  {
   "cell_type": "code",
   "execution_count": 46,
   "metadata": {
    "collapsed": true
   },
   "outputs": [],
   "source": [
    "# Solution goes here"
   ]
  },
  {
   "cell_type": "markdown",
   "metadata": {},
   "source": [
    "After the simulation, check the final value of `t_first_empty`."
   ]
  },
  {
   "cell_type": "code",
   "execution_count": 48,
   "metadata": {
    "collapsed": true
   },
   "outputs": [],
   "source": [
    "# print(bikeshare.t_first_empty)"
   ]
  },
  {
   "cell_type": "markdown",
   "metadata": {},
   "source": [
    "Before we go on, let's put `step` and `move_bike` back the way we found them, so they don't break the examples below."
   ]
  },
  {
   "cell_type": "code",
   "execution_count": 49,
   "metadata": {
    "collapsed": true
   },
   "outputs": [],
   "source": [
    "def step(system, p1=0.5, p2=0.5):\n",
    "    if flip(p1):\n",
    "        bike_to_wellesley(system)\n",
    "    \n",
    "    if flip(p2):\n",
    "        bike_to_olin(system)\n",
    "\n",
    "def move_bike(system, n):\n",
    "    olin_temp = system.olin - n\n",
    "    if olin_temp < 0:\n",
    "        system.olin_empty += 1\n",
    "        return\n",
    "    \n",
    "    wellesley_temp = system.wellesley + n\n",
    "    if wellesley_temp < 0:\n",
    "        system.wellesley_empty += 1\n",
    "        return\n",
    "    \n",
    "    system.olin = olin_temp\n",
    "    system.wellesley = wellesley_temp"
   ]
  },
  {
   "cell_type": "markdown",
   "metadata": {},
   "source": [
    "## Returning values"
   ]
  },
  {
   "cell_type": "markdown",
   "metadata": {},
   "source": [
    "Here's a simple function that returns a value:"
   ]
  },
  {
   "cell_type": "code",
   "execution_count": 50,
   "metadata": {
    "collapsed": true
   },
   "outputs": [],
   "source": [
    "def add_five(x):\n",
    "    return x + 5"
   ]
  },
  {
   "cell_type": "markdown",
   "metadata": {},
   "source": [
    "And here's how we call it."
   ]
  },
  {
   "cell_type": "code",
   "execution_count": 51,
   "metadata": {
    "collapsed": true
   },
   "outputs": [],
   "source": [
    "y = add_five(3)\n",
    "y"
   ]
  },
  {
   "cell_type": "markdown",
   "metadata": {},
   "source": [
    "If you run a function on the last line of a cell, Jupyter displays the result:"
   ]
  },
  {
   "cell_type": "code",
   "execution_count": 52,
   "metadata": {
    "collapsed": true
   },
   "outputs": [],
   "source": [
    "add_five(5)"
   ]
  },
  {
   "cell_type": "markdown",
   "metadata": {
    "collapsed": true
   },
   "source": [
    "But that can be a bad habit, because usually if you call a function and don't assign the result in a variable, the result gets discarded.\n",
    "\n",
    "In the following example, Jupyter shows the second result, but the first result just disappears."
   ]
  },
  {
   "cell_type": "code",
   "execution_count": 53,
   "metadata": {
    "collapsed": true
   },
   "outputs": [],
   "source": [
    "add_five(3)\n",
    "add_five(5)"
   ]
  },
  {
   "cell_type": "markdown",
   "metadata": {
    "collapsed": true
   },
   "source": [
    "When you call a function that returns a variable, it is generally a good idea to assign the result to a variable."
   ]
  },
  {
   "cell_type": "code",
   "execution_count": 54,
   "metadata": {
    "collapsed": true
   },
   "outputs": [],
   "source": [
    "y1 = add_five(3)\n",
    "y2 = add_five(5)\n",
    "\n",
    "print(y1, y2)"
   ]
  },
  {
   "cell_type": "markdown",
   "metadata": {},
   "source": [
    "**Exercise:** Write a function called `make_system` that creates a `System` object with the system variables `olin=10` and `wellesley=2`, and then returns the new `System` object.\n",
    "\n",
    "Write a line of code that calls `make_system` and assigns the result to a variable."
   ]
  },
  {
   "cell_type": "code",
   "execution_count": 57,
   "metadata": {
    "collapsed": true
   },
   "outputs": [],
   "source": [
    "# Solution goes here"
   ]
  },
  {
   "cell_type": "code",
   "execution_count": 58,
   "metadata": {
    "collapsed": true
   },
   "outputs": [],
   "source": [
    "# Solution goes here"
   ]
  },
  {
   "cell_type": "markdown",
   "metadata": {},
   "source": [
    "## Running simulations"
   ]
  },
  {
   "cell_type": "markdown",
   "metadata": {},
   "source": [
    "Before we go on, I want to update `run_steps` so it doesn't always plot the results.  The new version takes an additional parameter, `plot_flag`, to indicate whether we want to plot.\n",
    "\n",
    "\"flag\" is a conventional name for a boolean variable that indicates whether or not a condition is true.\n",
    "\n",
    "This version of `run_steps` works even if `num_steps` is not an integer.  It uses the `int` function to round down.  See https://docs.python.org/3/library/functions.html#int"
   ]
  },
  {
   "cell_type": "code",
   "execution_count": 59,
   "metadata": {
    "collapsed": true
   },
   "outputs": [],
   "source": [
    "def run_steps(system, num_steps=1, p1=0.5, p2=0.5, plot_flag=True):\n",
    "    \"\"\"Simulate the given number of time steps.\n",
    "    \n",
    "    `num_steps` should be an integer; if not, it gets rounded down.\n",
    "    \n",
    "    system: bikeshare System object\n",
    "    num_steps: number of time steps\n",
    "    p1: probability of an Olin->Wellesley customer arrival\n",
    "    p2: probability of a Wellesley->Olin customer arrival\n",
    "    plot_flag: boolean, whether to plot\n",
    "    \"\"\"\n",
    "    for i in range(int(num_steps)):\n",
    "        step(system, p1, p2)\n",
    "        if plot_flag:\n",
    "            plot_system(system)"
   ]
  },
  {
   "cell_type": "markdown",
   "metadata": {},
   "source": [
    "Now when we run a simulation, we can choose not to plot the results:"
   ]
  },
  {
   "cell_type": "code",
   "execution_count": 61,
   "metadata": {
    "collapsed": true
   },
   "outputs": [],
   "source": [
    "bikeshare = System(olin=10, wellesley=2, \n",
    "                   olin_empty=0, wellesley_empty=0)\n",
    "run_steps(bikeshare, 60, 0.4, 0.2, plot_flag=False)"
   ]
  },
  {
   "cell_type": "markdown",
   "metadata": {},
   "source": [
    "But after the simulation, we can still read the metrics."
   ]
  },
  {
   "cell_type": "code",
   "execution_count": 62,
   "metadata": {
    "collapsed": true
   },
   "outputs": [],
   "source": [
    "bikeshare.olin_empty"
   ]
  },
  {
   "cell_type": "markdown",
   "metadata": {},
   "source": [
    "Let's wrap all that in a function."
   ]
  },
  {
   "cell_type": "code",
   "execution_count": 64,
   "metadata": {
    "collapsed": true
   },
   "outputs": [],
   "source": [
    "def run_simulation():\n",
    "    system = System(olin=10, wellesley=2, \n",
    "                    olin_empty=0, wellesley_empty=0)\n",
    "    run_steps(system, 60, 0.4, 0.2, plot_flag=False)\n",
    "    return system"
   ]
  },
  {
   "cell_type": "markdown",
   "metadata": {},
   "source": [
    "And test it."
   ]
  },
  {
   "cell_type": "code",
   "execution_count": 65,
   "metadata": {
    "collapsed": true
   },
   "outputs": [],
   "source": [
    "system = run_simulation()"
   ]
  },
  {
   "cell_type": "code",
   "execution_count": 66,
   "metadata": {
    "collapsed": true
   },
   "outputs": [],
   "source": [
    "print(system.olin_empty, system.wellesley_empty)"
   ]
  },
  {
   "cell_type": "markdown",
   "metadata": {},
   "source": [
    "If we generalize `run_simulation` to take `p1` and `p2`, we can use it to run simulations with a range of values for the parameters."
   ]
  },
  {
   "cell_type": "code",
   "execution_count": 67,
   "metadata": {
    "collapsed": true
   },
   "outputs": [],
   "source": [
    "def run_simulation(p1=0.4, p2=0.2):\n",
    "    bikeshare = System(olin=10, wellesley=2, \n",
    "                  olin_empty=0, wellesley_empty=0)\n",
    "    run_steps(bikeshare, 60, p1, p2, plot_flag=False)\n",
    "    return bikeshare"
   ]
  },
  {
   "cell_type": "markdown",
   "metadata": {},
   "source": [
    "When `p1` is small, we probably don't run out of bikes at Olin."
   ]
  },
  {
   "cell_type": "code",
   "execution_count": 68,
   "metadata": {
    "collapsed": true
   },
   "outputs": [],
   "source": [
    "system = run_simulation(p1=0.2)\n",
    "system.olin_empty"
   ]
  },
  {
   "cell_type": "markdown",
   "metadata": {},
   "source": [
    "When `p1` is large, we probably do."
   ]
  },
  {
   "cell_type": "code",
   "execution_count": 69,
   "metadata": {
    "collapsed": true
   },
   "outputs": [],
   "source": [
    "system = run_simulation(p1=0.6)\n",
    "system.olin_empty"
   ]
  },
  {
   "cell_type": "markdown",
   "metadata": {
    "collapsed": true
   },
   "source": [
    "**Exercise:**  Write a version of `run_simulation` that takes all five model parameters as function parameters."
   ]
  },
  {
   "cell_type": "code",
   "execution_count": 70,
   "metadata": {
    "collapsed": true
   },
   "outputs": [],
   "source": [
    "# Solution goes here"
   ]
  },
  {
   "cell_type": "code",
   "execution_count": 71,
   "metadata": {
    "collapsed": true
   },
   "outputs": [],
   "source": [
    "# Solution goes here"
   ]
  },
  {
   "cell_type": "markdown",
   "metadata": {
    "collapsed": true
   },
   "source": [
    "## More for loops"
   ]
  },
  {
   "cell_type": "markdown",
   "metadata": {},
   "source": [
    "`linspace` creates a NumPy array of equally spaced numbers."
   ]
  },
  {
   "cell_type": "code",
   "execution_count": 72,
   "metadata": {
    "collapsed": true
   },
   "outputs": [],
   "source": [
    "p1_array = linspace(start=0, stop=1, num=5)\n",
    "p1_array"
   ]
  },
  {
   "cell_type": "markdown",
   "metadata": {},
   "source": [
    "We can use an array in a `for` loop, like this:"
   ]
  },
  {
   "cell_type": "code",
   "execution_count": 73,
   "metadata": {
    "collapsed": true
   },
   "outputs": [],
   "source": [
    "for p1 in p1_array:\n",
    "    print(p1)"
   ]
  },
  {
   "cell_type": "markdown",
   "metadata": {},
   "source": [
    "This will come in handy in the next section."
   ]
  },
  {
   "cell_type": "markdown",
   "metadata": {},
   "source": [
    "**Exercise:** The function `linspace` is part of NumPy.  [You can read the documentation here](https://docs.scipy.org/doc/numpy/reference/generated/numpy.linspace.html).\n",
    "\n",
    "Use `linspace` to make an array of 10 equally spaced numbers from 1 to 10 (including both)."
   ]
  },
  {
   "cell_type": "code",
   "execution_count": 74,
   "metadata": {
    "collapsed": true
   },
   "outputs": [],
   "source": [
    "# Solution goes here"
   ]
  },
  {
   "cell_type": "markdown",
   "metadata": {},
   "source": [
    "**Exercise:** The `modsim` library provides a related function called `linrange`.  You can view the documentation by running the following cell:"
   ]
  },
  {
   "cell_type": "code",
   "execution_count": 75,
   "metadata": {
    "collapsed": true
   },
   "outputs": [],
   "source": [
    "help(linrange)"
   ]
  },
  {
   "cell_type": "markdown",
   "metadata": {},
   "source": [
    "Use `linrange` to make an array of numbers from 1 to 11 with a step size of 2."
   ]
  },
  {
   "cell_type": "code",
   "execution_count": 79,
   "metadata": {
    "collapsed": true
   },
   "outputs": [],
   "source": [
    "# Solution goes here"
   ]
  },
  {
   "cell_type": "markdown",
   "metadata": {
    "collapsed": true
   },
   "source": [
    "## Sweeping parameters"
   ]
  },
  {
   "cell_type": "markdown",
   "metadata": {},
   "source": [
    "The following example runs simulations with a range of values for `p1`; after each simulation, it prints the number of unhappy customers at the Olin station:"
   ]
  },
  {
   "cell_type": "code",
   "execution_count": 80,
   "metadata": {
    "collapsed": true
   },
   "outputs": [],
   "source": [
    "p1_array = linspace(0, 1, 11)\n",
    "p1_array"
   ]
  },
  {
   "cell_type": "code",
   "execution_count": 81,
   "metadata": {
    "collapsed": true
   },
   "outputs": [],
   "source": [
    "for p1 in p1_array:\n",
    "    system = run_simulation(p1=p1)\n",
    "    print(p1, system.olin_empty)"
   ]
  },
  {
   "cell_type": "markdown",
   "metadata": {},
   "source": [
    "Now we can do the same thing, but plotting the results instead of printing them.\n",
    "\n"
   ]
  },
  {
   "cell_type": "code",
   "execution_count": 82,
   "metadata": {
    "collapsed": true
   },
   "outputs": [],
   "source": [
    "newfig()\n",
    "for p1 in p1_array:\n",
    "    system = run_simulation(p1=p1)\n",
    "    plot(p1, system.olin_empty, 'rs', label='olin')"
   ]
  },
  {
   "cell_type": "markdown",
   "metadata": {},
   "source": [
    "As always, we should decorate the figure.  This version of `decorate_bikeshare` takes `xlabel` as a parameter, for reasons you will see soon."
   ]
  },
  {
   "cell_type": "code",
   "execution_count": 83,
   "metadata": {
    "collapsed": true
   },
   "outputs": [],
   "source": [
    "def decorate_bikeshare(xlabel):\n",
    "    decorate(title='Olin-Wellesley Bikeshare',\n",
    "             xlabel=xlabel, \n",
    "             ylabel='Number of unhappy customers')"
   ]
  },
  {
   "cell_type": "code",
   "execution_count": 84,
   "metadata": {
    "collapsed": true
   },
   "outputs": [],
   "source": [
    "decorate_bikeshare(xlabel='Arrival rate at Olin (p1 in customers/min)')"
   ]
  },
  {
   "cell_type": "markdown",
   "metadata": {},
   "source": [
    "**Exercise:** Wrap this code in a function named `parameter_sweep` that takes an array called `p1_array` as a parameter.  It should create a new figure, run a simulation for each value of `p1` in `p1_array`, and plot the results.\n",
    "\n",
    "Once you have the function working, modify it so it also plots the number of unhappy customers at Wellesley.  Looking at the plot, can you estimate a range of values for `p1` that minimizes the total number of unhappy customers?"
   ]
  },
  {
   "cell_type": "code",
   "execution_count": 85,
   "metadata": {
    "collapsed": true
   },
   "outputs": [],
   "source": [
    "# Solution goes here"
   ]
  },
  {
   "cell_type": "markdown",
   "metadata": {},
   "source": []
  },
  {
   "cell_type": "code",
   "execution_count": 86,
   "metadata": {
    "collapsed": true
   },
   "outputs": [],
   "source": [
    "# Solution goes here"
   ]
  },
  {
   "cell_type": "markdown",
   "metadata": {
    "collapsed": true
   },
   "source": [
    "**Exercise:** Write a function called `parameter_sweep2` that runs simulations with `p1=0.2` and a range of values for `p2`.\n",
    "\n",
    "Note: If you run `parameter_sweep2` a few times without calling `newfig`, you can plot multiple runs on the same axes, which will give you a sense of how much random variation there is from one run to the next. "
   ]
  },
  {
   "cell_type": "code",
   "execution_count": 87,
   "metadata": {
    "collapsed": true
   },
   "outputs": [],
   "source": [
    "# Solution goes here"
   ]
  },
  {
   "cell_type": "code",
   "execution_count": 88,
   "metadata": {
    "collapsed": true
   },
   "outputs": [],
   "source": [
    "# Solution goes here"
   ]
  },
  {
   "cell_type": "code",
   "execution_count": 89,
   "metadata": {
    "collapsed": true
   },
   "outputs": [],
   "source": [
    "# Solution goes here"
   ]
  },
  {
   "cell_type": "markdown",
   "metadata": {},
   "source": [
    "**Exercise:** Hold `p1=0.4` and `p2=0.2`, and sweep a range of values for `num_steps`.\n",
    "\n",
    "Hint: You will need a version of `run_simulation` that takes `num_steps` as a parameter.\n",
    "\n",
    "Hint: Because `num_steps` is supposed to be an integer use `range` rather than `linrange`."
   ]
  },
  {
   "cell_type": "code",
   "execution_count": 90,
   "metadata": {
    "collapsed": true
   },
   "outputs": [],
   "source": [
    "# Solution goes here"
   ]
  },
  {
   "cell_type": "code",
   "execution_count": 91,
   "metadata": {
    "collapsed": true
   },
   "outputs": [],
   "source": [
    "# Solution goes here"
   ]
  },
  {
   "cell_type": "code",
   "execution_count": 92,
   "metadata": {
    "collapsed": true,
    "scrolled": false
   },
   "outputs": [],
   "source": [
    "# Solution goes here"
   ]
  },
  {
   "cell_type": "markdown",
   "metadata": {
    "collapsed": true
   },
   "source": [
    "**Exercise:** The code below runs a simulation with the same parameters 10 times and computes the average number of unhappy customers.\n",
    "\n",
    "1.  Wrap this code in a function called `run_simulations` that takes `num_runs` as a parameter.\n",
    "\n",
    "2.  Test `run_simulations`, and increase `num_runs` until the results are reasonably consistent from one run to the next.\n",
    "\n",
    "3.  Generalize `run_simulations` so it also takes the initial value of `olin` as a parameter.\n",
    "\n",
    "4.  Run the generalized version with `olin=12`.  How much do the two extra bikes decrease the average number of unhappy customers.\n",
    "\n",
    "5.  Make a plot that shows the average number of unhappy customers as a function of the initial number of bikes at Olin."
   ]
  },
  {
   "cell_type": "code",
   "execution_count": 93,
   "metadata": {
    "collapsed": true
   },
   "outputs": [],
   "source": [
    "num_runs = 10\n",
    "total = 0\n",
    "for i in range(num_runs):\n",
    "    system = run_simulation(p1=0.4, p2=0.2, olin=10, wellesley=2, num_steps=60)\n",
    "    total += system.olin_empty + system.wellesley_empty\n",
    "total / num_runs"
   ]
  },
  {
   "cell_type": "code",
   "execution_count": 94,
   "metadata": {
    "collapsed": true
   },
   "outputs": [],
   "source": [
    "# Solution goes here"
   ]
  },
  {
   "cell_type": "code",
   "execution_count": 95,
   "metadata": {
    "collapsed": true
   },
   "outputs": [],
   "source": [
    "# Solution goes here"
   ]
  },
  {
   "cell_type": "code",
   "execution_count": 96,
   "metadata": {
    "collapsed": true
   },
   "outputs": [],
   "source": [
    "# Solution goes here"
   ]
  },
  {
   "cell_type": "code",
   "execution_count": 98,
   "metadata": {
    "collapsed": true,
    "scrolled": true
   },
   "outputs": [],
   "source": [
    "# Solution goes here"
   ]
  },
  {
   "cell_type": "code",
   "execution_count": 99,
   "metadata": {
    "collapsed": true
   },
   "outputs": [],
   "source": [
    "# Solution goes here"
   ]
  },
  {
   "cell_type": "code",
   "execution_count": null,
   "metadata": {
    "collapsed": true
   },
   "outputs": [],
   "source": []
  },
  {
   "cell_type": "code",
   "execution_count": null,
   "metadata": {
    "collapsed": true
   },
   "outputs": [],
   "source": []
  }
 ],
 "metadata": {
  "kernelspec": {
   "display_name": "Python 3",
   "language": "python",
   "name": "python3"
  },
  "language_info": {
   "codemirror_mode": {
    "name": "ipython",
    "version": 3
   },
   "file_extension": ".py",
   "mimetype": "text/x-python",
   "name": "python",
   "nbconvert_exporter": "python",
   "pygments_lexer": "ipython3",
   "version": "3.6.1"
  }
 },
 "nbformat": 4,
 "nbformat_minor": 1
}
